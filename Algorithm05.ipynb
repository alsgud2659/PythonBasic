{
  "nbformat": 4,
  "nbformat_minor": 0,
  "metadata": {
    "colab": {
      "name": "Algorithm05.ipynb",
      "provenance": [],
      "authorship_tag": "ABX9TyM4nKBSBgCYP0hkYWMd+Yxa",
      "include_colab_link": true
    },
    "kernelspec": {
      "name": "python3",
      "display_name": "Python 3"
    },
    "language_info": {
      "name": "python"
    }
  },
  "cells": [
    {
      "cell_type": "markdown",
      "metadata": {
        "id": "view-in-github",
        "colab_type": "text"
      },
      "source": [
        "<a href=\"https://colab.research.google.com/github/alsgud2659/ai/blob/main/Algorithm05.ipynb\" target=\"_parent\"><img src=\"https://colab.research.google.com/assets/colab-badge.svg\" alt=\"Open In Colab\"/></a>"
      ]
    },
    {
      "cell_type": "code",
      "execution_count": 20,
      "metadata": {
        "colab": {
          "base_uri": "https://localhost:8080/"
        },
        "id": "tr9Aw3FIxON5",
        "outputId": "2eb817b9-c6ea-4a4f-b68d-8f79f798d41a"
      },
      "outputs": [
        {
          "output_type": "stream",
          "name": "stdout",
          "text": [
            "Enter sting:HeLLo\n",
            "The number of lowercase characters is: 2\n",
            "the number of uppercase characters is: 3\n",
            "None\n",
            "hEllO"
          ]
        }
      ],
      "source": [
        "st = input('Enter sting:')\n",
        "\n",
        "def count_up_lower(st):                                     # 대소문자의 개수를 세는 함수\n",
        "  up_cnt = 0                                                # 대문자의 개수를 저장할 변수\n",
        "  lo_cnt = 0                                                # 소문자의 개수를 저장할 변수\n",
        "\n",
        "  for i in st:                                              # 입력받은 문자열의 길이만큼 반복\n",
        "    if i.isupper():                                         # 입력받은 문자열의 i번째 문자가 대문자인지 확인\n",
        "      up_cnt += 1                                           # 대문자라면 up_cnt를 하나 증가시킴\n",
        "    else:\n",
        "      lo_cnt += 1                                           # 그렇지 않다면 lo_cnt를 하나 증가시킴\n",
        "\n",
        "  print('The number of lowercase characters is:',lo_cnt)    # 소문자의 개수 출력\n",
        "  print('the number of uppercase characters is:',up_cnt)    # 대문자의 개수 출력\n",
        "\n",
        "def swap(st):                                               # 대문자는 소문자로 소문자는 대문자로 바꾸는 함수\n",
        "  for i in st:                                              # 입력받은 문자열의 길이만큼 반복\n",
        "    if i.islower():                                         # 입력받은 문자열이 소문자인지 확인\n",
        "      print(i.upper(), end = '')                            # 입력받은 문자열이 소문자라면 대문자로 변환\n",
        "    elif i.isupper() :                                      # 입력받은 문자열이 대문자인지 확인\n",
        "      print(i.lower(), end = '')                            # 입력받은 문자열이 대문자라면 소문자로 변환\n",
        "\n",
        "print(count_up_lower(st))                                   # 대소문자의 개수를 세는 함수 호출\n",
        "swap(st)                                                    # 대문자는 소문자로 소문자는 대문자로 바꾸는 함수 호출\n",
        "\n"
      ]
    },
    {
      "cell_type": "code",
      "source": [
        "# 에라토스테네스의 체\n",
        "# 소수를 찾아내는 알고리즘 (특정 범위의 수 중에서 소수를 찾는 알고리즘)\n",
        "# 소수는 2 이상의 정수 중 1과 그 수 자신으로만 나눌수 있는 수\n",
        "# 소수는 나열되어 있는 구간이 불규칙하므로 임의 로 찾기 어렵다. \n",
        "\n",
        "# 2 3 5 7 11 13 17 .....\n",
        "\n",
        "# 소수인지 아닌지를 구분하는 것은 의외로 아주 어렵다. \n",
        "\n",
        "# 예를들면 3의 배수는 3,6,9,12,15....처럼 3 간격으로 나열되면 비교적 간단하다. 하지만 소수는 \n",
        "# 규칙성이 없기 때문에 간격이 불규칙하고 랜덤하다. 즉 소수를 한번에 열거하기는 어렵다. \n",
        "\n",
        "# 하나하나 그 수보다 작은 숫자로 나누어 보고 나눌수 있으면 소수가 아닌 것으로 판단할 수 있다. \n",
        "# 이 방법은 비효율적이고, 수의 범위가 커지면 어마어마하게 많은 시간이 요소된다. \n",
        "\n",
        "# 고대 그리스의 에라토스테네스는 위와 같은 방법을 개선하여 소수를 효율적으로 발견하는 방법을\n",
        "# 고안했다. \n",
        "\n",
        "# 에라토스테네스의 체는 '그 수의 제곱근보다 작은 소수의 배수를 없애면 남은 수가 소수다'\n",
        "# 라는 생각을 바탕으로 소수를 찾는 방법을 말한다. \n",
        "\n",
        "# 예를 들면 100 이하의 소수를 모두 찾고 싶으면 가장먼저 100의 제곱근 이하의 소수를 선택한다. \n",
        "# 100의 제곱근은 10이므로 10 이하에서의 모든 소수는 2,3,5,7 네개이다. \n",
        "\n",
        "# 먼저 2부터 100까지 중 2는 남기고 2의 배수를 모두 삭제한다. \n"
      ],
      "metadata": {
        "id": "wGHIRQGPov-m"
      },
      "execution_count": null,
      "outputs": []
    },
    {
      "cell_type": "code",
      "source": [
        "# 나누어 지는 수는 모두 소수가 아니므로 즉, 제곱근 이하의 어느 소수로도 나누어\n",
        "# 떨어지지 않고 끝까지 체에 남아 있는 수가 소수이다.  "
      ],
      "metadata": {
        "id": "TWC-4aI2o0Yt"
      },
      "execution_count": null,
      "outputs": []
    },
    {
      "cell_type": "code",
      "source": [
        "# 에라토스 테네스의 체 알고리즘\n",
        "# 1. 어떤 수 이하의 모든 정수 데이터를 준비\n",
        "# 2. 어떤 수의 제곱근 보다 작은 소수의 배수를 제거한다. \n",
        "# 3. 마지막까지 남은 수를 출력한다"
      ],
      "metadata": {
        "id": "IqmA_4Jqo2uW"
      },
      "execution_count": null,
      "outputs": []
    },
    {
      "cell_type": "code",
      "source": [
        "# 유클리드 알고리즘\n",
        "\n",
        "# 최대 공약수를 구하는 알고리즘\n",
        "# 최대 공약수는 공통의 약수 중에서 가장 큰수를 말한다. \n",
        "# 반복 구조를 이용하여 해결한다는 점에서 프로그래머가 알고 있어야 할 대표적인 알고리즘이다. \n",
        "\n",
        "# 약수  \n",
        "# 3의 약수  1, 3\n",
        "# 4의 약수 1,2,4\n",
        "# 5의 약수 1,5\n",
        "# 6의 약수 1,2,3,6       \n",
        "# 8의 약수 1,2,4,8\n",
        "# 12의 약수 1,2,3,4,6\n",
        "\n",
        "# 공약수 : 공통된 약수\n",
        "# 4,6 의 공약수  1,2\n",
        "# 8,12의 공약수 1.2.4\n",
        "# 6, 12의 공약수 1,2,3,6\n",
        "# 최대공약수 : 공통된 약수들 중 제일 큰 숫자.\n",
        "# 4,6의 최대공약수는 2\n",
        "# 8,12의 최대공약수는 4\n",
        "# 6,12의 최대공약수는 6\n"
      ],
      "metadata": {
        "id": "jRr9c1tVo62S"
      },
      "execution_count": null,
      "outputs": []
    },
    {
      "cell_type": "code",
      "source": [
        "# 유클리드 알고리즘이란? 두수의 나눗셈을 반복하여 최대 공약수를 구한다. \n",
        "\n",
        "# 12 와 6의 최대 공약수\n",
        "\n",
        "12   %   6    =   0  # 나머지가 없이 딱 나누어 떨어지는데 사용된 수가 최대 공약수\n",
        "\n",
        "\n",
        "221 % 143 = 78\n",
        "         143 % 78 = 65\n",
        "                  78 % 65 = 13\n",
        "                          65 % 13 = 0    # 0이 나올때의 나누어준 수 13 이 바로 최대 공약수"
      ],
      "metadata": {
        "id": "iu76pBSgo94D"
      },
      "execution_count": null,
      "outputs": []
    },
    {
      "cell_type": "code",
      "source": [
        "# 나머지를 구하는 나눗셈의 산수 연산자 %를 사용한다. \n",
        "# 딱 나누어 떨어지지 않을 때에 나눗셈을 반복하는 처리를 반복 구조로 표현한다. \n",
        "# 반복 구조에는 선판정형과 후판정형이 있다.  \n",
        "# 선 판정형 구조는 반복 처리에 들어 가기 전에 조건식으로 판정을 실시한다. \n",
        "# 후 판정형 구조는 반복 처리 후에 조건식으로 판정을 실시한다.  do ~ while 자바"
      ],
      "metadata": {
        "id": "Z3d9Q9lSpCEA"
      },
      "execution_count": null,
      "outputs": []
    },
    {
      "cell_type": "code",
      "source": [
        "# 빅오 표기법\n",
        "\n",
        "# 알고리즘이 얼마 빠른지를 표시하는 특별한 방법\n",
        "\n",
        "# 탐색\n",
        "#                   단순 탐색                       이진 탐색\n",
        "# 100개            100밀리초                       7밀리 초\n",
        "# 10000개          10초                            14밀리 초\n",
        "# 1000000000개     11일                            32밀리 초\n",
        "\n",
        "# 원소의 개수가 증가해도 이진탐색 시간은 얼마 늘어나지 않는다. \n",
        "# 하지만 단순탐색의 시간은 어마어마하게 증가 된다. \n",
        "# 원소의 갯수가 커질수록 이진캄색은 훨씬 빨라지게 된다. \n",
        "\n",
        "# 빅오 표기법은 알고리즘이 얼마나 빠른지만 말해준다. \n",
        "\n",
        "# 단순 탐색은 원소를 하나하나 확인하기 때문에 n번 연산을 해야한다. \n",
        "# 빅오 표기법으로는 O(n) 이다. 빅오 표기법은 속도를 시간단위로 세지 않는다. \n",
        "# 빅오 표기법은 연산 횟수를 비교하기 위한 개념이다. \n",
        "# 단순 탐색의 실행시간은 O(n) 로 나타낸다. \n",
        "\n",
        "# O(log n) 이진 탐색\n",
        "\n",
        "# O(n) 선형 시간 , 단순 탐색\n",
        "\n",
        "# O(n * log n) \n",
        "\n",
        "# O(n^2) 선택 정렬, 느린 정렬 알고리즘\n",
        "\n",
        "# O(n!) 외판원 문제, 정말 느린 알고리즘\n",
        "\n",
        "# 알고리즘의 속도는 시간으로 측정하지 않는다. \n",
        "# 알고리즘의 시간은 어떻게 증가하는가로 측정한다. \n",
        "# 알고리즘의 시간은 빅오표기법으로 나타낸다. \n"
      ],
      "metadata": {
        "id": "-d9EMc3JpD5S"
      },
      "execution_count": null,
      "outputs": []
    }
  ]
}
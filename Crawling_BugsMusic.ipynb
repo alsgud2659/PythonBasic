{
 "cells": [
  {
   "cell_type": "code",
   "execution_count": 1,
   "metadata": {},
   "outputs": [],
   "source": [
    "import requests  # 웹 페이지 연결 모듈"
   ]
  },
  {
   "cell_type": "code",
   "execution_count": 4,
   "metadata": {},
   "outputs": [],
   "source": [
    "from bs4 import BeautifulSoup as bs"
   ]
  },
  {
   "cell_type": "code",
   "execution_count": null,
   "metadata": {},
   "outputs": [],
   "source": [
    "import pandas  # 데이터 분석 모듈"
   ]
  },
  {
   "cell_type": "code",
   "execution_count": 28,
   "metadata": {},
   "outputs": [],
   "source": [
    "html = requests.get('https://music.bugs.co.kr/chart')   # 웹 페이지 코드 읽어오기\n",
    "\n",
    "# print(html.text)"
   ]
  },
  {
   "cell_type": "code",
   "execution_count": 27,
   "metadata": {},
   "outputs": [],
   "source": [
    "soup = bs(html.text)  # BeautifulSoup 을 통해 데이터를 분석하기 용이하게 정제한다. \n",
    "# print(soup)"
   ]
  },
  {
   "cell_type": "code",
   "execution_count": 26,
   "metadata": {},
   "outputs": [
    {
     "data": {
      "text/plain": [
       "104"
      ]
     },
     "execution_count": 26,
     "metadata": {},
     "output_type": "execute_result"
    }
   ],
   "source": [
    "len(soup.select('tr'))  # tr태그가 붙은 부분들을 모두 추출"
   ]
  },
  {
   "cell_type": "code",
   "execution_count": 25,
   "metadata": {},
   "outputs": [
    {
     "data": {
      "text/plain": [
       "103"
      ]
     },
     "execution_count": 25,
     "metadata": {},
     "output_type": "execute_result"
    }
   ],
   "source": [
    "len(soup.select('tbody > tr')) # 원하는 100개 아니므로 범위를 축소"
   ]
  },
  {
   "cell_type": "code",
   "execution_count": 24,
   "metadata": {},
   "outputs": [
    {
     "data": {
      "text/plain": [
       "100"
      ]
     },
     "execution_count": 24,
     "metadata": {},
     "output_type": "execute_result"
    }
   ],
   "source": [
    "len(soup.select('table.byChart > tbody > tr'))  # 원하는 100개 아니므로 범위를 축소"
   ]
  },
  {
   "cell_type": "code",
   "execution_count": 7,
   "metadata": {},
   "outputs": [
    {
     "data": {
      "text/plain": [
       "<tr albumid=\"20450649\" artistid=\"80026437\" multiartist=\"N\" mvid=\"606198\" rowtype=\"track\" trackid=\"32466413\">\n",
       "<input name=\"_isStream\" type=\"hidden\" value=\"32466413\"/>\n",
       "<input name=\"_isDown\" type=\"hidden\" value=\"32466413\"/>\n",
       "<td class=\"check\"><input buyminquality=\"T\" disc_id=\"1\" name=\"check\" title=\"INVU\" type=\"checkbox\" value=\"32466413\"/></td>\n",
       "<td>\n",
       "<div class=\"ranking\">\n",
       "<strong>1</strong>\n",
       "<p class=\"change none\"><em>0</em><span>변동없음</span></p>\n",
       "</div>\n",
       "</td>\n",
       "<td>\n",
       "<a class=\"thumbnail\" href=\"https://music.bugs.co.kr/album/20450649?wl_ref=list_tr_07_chart\" onclick=\"\n",
       "\">\n",
       "<span class=\"mask\"></span>\n",
       "<img alt=\"INVU - The 3rd Album 대표이미지\" onerror=\"bugs.utils.imgError(this);\" src=\"https://image.bugsm.co.kr/album/images/50/204506/20450649.jpg?version=20220215002442.0\"/>\n",
       "</a>\n",
       "</td>\n",
       "<td>\n",
       "<a class=\"trackInfo\" href=\"https://music.bugs.co.kr/track/32466413?wl_ref=list_tr_08_chart\" onclick=\"\n",
       "\">곡정보</a>\n",
       "</td>\n",
       "<th scope=\"row\">\n",
       "<p adult_yn=\"N\" class=\"title\">\n",
       "<a adultcheckval=\"1\" aria-label=\"새창\" href=\"javascript:;\" onclick=\"bugs.wiselog.area('list_tr_09_chart');bugs.music.listen('32466413',true);\n",
       "\" title=\"INVU\">INVU</a>\n",
       "</p>\n",
       "</th>\n",
       "<td class=\"left\">\n",
       "<p class=\"artist\">\n",
       "<a href=\"https://music.bugs.co.kr/artist/80026437?wl_ref=list_tr_10_chart\" onclick=\"\n",
       "\" title=\"태연 (TAEYEON)\">태연 (TAEYEON)</a>\n",
       "</p>\n",
       "</td>\n",
       "<td class=\"left\">\n",
       "<a class=\"album\" href=\"https://music.bugs.co.kr/album/20450649?wl_ref=list_tr_11_chart\" onclick=\"\n",
       "\" title=\"INVU - The 3rd Album\">INVU - The 3rd Album</a>\n",
       "</td>\n",
       "<td>\n",
       "<a adultcheckval=\"1\" aria-label=\"새창\" class=\"btn play\" href=\"javascript:;\" onclick=\"bugs.wiselog.area('list_tr_12_chart');bugs.music.listen('32466413',true);\n",
       "\">듣기</a>\n",
       "</td>\n",
       "<td>\n",
       "<a adultcheckval=\"1\" aria-label=\"새창\" class=\"btn addPlaylist\" href=\"javascript:;\" onclick=\"bugs.wiselog.area('list_tr_13_chart');bugs.music.listen('32466413');\n",
       "\">재생목록에 추가</a>\n",
       "</td>\n",
       "<td>\n",
       "<a class=\"btn addAlbum\" href=\"javascript:;\" onclick=\"bugs.wiselog.area('list_tr_14_chart');bugs.music.addTrackToMyAlbum(this,'32466413');\n",
       "\" track_title=\"INVU\">내 앨범에 담기</a>\n",
       "</td>\n",
       "<td>\n",
       "<a adultcheckval=\"1\" aria-label=\"새창\" class=\"btn download flac\" href=\"javascript:;\" onclick=\"bugs.wiselog.area('list_tr_15_chart');bugs.layermenu.down(this,'32466413','true','true','44.1','false','', null );\n",
       "\"><em class=\"flac\">flac </em>다운로드</a>\n",
       "</td>\n",
       "<td>\n",
       "<a aria-label=\"새창\" class=\"btn viewMV\" href=\"javascript:;\" onclick=\"bugs.wiselog.area('list_tr_16_chart');\n",
       "bugs.layermenu.mv(this,32466413, 606198, 'Y', 'Y', 'Y', 'Y', 32466413, 'N','OVER_12', 'Y');\n",
       "\">영상 재생</a>\n",
       "</td>\n",
       "<td>\n",
       "<a artist_disp_nm=\"태연 (TAEYEON)\" artist_id=\"80026437\" class=\"btnActions\" href=\"javascript:;\" layer_type=\"CHART\" layerpositiontarget=\"td\" onclick=\"bugs.wiselog.area('list_tr_17_chart');\n",
       "bugs.layermenu.trackMoreAction(this,'32466413','0','20450649','bugs.music.listenRadioFromSeed(\\'32466413\\',\\'track\\');','N', 'Y', '_chart');\n",
       "\" track_title=\"INVU\">기타 기능</a>\n",
       "</td>\n",
       "</tr>"
      ]
     },
     "execution_count": 7,
     "metadata": {},
     "output_type": "execute_result"
    }
   ],
   "source": [
    "songs = soup.select('table.byChart > tbody > tr')  # -> 최종 100 추출 완료\n",
    "songs[0]"
   ]
  },
  {
   "cell_type": "code",
   "execution_count": 14,
   "metadata": {},
   "outputs": [
    {
     "data": {
      "text/plain": [
       "2"
      ]
     },
     "execution_count": 14,
     "metadata": {},
     "output_type": "execute_result"
    }
   ],
   "source": [
    "len(songs[0].select('p > a'))"
   ]
  },
  {
   "cell_type": "code",
   "execution_count": 13,
   "metadata": {},
   "outputs": [
    {
     "data": {
      "text/plain": [
       "1"
      ]
     },
     "execution_count": 13,
     "metadata": {},
     "output_type": "execute_result"
    }
   ],
   "source": [
    "len(songs[0].select('p.artist > a'))"
   ]
  },
  {
   "cell_type": "code",
   "execution_count": 12,
   "metadata": {},
   "outputs": [
    {
     "data": {
      "text/plain": [
       "'태연 (TAEYEON)'"
      ]
     },
     "execution_count": 12,
     "metadata": {},
     "output_type": "execute_result"
    }
   ],
   "source": [
    "singer = songs[0].select('p.artist > a')[0].text\n",
    "singer"
   ]
  },
  {
   "cell_type": "code",
   "execution_count": 11,
   "metadata": {},
   "outputs": [
    {
     "data": {
      "text/plain": [
       "11"
      ]
     },
     "execution_count": 11,
     "metadata": {},
     "output_type": "execute_result"
    }
   ],
   "source": [
    "len(songs[0].select('a'))"
   ]
  },
  {
   "cell_type": "code",
   "execution_count": 8,
   "metadata": {},
   "outputs": [
    {
     "data": {
      "text/plain": [
       "1"
      ]
     },
     "execution_count": 8,
     "metadata": {},
     "output_type": "execute_result"
    }
   ],
   "source": [
    "len(songs[0].select('p.title > a'))"
   ]
  },
  {
   "cell_type": "code",
   "execution_count": 10,
   "metadata": {},
   "outputs": [
    {
     "data": {
      "text/plain": [
       "'INVU'"
      ]
     },
     "execution_count": 10,
     "metadata": {},
     "output_type": "execute_result"
    }
   ],
   "source": [
    "title = songs[0].select('p.title > a')[0].text\n",
    "title"
   ]
  },
  {
   "cell_type": "code",
   "execution_count": 21,
   "metadata": {},
   "outputs": [
    {
     "data": {
      "text/plain": [
       "[[1, 'INVU', '태연 (TAEYEON)'],\n",
       " [2, '그래서 그래 (Feat. 윤하)', '에픽하이 (EPIK HIGH)'],\n",
       " [3, '그런 밤 (Some Nights)', '태연 (TAEYEON)'],\n",
       " [4, '어른아이 (Toddler)', '태연 (TAEYEON)'],\n",
       " [5, 'Set Myself On Fire', '태연 (TAEYEON)'],\n",
       " [6, '우연처럼,인연처럼,운명처럼', '김기태'],\n",
       " [7, 'Dilemma', 'Apink (에이핑크)'],\n",
       " [8, 'Timeless', '태연 (TAEYEON)'],\n",
       " [9, 'Siren', '태연 (TAEYEON)'],\n",
       " [10, '잊을 수 있을까', '노을'],\n",
       " [11, 'Cold As Hell', '태연 (TAEYEON)'],\n",
       " [12, '품 (Heart)', '태연 (TAEYEON)'],\n",
       " [13, \"Stronger (What Doesn't Kill You)\", 'Kelly Clarkson(켈리 클락슨)'],\n",
       " [14, 'No Love Again', '태연 (TAEYEON)'],\n",
       " [15, '너만 예뻐', '스탠딩 에그(Standing Egg)'],\n",
       " [16, '언제나 사랑해', '케이시'],\n",
       " [17, 'You Better Not', '태연 (TAEYEON)'],\n",
       " [18, 'SMILEY (Feat. BIBI)', 'YENA (최예나)'],\n",
       " [19, 'Ending Credits', '태연 (TAEYEON)'],\n",
       " [20, '아무렇지 않은 척', '빅마마(Big Mama)'],\n",
       " [21, 'ELEVEN', 'IVE (아이브)'],\n",
       " [22, '대낮에 한 이별', '선예'],\n",
       " [23, 'Super Rare (Feat. Wonstein, pH-1)', '에픽하이 (EPIK HIGH)'],\n",
       " [24, 'Prequel', '에픽하이 (EPIK HIGH)'],\n",
       " [25, '취중고백', '김민석 (멜로망스)'],\n",
       " [26, 'Step Back', 'GOT the beat'],\n",
       " [27, 'BRB', '에픽하이 (EPIK HIGH)'],\n",
       " [28, 'Stay Alive (Prod. SUGA of BTS)', '정국'],\n",
       " [29, '사랑은 늘 도망가', '임영웅'],\n",
       " [30, 'DM', '프로미스나인'],\n",
       " [31, \"Can't Control Myself\", '태연 (TAEYEON)'],\n",
       " [32, 'Rich Kids Anthem (Feat. 이하이)', '에픽하이 (EPIK HIGH)'],\n",
       " [33, '사랑하는 척', '바이브'],\n",
       " [34, '너 아니면 안돼', '먼데이 키즈(Monday Kiz)'],\n",
       " [35, '너, 너 (N번째 연애 X 휘인 (Whee In))', '휘인(Whee In)'],\n",
       " [36, 'Dreams Come True', 'aespa'],\n",
       " [37, '드라마', '아이유(IU)'],\n",
       " [38, 'abcdefu', 'GAYLE'],\n",
       " [39, '서랍', '10CM'],\n",
       " [40, '비 오는 날 듣기 좋은 노래 (Feat. Colde)', '에픽하이 (EPIK HIGH)'],\n",
       " [41, 'Starlight', '태일 (TAEIL)'],\n",
       " [42, \"I Hated Myself (Tablo's Word)\", '에픽하이 (EPIK HIGH)'],\n",
       " [43, '눈이 오잖아(Feat.헤이즈)', '이무진'],\n",
       " [44, '회전목마 (Feat. Zion.T, 원슈타인) (Prod. Slom)', 'sokodomo'],\n",
       " [45, '우리가 헤어져야 했던 이유', '비비(BIBI)'],\n",
       " [46, 'Face ID (Feat. GIRIBOY, Sik-K, JUSTHIS)', '에픽하이 (EPIK HIGH)'],\n",
       " [47, 'BOP BOP!', 'VIVIZ (비비지)'],\n",
       " [48, '여름비', '샘김(Sam Kim)'],\n",
       " [49, '다정히 내 이름을 부르면', '경서예지'],\n",
       " [50, 'STAY', 'The Kid LAROI'],\n",
       " [51, 'Christmas Tree', 'V'],\n",
       " [52, 'strawberry moon', '아이유(IU)'],\n",
       " [53, '가족관계증명서 (Feat. 김필)', '에픽하이 (EPIK HIGH)'],\n",
       " [54, 'Next Level', 'aespa'],\n",
       " [55, 'Champagne', '에픽하이 (EPIK HIGH)'],\n",
       " [56, '겨울잠', '아이유(IU)'],\n",
       " [57, '리무진 (Feat. MINO) (Prod. GRAY)', \"BE'O (비오)\"],\n",
       " [58, 'Dynamite', '방탄소년단'],\n",
       " [59, 'Counting Stars (Feat. Beenzino)', \"BE'O (비오)\"],\n",
       " [60, 'My Universe', 'Coldplay(콜드플레이)'],\n",
       " [61, '문득', \"BE'O (비오)\"],\n",
       " [62, 'HOLY MOLY', 'Apink (에이핑크)'],\n",
       " [63, '행복하게 해줄게', '장범준'],\n",
       " [64, 'WA DA DA', 'Kep1er (케플러)'],\n",
       " [65, '만남은 쉽고 이별은 어려워 (Feat. Leellamarz) (Prod. TOIL)', '베이식(Basick)'],\n",
       " [66, 'Butter', '방탄소년단'],\n",
       " [67, '넌 나에게', '기프트(GIFT)'],\n",
       " [68, '슬픈 연극 (금혼령 X 에일리 (Ailee))', '에일리(Ailee)'],\n",
       " [69, '이별후회', '김나영'],\n",
       " [70, 'Light Switch', 'Charlie Puth(찰리 푸스)'],\n",
       " [71, 'Weekend', '태연 (TAEYEON)'],\n",
       " [72, 'Savage', 'aespa'],\n",
       " [73, '신호등', '이무진'],\n",
       " [74, 'Peaches (feat. Daniel Caesar, Giveon)', 'Justin Bieber(저스틴 비버)'],\n",
       " [75, '호랑수월가', '탑현'],\n",
       " [76, '오묘해', '휘인(Whee In)'],\n",
       " [77, 'Bad Habits', 'Ed Sheeran(에드 시런)'],\n",
       " [78, 'Celebrity', '아이유(IU)'],\n",
       " [79, 'Permission to Dance', '방탄소년단'],\n",
       " [80, '낙하 (with 아이유)', 'AKMU(악뮤)'],\n",
       " [81, '흰눈', '먼데이 키즈(Monday Kiz)'],\n",
       " [82, '너의 모든 순간', '성시경'],\n",
       " [83, '라일락', '아이유(IU)'],\n",
       " [84, '언덕나무', '이승윤'],\n",
       " [85, 'Piano For Sale', '에픽하이 (EPIK HIGH)'],\n",
       " [86, '어른', 'Sondia'],\n",
       " [87, 'Off My Face', 'Justin Bieber(저스틴 비버)'],\n",
       " [88, '사랑이 아니었다고 말하지 마요', '이예준'],\n",
       " [89, '너를 생각해', '주시크 (Joosiq)'],\n",
       " [90, 'Here', '에픽하이 (EPIK HIGH)'],\n",
       " [91, 'Tiny Riot', 'Sam Ryder'],\n",
       " [92, '별빛 같은 나의 사랑아', '임영웅'],\n",
       " [93, 'Blueming', '아이유(IU)'],\n",
       " [94, 'Queendom', 'Red Velvet (레드벨벳)'],\n",
       " [95, '모든 날, 모든 순간 (Every day, Every Moment)', '폴킴(Paul Kim)'],\n",
       " [96, '정거장', '아이유(IU)'],\n",
       " [97, 'Polaroid Love', 'ENHYPEN'],\n",
       " [98, '너무 아픈 사랑은 사랑이 아니었음을', '싱어게인2 33호 가수'],\n",
       " [99, '바라만 본다', 'MSG워너비(M.O.M)'],\n",
       " [100, 'OHAYO MY NIGHT', '디핵(D-Hack)']]"
      ]
     },
     "execution_count": 21,
     "metadata": {},
     "output_type": "execute_result"
    }
   ],
   "source": [
    "song_data = []\n",
    "rank = 1\n",
    "\n",
    "for song in songs:\n",
    "    title = song.select('p.title > a')[0].text\n",
    "    singer = song.select('p.artist > a')[0].text\n",
    "    song_data.append([rank, title, singer])\n",
    "    rank += 1\n",
    "\n",
    "song_data"
   ]
  },
  {
   "cell_type": "code",
   "execution_count": 22,
   "metadata": {},
   "outputs": [
    {
     "data": {
      "text/html": [
       "<div>\n",
       "<style scoped>\n",
       "    .dataframe tbody tr th:only-of-type {\n",
       "        vertical-align: middle;\n",
       "    }\n",
       "\n",
       "    .dataframe tbody tr th {\n",
       "        vertical-align: top;\n",
       "    }\n",
       "\n",
       "    .dataframe thead th {\n",
       "        text-align: right;\n",
       "    }\n",
       "</style>\n",
       "<table border=\"1\" class=\"dataframe\">\n",
       "  <thead>\n",
       "    <tr style=\"text-align: right;\">\n",
       "      <th></th>\n",
       "      <th>순위</th>\n",
       "      <th>타이틀</th>\n",
       "      <th>가수</th>\n",
       "    </tr>\n",
       "  </thead>\n",
       "  <tbody>\n",
       "    <tr>\n",
       "      <th>0</th>\n",
       "      <td>1</td>\n",
       "      <td>INVU</td>\n",
       "      <td>태연 (TAEYEON)</td>\n",
       "    </tr>\n",
       "    <tr>\n",
       "      <th>1</th>\n",
       "      <td>2</td>\n",
       "      <td>그래서 그래 (Feat. 윤하)</td>\n",
       "      <td>에픽하이 (EPIK HIGH)</td>\n",
       "    </tr>\n",
       "    <tr>\n",
       "      <th>2</th>\n",
       "      <td>3</td>\n",
       "      <td>그런 밤 (Some Nights)</td>\n",
       "      <td>태연 (TAEYEON)</td>\n",
       "    </tr>\n",
       "    <tr>\n",
       "      <th>3</th>\n",
       "      <td>4</td>\n",
       "      <td>어른아이 (Toddler)</td>\n",
       "      <td>태연 (TAEYEON)</td>\n",
       "    </tr>\n",
       "    <tr>\n",
       "      <th>4</th>\n",
       "      <td>5</td>\n",
       "      <td>Set Myself On Fire</td>\n",
       "      <td>태연 (TAEYEON)</td>\n",
       "    </tr>\n",
       "    <tr>\n",
       "      <th>...</th>\n",
       "      <td>...</td>\n",
       "      <td>...</td>\n",
       "      <td>...</td>\n",
       "    </tr>\n",
       "    <tr>\n",
       "      <th>95</th>\n",
       "      <td>96</td>\n",
       "      <td>정거장</td>\n",
       "      <td>아이유(IU)</td>\n",
       "    </tr>\n",
       "    <tr>\n",
       "      <th>96</th>\n",
       "      <td>97</td>\n",
       "      <td>Polaroid Love</td>\n",
       "      <td>ENHYPEN</td>\n",
       "    </tr>\n",
       "    <tr>\n",
       "      <th>97</th>\n",
       "      <td>98</td>\n",
       "      <td>너무 아픈 사랑은 사랑이 아니었음을</td>\n",
       "      <td>싱어게인2 33호 가수</td>\n",
       "    </tr>\n",
       "    <tr>\n",
       "      <th>98</th>\n",
       "      <td>99</td>\n",
       "      <td>바라만 본다</td>\n",
       "      <td>MSG워너비(M.O.M)</td>\n",
       "    </tr>\n",
       "    <tr>\n",
       "      <th>99</th>\n",
       "      <td>100</td>\n",
       "      <td>OHAYO MY NIGHT</td>\n",
       "      <td>디핵(D-Hack)</td>\n",
       "    </tr>\n",
       "  </tbody>\n",
       "</table>\n",
       "<p>100 rows × 3 columns</p>\n",
       "</div>"
      ],
      "text/plain": [
       "     순위                  타이틀                가수\n",
       "0     1                 INVU      태연 (TAEYEON)\n",
       "1     2    그래서 그래 (Feat. 윤하)  에픽하이 (EPIK HIGH)\n",
       "2     3   그런 밤 (Some Nights)      태연 (TAEYEON)\n",
       "3     4       어른아이 (Toddler)      태연 (TAEYEON)\n",
       "4     5   Set Myself On Fire      태연 (TAEYEON)\n",
       "..  ...                  ...               ...\n",
       "95   96                  정거장           아이유(IU)\n",
       "96   97        Polaroid Love           ENHYPEN\n",
       "97   98  너무 아픈 사랑은 사랑이 아니었음을      싱어게인2 33호 가수\n",
       "98   99               바라만 본다     MSG워너비(M.O.M)\n",
       "99  100       OHAYO MY NIGHT        디핵(D-Hack)\n",
       "\n",
       "[100 rows x 3 columns]"
      ]
     },
     "execution_count": 22,
     "metadata": {},
     "output_type": "execute_result"
    }
   ],
   "source": [
    "import pandas as pd\n",
    "\n",
    "df = pd.DataFrame(song_data, columns = ['순위', '타이틀', '가수'])\n",
    "df"
   ]
  },
  {
   "cell_type": "code",
   "execution_count": 30,
   "metadata": {},
   "outputs": [],
   "source": [
    "df.to_excel('bugs.xlsx', index = False)"
   ]
  }
 ],
 "metadata": {
  "interpreter": {
   "hash": "b3ba2566441a7c06988d0923437866b63cedc61552a5af99d1f4fb67d367b25f"
  },
  "kernelspec": {
   "display_name": "Python 3.9.7 ('base')",
   "language": "python",
   "name": "python3"
  },
  "language_info": {
   "codemirror_mode": {
    "name": "ipython",
    "version": 3
   },
   "file_extension": ".py",
   "mimetype": "text/x-python",
   "name": "python",
   "nbconvert_exporter": "python",
   "pygments_lexer": "ipython3",
   "version": "3.9.7"
  },
  "orig_nbformat": 4
 },
 "nbformat": 4,
 "nbformat_minor": 2
}

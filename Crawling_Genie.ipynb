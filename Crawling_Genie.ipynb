{
 "cells": [
  {
   "cell_type": "code",
   "execution_count": 4,
   "metadata": {},
   "outputs": [],
   "source": [
    "from selenium import webdriver          # 파이썬으로 웹 브라우저 컨트롤\n",
    "from bs4 import BeautifulSoup as bs     # 분석을 용이하게 정제"
   ]
  },
  {
   "cell_type": "code",
   "execution_count": null,
   "metadata": {},
   "outputs": [],
   "source": [
    "driver = webdriver.Chrome('chromedriver.exe')\n",
    "driver.get('https://www.genie.co.kr/chart/top200')"
   ]
  },
  {
   "cell_type": "code",
   "execution_count": null,
   "metadata": {},
   "outputs": [
    {
     "ename": "NameError",
     "evalue": "name 'driver' is not defined",
     "output_type": "error",
     "traceback": [
      "\u001b[1;31m---------------------------------------------------------------------------\u001b[0m",
      "\u001b[1;31mNameError\u001b[0m                                 Traceback (most recent call last)",
      "\u001b[1;32m~\\AppData\\Local\\Temp/ipykernel_28736/185085166.py\u001b[0m in \u001b[0;36m<module>\u001b[1;34m\u001b[0m\n\u001b[1;32m----> 1\u001b[1;33m \u001b[0mhtml\u001b[0m \u001b[1;33m=\u001b[0m \u001b[0mdriver\u001b[0m\u001b[1;33m.\u001b[0m\u001b[0mpage_source\u001b[0m\u001b[1;33m\u001b[0m\u001b[1;33m\u001b[0m\u001b[0m\n\u001b[0m\u001b[0;32m      2\u001b[0m \u001b[0msoup\u001b[0m \u001b[1;33m=\u001b[0m \u001b[0mbs\u001b[0m\u001b[1;33m(\u001b[0m\u001b[0mhtml\u001b[0m\u001b[1;33m)\u001b[0m\u001b[1;33m\u001b[0m\u001b[1;33m\u001b[0m\u001b[0m\n\u001b[0;32m      3\u001b[0m \u001b[0msoup\u001b[0m\u001b[1;33m\u001b[0m\u001b[1;33m\u001b[0m\u001b[0m\n",
      "\u001b[1;31mNameError\u001b[0m: name 'driver' is not defined"
     ]
    }
   ],
   "source": [
    "html = driver.page_source\n",
    "soup = bs(html)\n",
    "soup"
   ]
  },
  {
   "cell_type": "code",
   "execution_count": null,
   "metadata": {},
   "outputs": [
    {
     "data": {
      "text/plain": [
       "50"
      ]
     },
     "execution_count": 11,
     "metadata": {},
     "output_type": "execute_result"
    }
   ],
   "source": [
    "len(soup.select('tr.list'))"
   ]
  },
  {
   "cell_type": "code",
   "execution_count": null,
   "metadata": {},
   "outputs": [
    {
     "ename": "NameError",
     "evalue": "name 'soup' is not defined",
     "output_type": "error",
     "traceback": [
      "\u001b[1;31m---------------------------------------------------------------------------\u001b[0m",
      "\u001b[1;31mNameError\u001b[0m                                 Traceback (most recent call last)",
      "\u001b[1;32m~\\AppData\\Local\\Temp/ipykernel_28736/3790588343.py\u001b[0m in \u001b[0;36m<module>\u001b[1;34m\u001b[0m\n\u001b[1;32m----> 1\u001b[1;33m \u001b[0msongs\u001b[0m \u001b[1;33m=\u001b[0m \u001b[0msoup\u001b[0m\u001b[1;33m.\u001b[0m\u001b[0mselect\u001b[0m\u001b[1;33m(\u001b[0m\u001b[1;34m'tr.list'\u001b[0m\u001b[1;33m)\u001b[0m\u001b[1;33m\u001b[0m\u001b[1;33m\u001b[0m\u001b[0m\n\u001b[0m",
      "\u001b[1;31mNameError\u001b[0m: name 'soup' is not defined"
     ]
    }
   ],
   "source": [
    "songs = soup.select('tr.list')"
   ]
  },
  {
   "cell_type": "code",
   "execution_count": null,
   "metadata": {},
   "outputs": [
    {
     "data": {
      "text/plain": [
       "<tr class=\"list\" songid=\"95990155\">\n",
       "<td class=\"check\"><input class=\"select-check\" title=\"INVU\" type=\"checkbox\"/></td>\n",
       "<td class=\"number\">1\n",
       "                                        \n",
       "                                    <span class=\"rank\">\n",
       "<span class=\"rank\"><span class=\"rank-none\"><span class=\"hide\">유지</span></span></span>\n",
       "</span>\n",
       "</td>\n",
       "<td><a class=\"cover\" href=\"#\" onclick=\"fnViewAlbumLayer('82529386');return false;\"><span class=\"mask\"></span><img alt=\"INVU - The 3rd Album\" onerror=\"this.src='//image.genie.co.kr/imageg/web/common/blank_68.gif';\" src=\"//image.genie.co.kr/Y/IMAGE/IMG_ALBUM/082/529/386/82529386_1644820151763_1_140x140.JPG/dims/resize/Q_80,0\"/></a></td>\n",
       "<td class=\"link\"><a class=\"btn-basic btn-info\" href=\"#\" onclick=\"fnViewSongInfo('95990155');return false;\">곡 제목 정보 페이지</a></td>\n",
       "<td class=\"info\">\n",
       "<a class=\"title ellipsis\" href=\"#\" onclick=\"fnPlaySong('95990155','1');return false;\" title=\"재생\">\n",
       "                                        \n",
       "                                            \n",
       "                                        \n",
       "                                        \n",
       "                                        \n",
       "                                        \n",
       "                                            \n",
       "                                                INVU</a>\n",
       "<a class=\"artist ellipsis\" href=\"#\" onclick=\"fnViewArtist('56069675');return false;\">태연 (TAEYEON)</a>\n",
       "<div class=\"toggle-button-box\">\n",
       "<button class=\"btn artist-etc\" onclick=\"fnRelationArtistList('95990155');\" type=\"button\">외</button>\n",
       "<ul class=\"list\" id=\"RelationArtist_95990155\"></ul>\n",
       "</div>\n",
       "<i class=\"bar\">|</i>\n",
       "<a class=\"albumtitle ellipsis\" href=\"#\" onclick=\"fnViewAlbumLayer('82529386');return false;\">INVU - The 3rd Album</a>\n",
       "</td>\n",
       "<td class=\"btns\"><a class=\"btn-basic btn-listen\" href=\"#\" onclick=\"fnPlaySong('95990155;' ,'1'); return false;\" title=\"재생\">듣기</a></td>\n",
       "<td class=\"btns\"><a class=\"btn-basic btn-add\" href=\"#\" onclick=\"fnPlaySong('95990155;' ,'3'); return false;\" title=\"추가\">재생목록에 추가</a></td>\n",
       "<td class=\"btns\"><button class=\"btn-basic btn-album\" id=\"add_my_album_95990155\" onclick=\"fnAddMyAlbumForm('#add_my_album_95990155' , '95990155' ,10, 10);return false;\" songid=\"95990155\" type=\"button\">플레이리스트에 담기</button></td>\n",
       "<td class=\"btns\"><a class=\"btn-basic btn-down\" href=\"#\" onclick=\"fnDownSong('95990155');return false;\" title=\"다운\">다운로드</a></td>\n",
       "<td class=\"btns\">\n",
       "<div class=\"toggle-button-box lyr-mv\" id=\"list-mv_95990155\">\n",
       "<a alt=\"INVU\" class=\"btn btn-basic btn-mv\" href=\"#\" onclick=\"fnPlayMv('95990155','3'); return false;\" title=\"뮤비\">뮤직비디오 보기</a>\n",
       "</div>\n",
       "</td>\n",
       "<td class=\"more\">\n",
       "<div class=\"toggle-button-box\">\n",
       "<button class=\"btn btn-basic btn-more\" type=\"button\">더보기</button>\n",
       "<ul class=\"list\">\n",
       "<li><a class=\"item\" href=\"#\" onclick=\"shareDo('95990155');return false;\" title=\"공유\">공유하기/음악나누기</a></li>\n",
       "<li><a class=\"item\" href=\"#\" onclick=\"fnGiftSong('95990155');return false;\" title=\"선물\">선물하기</a></li>\n",
       "</ul>\n",
       "</div>\n",
       "</td>\n",
       "</tr>"
      ]
     },
     "execution_count": 15,
     "metadata": {},
     "output_type": "execute_result"
    }
   ],
   "source": [
    "song = songs[0]\n",
    "song"
   ]
  },
  {
   "cell_type": "code",
   "execution_count": null,
   "metadata": {},
   "outputs": [
    {
     "data": {
      "text/plain": [
       "'INVU'"
      ]
     },
     "execution_count": 23,
     "metadata": {},
     "output_type": "execute_result"
    }
   ],
   "source": [
    "title = song.select('a.title')[0].text.strip()\n",
    "title"
   ]
  },
  {
   "cell_type": "code",
   "execution_count": null,
   "metadata": {},
   "outputs": [
    {
     "data": {
      "text/plain": [
       "'태연 (TAEYEON)'"
      ]
     },
     "execution_count": 24,
     "metadata": {},
     "output_type": "execute_result"
    }
   ],
   "source": [
    "singer = song.select('a.artist')[0].text.strip()\n",
    "singer"
   ]
  },
  {
   "cell_type": "code",
   "execution_count": null,
   "metadata": {},
   "outputs": [
    {
     "data": {
      "text/plain": [
       "[[1, 'INVU', '태연 (TAEYEON)'],\n",
       " [2, '그래서 그래 (Feat. 윤하)', '에픽하이 (EPIK HIGH)'],\n",
       " [3, '취중고백', '김민석 (멜로망스)'],\n",
       " [4, '사랑은 늘 도망가', '임영웅'],\n",
       " [5, '잊을 수 있을까', '노을'],\n",
       " [6, '호랑수월가', '탑현'],\n",
       " [7, 'abcdefu', 'GAYLE'],\n",
       " [8, '회전목마 (Feat. Zion.T & 원슈타인) (Prod. by Slom)', 'sokodomo'],\n",
       " [9, '다정히 내 이름을 부르면', '경서예지 & 전건호'],\n",
       " [10, '눈이 오잖아 (Feat. 헤이즈)', '이무진'],\n",
       " [11, 'ELEVEN', 'IVE (아이브)'],\n",
       " [12, '리무진 (Feat. MINO) (Prod. by GRAY)', \"BE'O (비오)\"],\n",
       " [13, 'Step Back', 'GOT the beat'],\n",
       " [14, '서랍', '10CM'],\n",
       " [15, 'strawberry moon', '아이유 (IU)'],\n",
       " [16, '그런 밤 (Some Nights)', '태연 (TAEYEON)'],\n",
       " [17, '이제 나만 믿어요', '임영웅'],\n",
       " [18, 'Counting Stars (Feat. Beenzino)', \"BE'O (비오)\"],\n",
       " [19, '신호등', '이무진'],\n",
       " [20, '다시 사랑한다면 (김필 Ver.)', '임영웅'],\n",
       " [21, 'Stay', 'The Kid LAROI & Justin Bieber'],\n",
       " [22, '언제나 사랑해', '케이시 (Kassy)'],\n",
       " [23, '겨울잠', '아이유 (IU)'],\n",
       " [24, \"Can't Control Myself\", '태연 (TAEYEON)'],\n",
       " [25, '별빛 같은 나의 사랑아', '임영웅'],\n",
       " [26, '잊었니', '임영웅'],\n",
       " [27, 'Next Level', 'aespa'],\n",
       " [28, '그대라는 사치', '임영웅'],\n",
       " [29, '끝사랑', '임영웅'],\n",
       " [30, 'HERO', '임영웅'],\n",
       " [31, 'Bk Love', '임영웅'],\n",
       " [32, '흰눈', '먼데이 키즈 (Monday Kiz)'],\n",
       " [33, '만남은 쉽고 이별은 어려워 (Feat. Leellamarz) (Prod. by TOIL)', '베이식'],\n",
       " [34, '문득', \"BE'O (비오)\"],\n",
       " [35, 'Dreams Come True', 'aespa'],\n",
       " [36, '어른아이 (Toddler)', '태연 (TAEYEON)'],\n",
       " [37, 'Dilemma', 'Apink (에이핑크)'],\n",
       " [38, '계단말고 엘리베이터', '임영웅'],\n",
       " [39, 'Bad Habits', 'Ed Sheeran'],\n",
       " [40, 'OHAYO MY NIGHT', '디핵 (D-Hack) & PATEKO'],\n",
       " [41, '우리가 헤어져야 했던 이유', '비비 (BIBI)'],\n",
       " [42, '바라만 본다', 'MSG워너비 (M.O.M)'],\n",
       " [43, 'Butter', '방탄소년단'],\n",
       " [44, '밤하늘의 별을 (2020)', '경서'],\n",
       " [45, 'Set Myself On Fire', '태연 (TAEYEON)'],\n",
       " [46, 'My Universe', 'Coldplay & 방탄소년단'],\n",
       " [47, 'Savage', 'aespa'],\n",
       " [48, '드라마', '아이유 (IU)'],\n",
       " [49, 'Dynamite', '방탄소년단'],\n",
       " [50, 'Permission to Dance', '방탄소년단']]"
      ]
     },
     "execution_count": 26,
     "metadata": {},
     "output_type": "execute_result"
    }
   ],
   "source": [
    "song_data = []\n",
    "rank = 1\n",
    "\n",
    "songs = soup.select('tr.list')\n",
    "\n",
    "for song in songs:\n",
    "    title = song.select('a.title')[0].text.strip()\n",
    "    singer = song.select('a.artist')[0].text.strip()\n",
    "    song_data.append([rank, title, singer])\n",
    "    rank += 1\n",
    "\n",
    "song_data"
   ]
  },
  {
   "cell_type": "code",
   "execution_count": null,
   "metadata": {},
   "outputs": [],
   "source": [
    "import pandas as pd\n",
    "\n",
    "df = pd.DataFrame(song_data, columns = ['순위', '타이틀', '가수'])\n",
    "df.to_excel('Genie.xlsx', index = False)"
   ]
  }
 ],
 "metadata": {
  "interpreter": {
   "hash": "b3ba2566441a7c06988d0923437866b63cedc61552a5af99d1f4fb67d367b25f"
  },
  "kernelspec": {
   "display_name": "Python 3.9.7 ('base')",
   "language": "python",
   "name": "python3"
  },
  "language_info": {
   "codemirror_mode": {
    "name": "ipython",
    "version": 3
   },
   "file_extension": ".py",
   "mimetype": "text/x-python",
   "name": "python",
   "nbconvert_exporter": "python",
   "pygments_lexer": "ipython3",
   "version": "3.9.7"
  },
  "orig_nbformat": 4
 },
 "nbformat": 4,
 "nbformat_minor": 2
}

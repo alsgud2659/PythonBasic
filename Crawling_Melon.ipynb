{
 "cells": [
  {
   "cell_type": "code",
   "execution_count": 3,
   "metadata": {},
   "outputs": [],
   "source": [
    "from selenium import webdriver          # 파이썬으로 웹 브라우저 컨트롤\n",
    "from bs4 import BeautifulSoup as bs     # 분석을 용이하게 정제"
   ]
  },
  {
   "cell_type": "code",
   "execution_count": 4,
   "metadata": {},
   "outputs": [
    {
     "name": "stderr",
     "output_type": "stream",
     "text": [
      "C:\\Users\\LEE\\AppData\\Local\\Temp/ipykernel_12076/939732513.py:1: DeprecationWarning: executable_path has been deprecated, please pass in a Service object\n",
      "  driver = webdriver.Chrome('chromedriver.exe')\n"
     ]
    }
   ],
   "source": [
    "driver = webdriver.Chrome('chromedriver.exe')\n",
    "driver.get('https://www.melon.com/chart/index.htm')\n"
   ]
  },
  {
   "cell_type": "code",
   "execution_count": null,
   "metadata": {},
   "outputs": [],
   "source": [
    "html = driver.page_source\n",
    "soup = bs(html)\n",
    "soup"
   ]
  },
  {
   "cell_type": "code",
   "execution_count": 6,
   "metadata": {},
   "outputs": [
    {
     "data": {
      "text/plain": [
       "100"
      ]
     },
     "execution_count": 6,
     "metadata": {},
     "output_type": "execute_result"
    }
   ],
   "source": [
    "len(soup.select('tbody > tr'))"
   ]
  },
  {
   "cell_type": "code",
   "execution_count": null,
   "metadata": {},
   "outputs": [],
   "source": [
    "songs = soup.select('tbody > tr')\n",
    "song = songs[0]\n",
    "song"
   ]
  },
  {
   "cell_type": "code",
   "execution_count": 8,
   "metadata": {},
   "outputs": [
    {
     "data": {
      "text/plain": [
       "[[1, '사랑은 늘 도망가', '임영웅'],\n",
       " [2, 'INVU', '태연 (TAEYEON)'],\n",
       " [3, '취중고백', '김민석 (멜로망스)'],\n",
       " [4, 'ELEVEN', 'IVE (아이브)'],\n",
       " [5, 'Step Back', 'GOT the beat'],\n",
       " [6, '회전목마 (Feat. Zion.T, 원슈타인) (Prod. Slom)', 'sokodomo'],\n",
       " [7, '호랑수월가', '탑현'],\n",
       " [8, '언제나 사랑해', '케이시 (Kassy)'],\n",
       " [9, '리무진 (Feat. MINO) (Prod. GRAY)', \"BE'O (비오)\"],\n",
       " [10, '이제 나만 믿어요', '임영웅'],\n",
       " [11, 'SMILEY (Feat. BIBI)', 'YENA (최예나)'],\n",
       " [12, 'Counting Stars (Feat. Beenzino)', \"BE'O (비오)\"],\n",
       " [13, '다정히 내 이름을 부르면', '경서예지'],\n",
       " [14, '눈이 오잖아(Feat.헤이즈)', '이무진'],\n",
       " [15, 'Dreams Come True', 'aespa'],\n",
       " [16, \"Can't Control Myself\", '태연 (TAEYEON)'],\n",
       " [17, '다시 사랑한다면 (김필 Ver.)', '임영웅'],\n",
       " [18, '겨울잠', '아이유'],\n",
       " [19, 'STAY', 'The Kid LAROI'],\n",
       " [20, '잊을 수 있을까', '노을'],\n",
       " [21, '그대라는 사치', '임영웅'],\n",
       " [22, '별빛 같은 나의 사랑아', '임영웅'],\n",
       " [23, '신호등', '이무진'],\n",
       " [24, 'strawberry moon', '아이유'],\n",
       " [25, 'Next Level', 'aespa'],\n",
       " [26, '잊었니', '임영웅'],\n",
       " [27, 'HERO', '임영웅'],\n",
       " [28, 'abcdefu', 'GAYLE'],\n",
       " [29, '끝사랑', '임영웅'],\n",
       " [30, '너 아니면 안돼', '먼데이 키즈 (Monday Kiz)'],\n",
       " [31, 'Christmas Tree', 'V'],\n",
       " [32, '만남은 쉽고 이별은 어려워 (Feat. Leellamarz) (Prod. TOIL)', '베이식 (Basick)'],\n",
       " [33, 'Savage', 'aespa'],\n",
       " [34, 'Butter', '방탄소년단'],\n",
       " [35, '드라마', '아이유'],\n",
       " [36, 'Bk Love', '임영웅'],\n",
       " [37, 'Satellite', '수지'],\n",
       " [38, 'Dynamite', '방탄소년단'],\n",
       " [39, '그래서 그래 (Feat. 윤하)', '에픽하이 (EPIK HIGH)'],\n",
       " [40, '언덕나무', '이승윤'],\n",
       " [41, '너, 너 (N번째 연애 X 휘인 (Whee In))', '휘인 (Whee In)'],\n",
       " [42, '서랍', '10CM'],\n",
       " [43, 'Permission to Dance', '방탄소년단'],\n",
       " [44, '너를 생각해', '주시크 (Joosiq)'],\n",
       " [45, '우리가 헤어져야 했던 이유', '비비 (BIBI)'],\n",
       " [46, '흰눈', '먼데이 키즈 (Monday Kiz)'],\n",
       " [47, 'My Universe', 'Coldplay'],\n",
       " [48, 'OHAYO MY NIGHT', '디핵 (D-Hack)'],\n",
       " [49, '계단말고 엘리베이터', '임영웅'],\n",
       " [50, 'Weekend', '태연 (TAEYEON)'],\n",
       " [51, '문득', \"BE'O (비오)\"],\n",
       " [52, '바라만 본다', 'MSG워너비(M.O.M)'],\n",
       " [53, '네가 없는 밤 (Feat. ASH ISLAND) (Prod. GRAY)', \"BE'O (비오)\"],\n",
       " [54, 'Celebrity', '아이유'],\n",
       " [55, '라일락', '아이유'],\n",
       " [56, \"Good Night (Feat. BE'O)\", '쿠기 (Coogie)'],\n",
       " [57, '불협화음 (Feat. AKMU) (Prod. GRAY)', 'Mudd the student'],\n",
       " [58, '낙하 (with 아이유)', 'AKMU (악뮤)'],\n",
       " [59, '그런 밤 (Some Nights)', '태연 (TAEYEON)'],\n",
       " [60, '밤하늘의 별을(2020)', '경서'],\n",
       " [61, '사랑이 아니었다고 말하지 마요', '이예준'],\n",
       " [62, '대낮에 한 이별', '선예'],\n",
       " [63, 'Bad Habits', 'Ed Sheeran'],\n",
       " [64, '헤픈 우연', '헤이즈 (Heize)'],\n",
       " [65, '사이렌 Remix (Feat. UNEDUCATED KID, Paul Blanco)', '호미들'],\n",
       " [66, '쉬어 (Feat. MINO) (Prod. GRAY)', '아넌딜라이트(Anandelight)'],\n",
       " [67, '모든 날, 모든 순간 (Every day, Every Moment)', '폴킴'],\n",
       " [68, 'Wake Up (Prod. 코드 쿤스트)', '개코'],\n",
       " [69, '너의 모든 순간', '성시경'],\n",
       " [70, '찰나가 영원이 될 때 (The Eternal Moment)', '마크툽 (MAKTUB)'],\n",
       " [71, '그게 더 편할 것 같아 (N번째 연애 X 멜로망스)', '멜로망스'],\n",
       " [72, '어떻게 이별까지 사랑하겠어, 널 사랑하는 거지', 'AKMU (악뮤)'],\n",
       " [73, 'Off My Face', 'Justin Bieber'],\n",
       " [74, '내 손을 잡아', '아이유'],\n",
       " [75, '봄날', '방탄소년단'],\n",
       " [76, '고백', '멜로망스'],\n",
       " [77, '강변북로', '황인욱'],\n",
       " [78, 'Stay Alive (Prod. SUGA of BTS)', '정국'],\n",
       " [79, '작은 것들을 위한 시 (Boy With Luv) (Feat. Halsey)', '방탄소년단'],\n",
       " [80, \"롤린 (Rollin')\", '브레이브걸스'],\n",
       " [81, '추억은 만남보다 이별에 남아', '정동하'],\n",
       " [82, 'Blueming', '아이유'],\n",
       " [83, '이별후회', '김나영'],\n",
       " [84, 'Dun Dun Dance', '오마이걸 (OH MY GIRL)'],\n",
       " [85, 'Because', 'ASH ISLAND'],\n",
       " [86, 'Savage Love (Laxed - Siren Beat) (BTS Remix)', 'Jawsh 685'],\n",
       " [87, '밝게 빛나는 별이 되어 비춰줄게', '송이한'],\n",
       " [88, 'Dilemma', 'Apink (에이핑크)'],\n",
       " [89, '오늘도 빛나는 너에게 (To You My Light) (Feat.이라온)', '마크툽 (MAKTUB)'],\n",
       " [90, 'DM', '프로미스나인'],\n",
       " [91, '여름비', '샘김 (Sam Kim)'],\n",
       " [92, '취기를 빌려 (취향저격 그녀 X 산들)', '산들'],\n",
       " [93, '시간을 거슬러 (낮에 뜨는 달 X 케이윌)', '케이윌'],\n",
       " [94, '비가 오는 날엔 (2021)', '헤이즈 (Heize)'],\n",
       " [95, 'Life Goes On', '방탄소년단'],\n",
       " [96, '그날에 나는 맘이 편했을까', '이예준'],\n",
       " [97, '안녕 우린 헤어져야만 해', '전상근'],\n",
       " [98, '어른아이 (Toddler)', '태연 (TAEYEON)'],\n",
       " [99, 'Queendom', 'Red Velvet (레드벨벳)'],\n",
       " [100, '멜로디', 'ASH ISLAND']]"
      ]
     },
     "execution_count": 8,
     "metadata": {},
     "output_type": "execute_result"
    }
   ],
   "source": [
    "song_data = []\n",
    "rank = 1\n",
    "\n",
    "for song in songs:\n",
    "    title = song.select('div.rank01 > span > a')[0].text\n",
    "    singer = song.select('div.rank02 > a')[0].text\n",
    "    song_data.append([rank, title, singer])\n",
    "    rank += 1\n",
    "\n",
    "song_data\n"
   ]
  },
  {
   "cell_type": "code",
   "execution_count": 9,
   "metadata": {},
   "outputs": [
    {
     "data": {
      "text/html": [
       "<div>\n",
       "<style scoped>\n",
       "    .dataframe tbody tr th:only-of-type {\n",
       "        vertical-align: middle;\n",
       "    }\n",
       "\n",
       "    .dataframe tbody tr th {\n",
       "        vertical-align: top;\n",
       "    }\n",
       "\n",
       "    .dataframe thead th {\n",
       "        text-align: right;\n",
       "    }\n",
       "</style>\n",
       "<table border=\"1\" class=\"dataframe\">\n",
       "  <thead>\n",
       "    <tr style=\"text-align: right;\">\n",
       "      <th></th>\n",
       "      <th>순위</th>\n",
       "      <th>타이틀</th>\n",
       "      <th>가수</th>\n",
       "    </tr>\n",
       "  </thead>\n",
       "  <tbody>\n",
       "    <tr>\n",
       "      <th>0</th>\n",
       "      <td>1</td>\n",
       "      <td>사랑은 늘 도망가</td>\n",
       "      <td>임영웅</td>\n",
       "    </tr>\n",
       "    <tr>\n",
       "      <th>1</th>\n",
       "      <td>2</td>\n",
       "      <td>INVU</td>\n",
       "      <td>태연 (TAEYEON)</td>\n",
       "    </tr>\n",
       "    <tr>\n",
       "      <th>2</th>\n",
       "      <td>3</td>\n",
       "      <td>취중고백</td>\n",
       "      <td>김민석 (멜로망스)</td>\n",
       "    </tr>\n",
       "    <tr>\n",
       "      <th>3</th>\n",
       "      <td>4</td>\n",
       "      <td>ELEVEN</td>\n",
       "      <td>IVE (아이브)</td>\n",
       "    </tr>\n",
       "    <tr>\n",
       "      <th>4</th>\n",
       "      <td>5</td>\n",
       "      <td>Step Back</td>\n",
       "      <td>GOT the beat</td>\n",
       "    </tr>\n",
       "    <tr>\n",
       "      <th>...</th>\n",
       "      <td>...</td>\n",
       "      <td>...</td>\n",
       "      <td>...</td>\n",
       "    </tr>\n",
       "    <tr>\n",
       "      <th>95</th>\n",
       "      <td>96</td>\n",
       "      <td>그날에 나는 맘이 편했을까</td>\n",
       "      <td>이예준</td>\n",
       "    </tr>\n",
       "    <tr>\n",
       "      <th>96</th>\n",
       "      <td>97</td>\n",
       "      <td>안녕 우린 헤어져야만 해</td>\n",
       "      <td>전상근</td>\n",
       "    </tr>\n",
       "    <tr>\n",
       "      <th>97</th>\n",
       "      <td>98</td>\n",
       "      <td>어른아이 (Toddler)</td>\n",
       "      <td>태연 (TAEYEON)</td>\n",
       "    </tr>\n",
       "    <tr>\n",
       "      <th>98</th>\n",
       "      <td>99</td>\n",
       "      <td>Queendom</td>\n",
       "      <td>Red Velvet (레드벨벳)</td>\n",
       "    </tr>\n",
       "    <tr>\n",
       "      <th>99</th>\n",
       "      <td>100</td>\n",
       "      <td>멜로디</td>\n",
       "      <td>ASH ISLAND</td>\n",
       "    </tr>\n",
       "  </tbody>\n",
       "</table>\n",
       "<p>100 rows × 3 columns</p>\n",
       "</div>"
      ],
      "text/plain": [
       "     순위             타이틀                 가수\n",
       "0     1       사랑은 늘 도망가                임영웅\n",
       "1     2            INVU       태연 (TAEYEON)\n",
       "2     3            취중고백         김민석 (멜로망스)\n",
       "3     4          ELEVEN          IVE (아이브)\n",
       "4     5       Step Back       GOT the beat\n",
       "..  ...             ...                ...\n",
       "95   96  그날에 나는 맘이 편했을까                이예준\n",
       "96   97   안녕 우린 헤어져야만 해                전상근\n",
       "97   98  어른아이 (Toddler)       태연 (TAEYEON)\n",
       "98   99        Queendom  Red Velvet (레드벨벳)\n",
       "99  100             멜로디         ASH ISLAND\n",
       "\n",
       "[100 rows x 3 columns]"
      ]
     },
     "execution_count": 9,
     "metadata": {},
     "output_type": "execute_result"
    }
   ],
   "source": [
    "import pandas as pd\n",
    "\n",
    "df = pd.DataFrame(song_data, columns = ['순위', '타이틀', '가수'])\n",
    "df.to_excel('melon.xlsx', index = False)\n",
    "df"
   ]
  }
 ],
 "metadata": {
  "interpreter": {
   "hash": "b3ba2566441a7c06988d0923437866b63cedc61552a5af99d1f4fb67d367b25f"
  },
  "kernelspec": {
   "display_name": "Python 3.9.7 ('base')",
   "language": "python",
   "name": "python3"
  },
  "language_info": {
   "codemirror_mode": {
    "name": "ipython",
    "version": 3
   },
   "file_extension": ".py",
   "mimetype": "text/x-python",
   "name": "python",
   "nbconvert_exporter": "python",
   "pygments_lexer": "ipython3",
   "version": "3.9.7"
  },
  "orig_nbformat": 4
 },
 "nbformat": 4,
 "nbformat_minor": 2
}

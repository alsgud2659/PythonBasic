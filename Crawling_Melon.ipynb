{
 "cells": [
  {
   "cell_type": "code",
   "execution_count": 2,
   "metadata": {},
   "outputs": [],
   "source": [
    "from selenium import webdriver          # 파이썬으로 웹 브라우저 컨트롤\n",
    "from bs4 import BeautifulSoup as bs     # 분석을 용이하게 정제"
   ]
  },
  {
   "cell_type": "code",
   "execution_count": 3,
   "metadata": {},
   "outputs": [
    {
     "name": "stderr",
     "output_type": "stream",
     "text": [
      "C:\\Users\\LEE\\AppData\\Local\\Temp/ipykernel_10336/939732513.py:1: DeprecationWarning: executable_path has been deprecated, please pass in a Service object\n",
      "  driver = webdriver.Chrome('chromedriver.exe')\n"
     ]
    }
   ],
   "source": [
    "driver = webdriver.Chrome('chromedriver.exe')\n",
    "driver.get('https://www.melon.com/chart/index.htm')\n"
   ]
  },
  {
   "cell_type": "code",
   "execution_count": null,
   "metadata": {},
   "outputs": [],
   "source": [
    "html = driver.page_source\n",
    "soup = bs(html)\n",
    "soup"
   ]
  },
  {
   "cell_type": "code",
   "execution_count": 5,
   "metadata": {},
   "outputs": [
    {
     "data": {
      "text/plain": [
       "100"
      ]
     },
     "execution_count": 5,
     "metadata": {},
     "output_type": "execute_result"
    }
   ],
   "source": [
    "len(soup.select('tbody > tr'))"
   ]
  },
  {
   "cell_type": "code",
   "execution_count": null,
   "metadata": {},
   "outputs": [],
   "source": [
    "songs = soup.select('tbody > tr')\n",
    "song = songs[0]\n",
    "song"
   ]
  },
  {
   "cell_type": "code",
   "execution_count": 8,
   "metadata": {},
   "outputs": [
    {
     "data": {
      "text/plain": [
       "[[1, '사랑은 늘 도망가', '임영웅'],\n",
       " [2, '취중고백', '김민석 (멜로망스)'],\n",
       " [3, 'INVU', '태연 (TAEYEON)'],\n",
       " [4, 'ELEVEN', 'IVE (아이브)'],\n",
       " [5, 'Step Back', 'GOT the beat'],\n",
       " [6, '회전목마 (Feat. Zion.T, 원슈타인) (Prod. Slom)', 'sokodomo'],\n",
       " [7, '호랑수월가', '탑현'],\n",
       " [8, '리무진 (Feat. MINO) (Prod. GRAY)', \"BE'O (비오)\"],\n",
       " [9, 'SMILEY (Feat. BIBI)', 'YENA (최예나)'],\n",
       " [10, 'Counting Stars (Feat. Beenzino)', \"BE'O (비오)\"],\n",
       " [11, '눈이 오잖아(Feat.헤이즈)', '이무진'],\n",
       " [12, '다정히 내 이름을 부르면', '경서예지'],\n",
       " [13, 'Dreams Come True', 'aespa'],\n",
       " [14, \"Can't Control Myself\", '태연 (TAEYEON)'],\n",
       " [15, '이제 나만 믿어요', '임영웅'],\n",
       " [16, '겨울잠', '아이유'],\n",
       " [17, 'STAY', 'The Kid LAROI'],\n",
       " [18, '언제나 사랑해', '케이시 (Kassy)'],\n",
       " [19, '신호등', '이무진'],\n",
       " [20, 'Next Level', 'aespa'],\n",
       " [21, 'strawberry moon', '아이유'],\n",
       " [22, '만남은 쉽고 이별은 어려워 (Feat. Leellamarz) (Prod. TOIL)', '베이식 (Basick)'],\n",
       " [23, '다시 사랑한다면 (김필 Ver.)', '임영웅'],\n",
       " [24, 'Christmas Tree', 'V'],\n",
       " [25, 'Savage', 'aespa'],\n",
       " [26, '그대라는 사치', '임영웅'],\n",
       " [27, '잊을 수 있을까', '노을'],\n",
       " [28, '드라마', '아이유'],\n",
       " [29, '별빛 같은 나의 사랑아', '임영웅'],\n",
       " [30, 'Butter', '방탄소년단'],\n",
       " [31, 'abcdefu', 'GAYLE'],\n",
       " [32, '잊었니', '임영웅'],\n",
       " [33, 'HERO', '임영웅'],\n",
       " [34, 'Dynamite', '방탄소년단'],\n",
       " [35, '너를 생각해', '주시크 (Joosiq)'],\n",
       " [36, '흰눈', '먼데이 키즈 (Monday Kiz)'],\n",
       " [37, '서랍', '10CM'],\n",
       " [38, '너 아니면 안돼', '먼데이 키즈 (Monday Kiz)'],\n",
       " [39, '그래서 그래 (Feat. 윤하)', '에픽하이 (EPIK HIGH)'],\n",
       " [40, '우리가 헤어져야 했던 이유', '비비 (BIBI)'],\n",
       " [41, '끝사랑', '임영웅'],\n",
       " [42, '언덕나무', '이승윤'],\n",
       " [43, 'Permission to Dance', '방탄소년단'],\n",
       " [44, 'OHAYO MY NIGHT', '디핵 (D-Hack)'],\n",
       " [45, 'My Universe', 'Coldplay'],\n",
       " [46, '문득', \"BE'O (비오)\"],\n",
       " [47, 'Weekend', '태연 (TAEYEON)'],\n",
       " [48, 'Bk Love', '임영웅'],\n",
       " [49, '바라만 본다', 'MSG워너비(M.O.M)'],\n",
       " [50, '네가 없는 밤 (Feat. ASH ISLAND) (Prod. GRAY)', \"BE'O (비오)\"],\n",
       " [51, '그런 밤 (Some Nights)', '태연 (TAEYEON)'],\n",
       " [52, 'Celebrity', '아이유'],\n",
       " [53, '불협화음 (Feat. AKMU) (Prod. GRAY)', 'Mudd the student'],\n",
       " [54, '너, 너 (N번째 연애 X 휘인 (Whee In))', '휘인 (Whee In)'],\n",
       " [55, '라일락', '아이유'],\n",
       " [56, '낙하 (with 아이유)', 'AKMU (악뮤)'],\n",
       " [57, '밤하늘의 별을(2020)', '경서'],\n",
       " [58, '사랑이 아니었다고 말하지 마요', '이예준'],\n",
       " [59, '사이렌 Remix (Feat. UNEDUCATED KID, Paul Blanco)', '호미들'],\n",
       " [60, '쉬어 (Feat. MINO) (Prod. GRAY)', '아넌딜라이트(Anandelight)'],\n",
       " [61, '헤픈 우연', '헤이즈 (Heize)'],\n",
       " [62, 'Wake Up (Prod. 코드 쿤스트)', '개코'],\n",
       " [63, 'Bad Habits', 'Ed Sheeran'],\n",
       " [64, \"Good Night (Feat. BE'O)\", '쿠기 (Coogie)'],\n",
       " [65, 'Dilemma', 'Apink (에이핑크)'],\n",
       " [66, '그게 더 편할 것 같아 (N번째 연애 X 멜로망스)', '멜로망스'],\n",
       " [67, '모든 날, 모든 순간 (Every day, Every Moment)', '폴킴'],\n",
       " [68, '찰나가 영원이 될 때 (The Eternal Moment)', '마크툽 (MAKTUB)'],\n",
       " [69, '어떻게 이별까지 사랑하겠어, 널 사랑하는 거지', 'AKMU (악뮤)'],\n",
       " [70, 'Off My Face', 'Justin Bieber'],\n",
       " [71, '고백', '멜로망스'],\n",
       " [72, '내 손을 잡아', '아이유'],\n",
       " [73, '계단말고 엘리베이터', '임영웅'],\n",
       " [74, '너의 모든 순간', '성시경'],\n",
       " [75, '봄날', '방탄소년단'],\n",
       " [76, '작은 것들을 위한 시 (Boy With Luv) (Feat. Halsey)', '방탄소년단'],\n",
       " [77, '추억은 만남보다 이별에 남아', '정동하'],\n",
       " [78, \"롤린 (Rollin')\", '브레이브걸스'],\n",
       " [79, 'Blueming', '아이유'],\n",
       " [80, 'DM', '프로미스나인'],\n",
       " [81, '오늘도 빛나는 너에게 (To You My Light) (Feat.이라온)', '마크툽 (MAKTUB)'],\n",
       " [82, '취기를 빌려 (취향저격 그녀 X 산들)', '산들'],\n",
       " [83, 'Savage Love (Laxed - Siren Beat) (BTS Remix)', 'Jawsh 685'],\n",
       " [84, '이별후회', '김나영'],\n",
       " [85, '대낮에 한 이별', '선예'],\n",
       " [86, 'Dun Dun Dance', '오마이걸 (OH MY GIRL)'],\n",
       " [87, '밝게 빛나는 별이 되어 비춰줄게', '송이한'],\n",
       " [88, '강변북로', '황인욱'],\n",
       " [89, 'Set Myself On Fire', '태연 (TAEYEON)'],\n",
       " [90, '어른아이 (Toddler)', '태연 (TAEYEON)'],\n",
       " [91, '비가 오는 날엔 (2021)', '헤이즈 (Heize)'],\n",
       " [92, 'Stay Alive (Prod. SUGA of BTS)', '정국'],\n",
       " [93, '시간을 거슬러 (낮에 뜨는 달 X 케이윌)', '케이윌'],\n",
       " [94, '여름비', '샘김 (Sam Kim)'],\n",
       " [95, 'Life Goes On', '방탄소년단'],\n",
       " [96, 'Because', 'ASH ISLAND'],\n",
       " [97, '안녕 우린 헤어져야만 해', '전상근'],\n",
       " [98, '그날에 나는 맘이 편했을까', '이예준'],\n",
       " [99, '멜로디', 'ASH ISLAND'],\n",
       " [100, 'Queendom', 'Red Velvet (레드벨벳)']]"
      ]
     },
     "execution_count": 8,
     "metadata": {},
     "output_type": "execute_result"
    }
   ],
   "source": [
    "song_data = []\n",
    "rank = 1\n",
    "\n",
    "for song in songs:\n",
    "    title = song.select('div.rank01 > span > a')[0].text\n",
    "    singer = song.select('div.rank02 > a')[0].text\n",
    "    song_data.append([rank, title, singer])\n",
    "    rank += 1\n",
    "\n",
    "song_data\n"
   ]
  },
  {
   "cell_type": "code",
   "execution_count": 9,
   "metadata": {},
   "outputs": [
    {
     "data": {
      "text/html": [
       "<div>\n",
       "<style scoped>\n",
       "    .dataframe tbody tr th:only-of-type {\n",
       "        vertical-align: middle;\n",
       "    }\n",
       "\n",
       "    .dataframe tbody tr th {\n",
       "        vertical-align: top;\n",
       "    }\n",
       "\n",
       "    .dataframe thead th {\n",
       "        text-align: right;\n",
       "    }\n",
       "</style>\n",
       "<table border=\"1\" class=\"dataframe\">\n",
       "  <thead>\n",
       "    <tr style=\"text-align: right;\">\n",
       "      <th></th>\n",
       "      <th>순위</th>\n",
       "      <th>타이틀</th>\n",
       "      <th>가수</th>\n",
       "    </tr>\n",
       "  </thead>\n",
       "  <tbody>\n",
       "    <tr>\n",
       "      <th>0</th>\n",
       "      <td>1</td>\n",
       "      <td>사랑은 늘 도망가</td>\n",
       "      <td>임영웅</td>\n",
       "    </tr>\n",
       "    <tr>\n",
       "      <th>1</th>\n",
       "      <td>2</td>\n",
       "      <td>취중고백</td>\n",
       "      <td>김민석 (멜로망스)</td>\n",
       "    </tr>\n",
       "    <tr>\n",
       "      <th>2</th>\n",
       "      <td>3</td>\n",
       "      <td>INVU</td>\n",
       "      <td>태연 (TAEYEON)</td>\n",
       "    </tr>\n",
       "    <tr>\n",
       "      <th>3</th>\n",
       "      <td>4</td>\n",
       "      <td>ELEVEN</td>\n",
       "      <td>IVE (아이브)</td>\n",
       "    </tr>\n",
       "    <tr>\n",
       "      <th>4</th>\n",
       "      <td>5</td>\n",
       "      <td>Step Back</td>\n",
       "      <td>GOT the beat</td>\n",
       "    </tr>\n",
       "    <tr>\n",
       "      <th>...</th>\n",
       "      <td>...</td>\n",
       "      <td>...</td>\n",
       "      <td>...</td>\n",
       "    </tr>\n",
       "    <tr>\n",
       "      <th>95</th>\n",
       "      <td>96</td>\n",
       "      <td>Because</td>\n",
       "      <td>ASH ISLAND</td>\n",
       "    </tr>\n",
       "    <tr>\n",
       "      <th>96</th>\n",
       "      <td>97</td>\n",
       "      <td>안녕 우린 헤어져야만 해</td>\n",
       "      <td>전상근</td>\n",
       "    </tr>\n",
       "    <tr>\n",
       "      <th>97</th>\n",
       "      <td>98</td>\n",
       "      <td>그날에 나는 맘이 편했을까</td>\n",
       "      <td>이예준</td>\n",
       "    </tr>\n",
       "    <tr>\n",
       "      <th>98</th>\n",
       "      <td>99</td>\n",
       "      <td>멜로디</td>\n",
       "      <td>ASH ISLAND</td>\n",
       "    </tr>\n",
       "    <tr>\n",
       "      <th>99</th>\n",
       "      <td>100</td>\n",
       "      <td>Queendom</td>\n",
       "      <td>Red Velvet (레드벨벳)</td>\n",
       "    </tr>\n",
       "  </tbody>\n",
       "</table>\n",
       "<p>100 rows × 3 columns</p>\n",
       "</div>"
      ],
      "text/plain": [
       "     순위             타이틀                 가수\n",
       "0     1       사랑은 늘 도망가                임영웅\n",
       "1     2            취중고백         김민석 (멜로망스)\n",
       "2     3            INVU       태연 (TAEYEON)\n",
       "3     4          ELEVEN          IVE (아이브)\n",
       "4     5       Step Back       GOT the beat\n",
       "..  ...             ...                ...\n",
       "95   96         Because         ASH ISLAND\n",
       "96   97   안녕 우린 헤어져야만 해                전상근\n",
       "97   98  그날에 나는 맘이 편했을까                이예준\n",
       "98   99             멜로디         ASH ISLAND\n",
       "99  100        Queendom  Red Velvet (레드벨벳)\n",
       "\n",
       "[100 rows x 3 columns]"
      ]
     },
     "execution_count": 9,
     "metadata": {},
     "output_type": "execute_result"
    }
   ],
   "source": [
    "import pandas as pd\n",
    "\n",
    "df = pd.DataFrame(song_data, columns = ['순위', '타이틀', '가수'])\n",
    "df.to_excel('melon.xlsx', index = False)\n",
    "df"
   ]
  }
 ],
 "metadata": {
  "interpreter": {
   "hash": "b3ba2566441a7c06988d0923437866b63cedc61552a5af99d1f4fb67d367b25f"
  },
  "kernelspec": {
   "display_name": "Python 3.9.7 ('base')",
   "language": "python",
   "name": "python3"
  },
  "language_info": {
   "codemirror_mode": {
    "name": "ipython",
    "version": 3
   },
   "file_extension": ".py",
   "mimetype": "text/x-python",
   "name": "python",
   "nbconvert_exporter": "python",
   "pygments_lexer": "ipython3",
   "version": "3.9.7"
  },
  "orig_nbformat": 4
 },
 "nbformat": 4,
 "nbformat_minor": 2
}

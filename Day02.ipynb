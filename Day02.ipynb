{
  "nbformat": 4,
  "nbformat_minor": 0,
  "metadata": {
    "colab": {
      "name": "Day02.ipynb",
      "provenance": [],
      "authorship_tag": "ABX9TyM3VKpWjK4bTniWgeuspdao",
      "include_colab_link": true
    },
    "kernelspec": {
      "name": "python3",
      "display_name": "Python 3"
    },
    "language_info": {
      "name": "python"
    }
  },
  "cells": [
    {
      "cell_type": "markdown",
      "metadata": {
        "id": "view-in-github",
        "colab_type": "text"
      },
      "source": [
        "<a href=\"https://colab.research.google.com/github/alsgud2659/ai/blob/main/Day02.ipynb\" target=\"_parent\"><img src=\"https://colab.research.google.com/assets/colab-badge.svg\" alt=\"Open In Colab\"/></a>"
      ]
    },
    {
      "cell_type": "code",
      "execution_count": null,
      "metadata": {
        "id": "6Zl7kDyiB37K"
      },
      "outputs": [],
      "source": [
        "#####################################################\n",
        "# 리스트 List  튜플 Tuple  딕셔너리 DIct  셋  Set\n",
        "#####################################################\n",
        "# 여러개의 값을 한번에 저장하는 자료형이 필요하다.  \n",
        "\n",
        "# 리스트 List \n",
        "# 지금까지 사용한 숫자 1, 문자1 등 개별적, 독립적인 자료가 아닌\n",
        "# 리스트는 이러한 자료들 여러개를 모아서 사용할 수 있게 해준다. \n",
        "# 리스트에 넣는 자료를 요소element 라고한다. \n",
        "\n",
        "# 리스트는 []로 구성한다. \n",
        "list = [1,2,3,4,5]\n",
        "print(list)\n",
        "# 리스트는 다양한 자료형의 데이터를 한번에 담을 수 있다. \n",
        "# (but, 하나의 리스트에는 한가지 자료형만 저장하는 것이 오히려 바람직하다. )\n",
        "list = [1,2,3,'대한','민국', True, False]\n",
        "print(list)\n",
        "score = [80,90,70,60]\n",
        "print(score)\n",
        "# 리스트는 인덱싱indexing과 슬라이싱slicing이 가능하다. \n",
        "print(score[0])   #파이썬은 0부터 시작한다. \n",
        "print(score[0:2]) # 슬라이싱은 0부터 2미만...처럼    끝은 미만을 나타낸다.  \n",
        "\n",
        "#리스트는 수정/삭제 가 가능하다. (mutable, 튜플은 immutalble)\n",
        "score[0] = 100\n",
        "print(score)\n",
        "score[-1] = 100\n",
        "print(score)\n",
        "# score[4]  # indexerror 아주 많이 접하게 될 에러(예외)\n",
        "\n",
        "# 리스트는 연산이 가능하다. \n",
        "list_a = [1,2,3]\n",
        "list_b = [4,5,6]\n",
        "\n",
        "print('list_a = ', list_a)\n",
        "print('list_b = ', list_b)\n",
        "print(list_a + list_b)\n",
        "print(list_a * 3)\n",
        "print(len(list_a))"
      ]
    },
    {
      "cell_type": "code",
      "source": [
        "# 리스트에 많이 사용되는 함수들\n",
        "# append(*****) 리스트에 요소를 추가할 때 사용\n",
        "\n",
        "score = [80,90,70,60]\n",
        "print(score)\n",
        "\n",
        "score.append(60)\n",
        "print(score)\n",
        "\n",
        "score.append(70)\n",
        "print(score)"
      ],
      "metadata": {
        "colab": {
          "base_uri": "https://localhost:8080/"
        },
        "id": "tDdbl5i3Iy_c",
        "outputId": "e56e2201-145e-4f42-ec4a-0bec2b41956c"
      },
      "execution_count": 2,
      "outputs": [
        {
          "output_type": "stream",
          "name": "stdout",
          "text": [
            "[80, 90, 70, 60]\n",
            "[80, 90, 70, 60, 60]\n",
            "[80, 90, 70, 60, 60, 70]\n"
          ]
        }
      ]
    },
    {
      "cell_type": "code",
      "source": [
        "#insert() 리스트에 요소를 추가할 때 사용, 특정 위치를 지정하여 추가\n",
        "score = [80,90,70,60]\n",
        "score.insert(0, 10)\n",
        "print(score)\n",
        "\n",
        "score.insert(-1, 50)\n",
        "print(score)\n",
        "\n",
        "list = []\n",
        "list.insert(0, 10)\n",
        "print(list)\n",
        "\n",
        "list.insert(-1, 50)\n",
        "print(list)\n"
      ],
      "metadata": {
        "colab": {
          "base_uri": "https://localhost:8080/"
        },
        "id": "VbQ8svkoJQlz",
        "outputId": "62f2fcb1-6082-4ea9-b2b7-444753d65bc4"
      },
      "execution_count": 7,
      "outputs": [
        {
          "output_type": "stream",
          "name": "stdout",
          "text": [
            "[10, 80, 90, 70, 60]\n",
            "[10, 80, 90, 70, 50, 60]\n",
            "[10]\n",
            "[50, 10]\n"
          ]
        }
      ]
    },
    {
      "cell_type": "code",
      "source": [
        "list_a = [1,2,3]\n",
        "list_a.extend([4,5,6])\n",
        "list_a"
      ],
      "metadata": {
        "colab": {
          "base_uri": "https://localhost:8080/"
        },
        "id": "0FzEIe9aKcCm",
        "outputId": "0626aa2d-7989-48f3-8a61-206212f6d672"
      },
      "execution_count": 8,
      "outputs": [
        {
          "output_type": "execute_result",
          "data": {
            "text/plain": [
              "[1, 2, 3, 4, 5, 6]"
            ]
          },
          "metadata": {},
          "execution_count": 8
        }
      ]
    },
    {
      "cell_type": "code",
      "source": [
        "list_a = [1,2,3]\n",
        "list_b = [4,5,6]\n",
        "print(list_a + list_b)\n",
        "print(list_a) # 비파괴적 처리\n",
        "\n",
        "# 리스트 연결만으로는 list_a에 어떠한 영향도 주지 않는다. (비파괴적 처리)\n",
        "# 하지만 extend()를 사용하면 list_a에 직접적으로 영향을 주게된다.(파괴적 처리)\n",
        "\n",
        "# 기본적으로 자료를 사용할 때는 비파괴적으로 사용하는 것이 바람직하다.\n",
        "# 가능하면 원본 데이터는 그대로 유지하고 사용하는 것이 선택지가 넓다. "
      ],
      "metadata": {
        "id": "0I-dBsbALSc6"
      },
      "execution_count": null,
      "outputs": []
    },
    {
      "cell_type": "code",
      "source": [
        "# del() 리스트에서 인덱스 위치 데이터 삭제\n",
        "\n",
        "list_a = [0,1,2,3,4,5]\n",
        "del list_a[1] # index 값으로 위치값을 삭제\n",
        "print(list_a)\n",
        "\n",
        "del list_a[1:3] # 1부터 3미만 즉 2까지\n",
        "print(list_a)\n",
        "\n",
        "del list_a[:] # 생략하면 처음부터 끝까지\n",
        "print(list_a)\n",
        "\n",
        "# list_a.clear() 리스트 요소를 전부 한번에 삭제"
      ],
      "metadata": {
        "colab": {
          "base_uri": "https://localhost:8080/"
        },
        "id": "Bju4gprbMWDH",
        "outputId": "f53d4ef6-d726-4324-a069-5b0c3e18f6ec"
      },
      "execution_count": 14,
      "outputs": [
        {
          "output_type": "stream",
          "name": "stdout",
          "text": [
            "[0, 2, 3, 4, 5]\n",
            "[0, 4, 5]\n",
            "[]\n"
          ]
        }
      ]
    },
    {
      "cell_type": "code",
      "source": [
        "# pop() 리스트에서 마지막 위치 데이터 삭제\n",
        "\n",
        "list_a = [0,1,2,3,4,5]\n",
        "list_a.pop()\n",
        "print(list_a)\n",
        "list_a.pop(1)\n",
        "print(list_a)"
      ],
      "metadata": {
        "colab": {
          "base_uri": "https://localhost:8080/"
        },
        "id": "JBxcdlCVNPed",
        "outputId": "5f57dd5e-e1c1-40f2-c4ec-1942ae779a9f"
      },
      "execution_count": 11,
      "outputs": [
        {
          "output_type": "stream",
          "name": "stdout",
          "text": [
            "[0, 1, 2, 3, 4]\n",
            "[0, 2, 3, 4]\n"
          ]
        }
      ]
    },
    {
      "cell_type": "code",
      "source": [
        "# remove 값으로 삭제\n",
        "\n",
        "list_c = [1,2,1,2]\n",
        "list_c.remove(2) # remove는  요소의 값을 찾아 삭제한다.\n",
        "                 # 동일한 값이 여러개 있을 때는 하나씩 순차적으로 삭제한다.\n",
        "                 # 리스트에서 중복된 여러개의 값을 제거하려면 반복문을 사용한다.\n",
        "print(list_c)\n",
        "list_c.remove(2)\n",
        "print(list_c)"
      ],
      "metadata": {
        "colab": {
          "base_uri": "https://localhost:8080/"
        },
        "id": "YBpBqAdjOZpK",
        "outputId": "61b8517d-e000-4a84-a0c1-67bce049cc43"
      },
      "execution_count": 16,
      "outputs": [
        {
          "output_type": "stream",
          "name": "stdout",
          "text": [
            "[1, 1, 2]\n",
            "[1, 1]\n"
          ]
        }
      ]
    },
    {
      "cell_type": "code",
      "source": [
        "list = [1,2,3,4,5]\n",
        "print(list[0]) # indexing 비파괴적으로 동작한다.\n",
        "print(list)\n",
        "\n",
        "print(list.pop()) # pop은 파괴적으로 동작한다.\n",
        "print(list)"
      ],
      "metadata": {
        "colab": {
          "base_uri": "https://localhost:8080/"
        },
        "id": "fP2ZkZGYPwtB",
        "outputId": "7948499c-cfb2-4970-9e48-d2536ae7c471"
      },
      "execution_count": 17,
      "outputs": [
        {
          "output_type": "stream",
          "name": "stdout",
          "text": [
            "1\n",
            "[1, 2, 3, 4, 5]\n",
            "5\n",
            "[1, 2, 3, 4]\n"
          ]
        }
      ]
    },
    {
      "cell_type": "code",
      "source": [
        "# in / not in 리스트에 존재하는 요소인지 확인\n",
        "\n",
        "list = [222,434,65,123,547,876]\n",
        "print(222 in list)\n",
        "\n",
        "print(221 in list)\n",
        "\n",
        "print(221 not in list)"
      ],
      "metadata": {
        "colab": {
          "base_uri": "https://localhost:8080/"
        },
        "id": "tX-eW8PwQXhY",
        "outputId": "40e33834-3bbe-410e-b32e-04ba7a464942"
      },
      "execution_count": 19,
      "outputs": [
        {
          "output_type": "stream",
          "name": "stdout",
          "text": [
            "True\n",
            "False\n",
            "True\n"
          ]
        }
      ]
    },
    {
      "cell_type": "code",
      "source": [
        "# Dict 딕셔너리 (jave의 map, js의 json과 유사한 자료구조)\n",
        "# 리스트가 인덱스를 기반으로 값을 저장한다면 딕셔너리는 키값을 기반으로 값을 저장한다.\n",
        "\n",
        "# {}를 사용하여 데이터를 저장한다.\n",
        "# 삽입 / 삭제가 가능하다. (mutable)\n",
        "# 순서가 없으므로 인덱싱과 슬라이싱이 불가능하다.\n",
        "\n",
        "dict = {\n",
        "    \"no\" : 1,\n",
        "    \"name\" : \"엔드 게임\",\n",
        "    \"type\" : \"히어로 무비\",\n",
        "    \"price\" : 10000\n",
        "}\n",
        "\n",
        "print(dict)\n",
        "print(dict['name'])"
      ],
      "metadata": {
        "colab": {
          "base_uri": "https://localhost:8080/"
        },
        "id": "tUFqgv4SRl7l",
        "outputId": "58601cfe-a46b-4214-debf-cf71270de404"
      },
      "execution_count": 21,
      "outputs": [
        {
          "output_type": "stream",
          "name": "stdout",
          "text": [
            "{'no': 1, 'name': '엔드 게임', 'type': '히어로 무비', 'price': 10000}\n",
            "엔드 게임\n"
          ]
        }
      ]
    },
    {
      "cell_type": "code",
      "source": [
        "dict = {\n",
        "    \"감독\" : [\"안소니\", \"루소\"],\n",
        "    \"배우\" : [\"타노스\", \"토르\", \"헐크\"]\n",
        "}\n",
        "\n",
        "print(dict['감독'])"
      ],
      "metadata": {
        "colab": {
          "base_uri": "https://localhost:8080/"
        },
        "id": "zYk7F9-3lGWK",
        "outputId": "eb690280-1788-4c9c-8dfd-a752a6a6965f"
      },
      "execution_count": 22,
      "outputs": [
        {
          "output_type": "stream",
          "name": "stdout",
          "text": [
            "['안소니', '루소']\n"
          ]
        }
      ]
    },
    {
      "cell_type": "code",
      "source": [
        "dict = {\n",
        "    'name' : '건조 망고',\n",
        "    'type' : '절임 과일',\n",
        "    'ingredient' : ['망고', '설탕', '색소'],\n",
        "    'origin' : '필리핀'\n",
        "} \n",
        "\n",
        "print('name:', dict['name'])\n",
        "print('type:', dict['type'])\n",
        "print('ingredient:', dict['ingredient'])\n",
        "print('origin:', dict['origin'])\n",
        "\n",
        "dict['name'] = '망고'\n",
        "print('name:', dict['name'])\n",
        "\n",
        "print(dict['ingredient'][0])\n",
        "\n",
        "dict['price'] = 5000\n",
        "print(dict)\n",
        "\n",
        "dict['price'] = 4000\n",
        "print(dict)\n",
        "\n",
        "del dict[\"price\"]\n",
        "print(dict)"
      ],
      "metadata": {
        "colab": {
          "base_uri": "https://localhost:8080/"
        },
        "id": "w4E4N0sSl80j",
        "outputId": "a83793a4-2f32-43da-b573-eb16d6dde394"
      },
      "execution_count": 29,
      "outputs": [
        {
          "output_type": "stream",
          "name": "stdout",
          "text": [
            "name: 건조 망고\n",
            "type: 절임 과일\n",
            "ingredient: ['망고', '설탕', '색소']\n",
            "origin: 필리핀\n",
            "name: 망고\n",
            "망고\n",
            "{'name': '망고', 'type': '절임 과일', 'ingredient': ['망고', '설탕', '색소'], 'origin': '필리핀', 'price': 5000}\n",
            "{'name': '망고', 'type': '절임 과일', 'ingredient': ['망고', '설탕', '색소'], 'origin': '필리핀', 'price': 4000}\n",
            "{'name': '망고', 'type': '절임 과일', 'ingredient': ['망고', '설탕', '색소'], 'origin': '필리핀'}\n"
          ]
        }
      ]
    },
    {
      "cell_type": "code",
      "source": [
        "dict = {}\n",
        "\n",
        "dict['name'] = '새이름'\n",
        "dict['height'] = 185\n",
        "dict['weight'] = 75\n",
        "\n",
        "print(dict)\n",
        "del dict['weight']\n",
        "print(dict)"
      ],
      "metadata": {
        "colab": {
          "base_uri": "https://localhost:8080/"
        },
        "id": "3zMiiO-kolWL",
        "outputId": "e9e6da75-81f4-4255-cb1d-1ea1f4bc46af"
      },
      "execution_count": 31,
      "outputs": [
        {
          "output_type": "stream",
          "name": "stdout",
          "text": [
            "{'name': '새이름', 'height': 185, 'weight': 75}\n",
            "{'name': '새이름', 'height': 185}\n"
          ]
        }
      ]
    },
    {
      "cell_type": "code",
      "source": [
        "# dict 자주 등장하는 에러(예외)\n",
        "\n",
        "#KeyError 리스트에서 없는 인덱스에 접근하려고 하면 IndexError가 발생되는 것 처럼\n",
        "#딕셔너리에서도 존재하지 않는 키값을 사용하면 예외 또는 에러를 발생시킨다.\n",
        "\n",
        "dict = {\n",
        "    'name' : '건조 망고',\n",
        "    'type' : '절임 과일',\n",
        "    'ingredient' : ['망고', '설탕', '색소'],\n",
        "    'origin' : '필리핀'\n",
        "} \n",
        "\n",
        "del dict['nane']"
      ],
      "metadata": {
        "colab": {
          "base_uri": "https://localhost:8080/",
          "height": 209
        },
        "id": "rJzRNJBOpIuW",
        "outputId": "3fc39a9f-91f0-424e-8cab-952b4c0c89e3"
      },
      "execution_count": 32,
      "outputs": [
        {
          "output_type": "error",
          "ename": "KeyError",
          "evalue": "ignored",
          "traceback": [
            "\u001b[0;31m---------------------------------------------------------------------------\u001b[0m",
            "\u001b[0;31mKeyError\u001b[0m                                  Traceback (most recent call last)",
            "\u001b[0;32m<ipython-input-32-c1ebc3aa63fd>\u001b[0m in \u001b[0;36m<module>\u001b[0;34m()\u001b[0m\n\u001b[1;32m     11\u001b[0m } \n\u001b[1;32m     12\u001b[0m \u001b[0;34m\u001b[0m\u001b[0m\n\u001b[0;32m---> 13\u001b[0;31m \u001b[0;32mdel\u001b[0m \u001b[0mdict\u001b[0m\u001b[0;34m[\u001b[0m\u001b[0;34m'nane'\u001b[0m\u001b[0;34m]\u001b[0m\u001b[0;34m\u001b[0m\u001b[0;34m\u001b[0m\u001b[0m\n\u001b[0m",
            "\u001b[0;31mKeyError\u001b[0m: 'nane'"
          ]
        }
      ]
    },
    {
      "cell_type": "code",
      "source": [
        "dict = {\n",
        "    'name' : '건조 망고',\n",
        "    'type' : '절임 과일',\n",
        "    'ingredient' : ['망고', '설탕', '색소'],\n",
        "    'origin' : '필리핀'\n",
        "} \n",
        "\n",
        "key = input('삭제를 원하는 데이터의 키값을 입력하세요 : ')\n",
        "\n",
        "if key in dict:\n",
        "  print(dict[key])\n",
        "else:\n",
        "  print('존재하지 않는 키에 접근하고 있습니다..')\n",
        "\n",
        "print(dict)"
      ],
      "metadata": {
        "colab": {
          "base_uri": "https://localhost:8080/"
        },
        "id": "coo1A4IRqRy7",
        "outputId": "d713039f-f730-42ed-adc3-f7cd9a48c221"
      },
      "execution_count": 34,
      "outputs": [
        {
          "output_type": "stream",
          "name": "stdout",
          "text": [
            "삭제를 원하는 데이터의 키값을 입력하세요 : 456456\n",
            "존재하지 않는 키에 접근하고 있습니다..\n"
          ]
        }
      ]
    },
    {
      "cell_type": "code",
      "source": [
        "# 튜플 tuple\n",
        "# ()를 사용하여 작성한다.\n",
        "# 리스트와 거의 대부분 유사하나, 튜플은 삽입, 수정 등이 불가능하다. (immutable)\n",
        "# 튜플은 1개의 원소로 작성할 때는 ','를 삽입한다. ex) (1,)\n",
        "# 튜플은 괄호를 생략할 수 있다.\n",
        "\n",
        "t = (1,2)\n",
        "print(t)\n",
        "print(type(t))\n",
        "\n",
        "t2 = 3,4\n",
        "print(t2)\n",
        "print(type(t2))\n",
        "\n",
        "t3 = (5)          # (5) == 5\n",
        "print(t3)\n",
        "print(type(t3))"
      ],
      "metadata": {
        "colab": {
          "base_uri": "https://localhost:8080/"
        },
        "id": "qPfDlESatR33",
        "outputId": "db33ef39-b03f-404a-8a54-9079ee619dea"
      },
      "execution_count": 36,
      "outputs": [
        {
          "output_type": "stream",
          "name": "stdout",
          "text": [
            "(1, 2)\n",
            "<class 'tuple'>\n",
            "(3, 4)\n",
            "<class 'tuple'>\n",
            "5\n",
            "<class 'int'>\n"
          ]
        }
      ]
    },
    {
      "cell_type": "code",
      "source": [
        "t = (1,2,3,4,5)\n",
        "# t[0] = 8 튜플은 수정이 불가능 하다. Immutable\n",
        "\n",
        "# del t[0] 튜플은 삭제가 불가능 하다. Immutable\n"
      ],
      "metadata": {
        "id": "RJI6DOZPy31R"
      },
      "execution_count": null,
      "outputs": []
    },
    {
      "cell_type": "code",
      "source": [
        "t = (1,2,3,4,5)\n",
        "\n",
        "print(t[1])  # 튜플은 인덱싱이 가능하다.\n",
        "print(t[2:]) # 튜플은 슬라이싱이 가능하다."
      ],
      "metadata": {
        "colab": {
          "base_uri": "https://localhost:8080/"
        },
        "id": "u36GSFnYzNey",
        "outputId": "d864959a-86bc-4f53-d29a-a8a4b99653f0"
      },
      "execution_count": 38,
      "outputs": [
        {
          "output_type": "stream",
          "name": "stdout",
          "text": [
            "2\n",
            "(3, 4, 5)\n"
          ]
        }
      ]
    },
    {
      "cell_type": "code",
      "source": [
        "t1 = (1,2,3,4,5)\n",
        "t2 = (6,7,8,9)\n",
        "\n",
        "print(t1 + t2)\n",
        "print(t1)\n",
        "print(t2)\n",
        "\n",
        "print(t1 * 3)\n",
        "# 비파괴적 연산은 가능하다."
      ],
      "metadata": {
        "colab": {
          "base_uri": "https://localhost:8080/"
        },
        "id": "c5AaKJYazvAi",
        "outputId": "7df8cdd1-cce6-4928-d53f-d73dc3aa35c1"
      },
      "execution_count": 41,
      "outputs": [
        {
          "output_type": "stream",
          "name": "stdout",
          "text": [
            "(1, 2, 3, 4, 5, 6, 7, 8, 9)\n",
            "(1, 2, 3, 4, 5)\n",
            "(6, 7, 8, 9)\n",
            "(1, 2, 3, 4, 5, 1, 2, 3, 4, 5, 1, 2, 3, 4, 5)\n"
          ]
        }
      ]
    },
    {
      "cell_type": "code",
      "source": [
        "# Set 집합\n",
        "# {}를 사용하여 작성한다.\n",
        "# 중복을 허용하지 않는다.\n",
        "# 순서가 없다. (Unordered) 리스트나 튜플은 순서가 있기 때문에 Ordered 인덱싱과 슬라이싱을 통해\n",
        "# 값을 꺼낼 수 있지만, 딕셔너리와 셋은 순서가 없어 불가능 하다.\n",
        "# 중복을 허용하지 않는다는 특성을 활용하여 중복 제거 필터용으로 많이 사용된다.\n",
        "# set 자료형에 저장된 값을 꺼내려면 리스트나 튜플로 변환하여 사용한다.\n",
        "# mutable 수정 / 삭제가 가능하다.\n",
        "\n",
        "set = {1,1,2,2,2,3,4}\n",
        "print(set)\n",
        "\n",
        "# print(set[0]) 순서가 없기 때문에 불가능"
      ],
      "metadata": {
        "colab": {
          "base_uri": "https://localhost:8080/"
        },
        "id": "IZt-iTSC0qM9",
        "outputId": "51f7152e-e8bf-4bba-8b2b-2200991a5fe6"
      },
      "execution_count": 43,
      "outputs": [
        {
          "output_type": "stream",
          "name": "stdout",
          "text": [
            "{1, 2, 3, 4}\n"
          ]
        }
      ]
    },
    {
      "cell_type": "code",
      "source": [
        "s1 = set([1,1,1,2,2,3])\n",
        "print(type(s1))\n",
        "print(s1)\n",
        "\n",
        "li = list(s1)\n",
        "print(type(li))\n",
        "print(s1)\n",
        "print(li[0])\n",
        "\n",
        "# 리스트에서 중복된 값을 없애기 위해서 set으로 형변환 후 다시 리스트로 형변환을 한다."
      ],
      "metadata": {
        "colab": {
          "base_uri": "https://localhost:8080/"
        },
        "id": "Qf0g5G8421Hm",
        "outputId": "409246cb-b9ac-4a3f-f227-9228a245a7eb"
      },
      "execution_count": 4,
      "outputs": [
        {
          "output_type": "stream",
          "name": "stdout",
          "text": [
            "<class 'set'>\n",
            "{1, 2, 3}\n",
            "<class 'list'>\n",
            "{1, 2, 3}\n",
            "1\n"
          ]
        }
      ]
    },
    {
      "cell_type": "code",
      "source": [
        "# 집합 계산\n",
        "\n",
        "set1 = {1,2,3}\n",
        "set2 = {2,3,4}\n",
        "\n",
        "print(type(set1))\n",
        "print(type(set2))\n",
        "\n",
        "# 양쪽 집합에 공통적으로 포함되는 원소 -> 교집합\n",
        "print(set1 & set2)\n",
        "print(set1.intersection(set2))\n",
        "\n",
        "# 양쪽 집합의 모든 원소 -> 합집합\n",
        "print(set1 | set2)\n",
        "print(set1.union(set2))\n",
        "\n",
        "# 두개 집합의 차 -> 차집합\n",
        "print(set1 - set2)\n",
        "print(set1.difference(set2))\n"
      ],
      "metadata": {
        "colab": {
          "base_uri": "https://localhost:8080/"
        },
        "id": "uezjf3y64lmY",
        "outputId": "a6f8f46a-74da-46b3-bed4-4a3b2292da1c"
      },
      "execution_count": 11,
      "outputs": [
        {
          "output_type": "stream",
          "name": "stdout",
          "text": [
            "<class 'set'>\n",
            "<class 'set'>\n",
            "{2, 3}\n",
            "{2, 3}\n",
            "{1, 2, 3, 4}\n",
            "{1, 2, 3, 4}\n",
            "{1}\n",
            "{1}\n"
          ]
        }
      ]
    },
    {
      "cell_type": "code",
      "source": [
        "# set에서의 삽입\n",
        "\n",
        "set1 = {1,2,3,}\n",
        "print(set1)\n",
        "\n",
        "set1.add(4)\n",
        "print(set1)\n",
        "\n",
        "set1.update([5,6,7,8])\n",
        "print(set1)\n",
        "\n",
        "# set에서의 삭제\n",
        "# set은 인덱스 개념이 존재하지 않는다. 따라서 값을 지정하여 직접 삭제한다.\n",
        "\n",
        "set1.remove(4)\n",
        "print(set1)"
      ],
      "metadata": {
        "colab": {
          "base_uri": "https://localhost:8080/"
        },
        "id": "pnHn-_lU6aQk",
        "outputId": "112c8e5a-b8c5-44ff-99d7-6494d38230d8"
      },
      "execution_count": 19,
      "outputs": [
        {
          "output_type": "stream",
          "name": "stdout",
          "text": [
            "{1, 2, 3}\n",
            "{1, 2, 3, 4}\n",
            "{1, 2, 3, 4, 5, 6, 7, 8}\n",
            "{1, 2, 3, 5, 6, 7, 8}\n"
          ]
        }
      ]
    },
    {
      "cell_type": "code",
      "source": [
        "# Q1\n",
        "\n",
        "stu_id = input('학번을 입력하세요')\n",
        "\n",
        "print(stu_id[0],'학년', stu_id[1],stu_id[2],'반', stu_id[3],stu_id[4],'번')\n",
        "print(f'{stu_id[0]}학년 {stu_id[1:3]}반 {stu_id[3:]}번')"
      ],
      "metadata": {
        "colab": {
          "base_uri": "https://localhost:8080/"
        },
        "id": "17ae97no_jaY",
        "outputId": "4b5cdada-365f-4267-9931-d01ff88563a5"
      },
      "execution_count": 23,
      "outputs": [
        {
          "output_type": "stream",
          "name": "stdout",
          "text": [
            "학번을 입력하세요31025\n",
            "3 학년 1 0 반 2 5 번\n",
            "3학년 10반 25번\n"
          ]
        }
      ]
    },
    {
      "cell_type": "code",
      "source": [
        "# Q2\n",
        "\n",
        "car = input('차량번호를 입력하세요')\n",
        "\n",
        "print(f'{car}의 차량번호 끝 4자리는 {car[-4:]}입니다')"
      ],
      "metadata": {
        "colab": {
          "base_uri": "https://localhost:8080/"
        },
        "id": "QnQFp7-2B97c",
        "outputId": "5ab88b7a-0f77-4f8c-86c5-ca450d7486e9"
      },
      "execution_count": 66,
      "outputs": [
        {
          "output_type": "stream",
          "name": "stdout",
          "text": [
            "차량번호를 입력하세요서울2가 1234\n",
            "서울2가 1234의 차량번호 끝 4자리는 1234입니다\n"
          ]
        }
      ]
    },
    {
      "cell_type": "code",
      "source": [
        "# 인덱싱과 슬라이싱을 사용하지 않고\n",
        "# name = 'austin' 가운데 글자를 추출하는 프로그램\n",
        "\n",
        "name = input('홀수 갯수의 문자열을 입력하세요')\n",
        "mid = int(len(name) / 2)\n",
        "mid2 = len(name) // 2\n",
        "\n",
        "print(name[mid])\n",
        "print(name[mid2])\n"
      ],
      "metadata": {
        "colab": {
          "base_uri": "https://localhost:8080/"
        },
        "id": "uVYSTZlGDtl0",
        "outputId": "8e70f213-5965-4214-b3ab-2df7a77b5fcf"
      },
      "execution_count": 41,
      "outputs": [
        {
          "output_type": "stream",
          "name": "stdout",
          "text": [
            "홀수 갯수의 문자열을 입력하세요austin\n",
            "t\n",
            "t\n"
          ]
        }
      ]
    },
    {
      "cell_type": "code",
      "source": [
        "# [1,2,3,4,5,6,7,8,9]의 3번째 요소부터 7번째 요소만 추출한 결과에서\n",
        "# 2번째 요소를 출력하는 프로그램\n",
        "\n",
        "list = [1,2,3,4,5,6,7,8,9,10]\n",
        "print(list[2:7][1])\n"
      ],
      "metadata": {
        "colab": {
          "base_uri": "https://localhost:8080/"
        },
        "id": "kPdowoyRHkPU",
        "outputId": "a89ee346-2cdd-4360-ff3f-5bca123a0862"
      },
      "execution_count": 46,
      "outputs": [
        {
          "output_type": "stream",
          "name": "stdout",
          "text": [
            "4\n"
          ]
        }
      ]
    },
    {
      "cell_type": "code",
      "source": [
        "###########################\n",
        "# if\n",
        "###########################\n",
        "\n",
        "# 특정 조건을 만족하는지 여부에 따라 실행되는 코드가 달라져야 할 때 사용된다.\n",
        "# 날씨가 맑으면 소풍을 가고 아니면 공부를 한다.\n",
        "\n",
        "\n",
        "if True:\n",
        "  print('만족')\n",
        "else:\n",
        "  print('불만족')\n",
        "\n",
        "if False:\n",
        "  print('만족')\n",
        "else:\n",
        "  print('불만족')"
      ],
      "metadata": {
        "colab": {
          "base_uri": "https://localhost:8080/"
        },
        "id": "GRyjS3pqMcGT",
        "outputId": "67df4171-d1e7-4c4f-cfe1-5441e2635233"
      },
      "execution_count": 48,
      "outputs": [
        {
          "output_type": "stream",
          "name": "stdout",
          "text": [
            "만족\n",
            "불만족\n"
          ]
        }
      ]
    },
    {
      "cell_type": "code",
      "source": [
        "age = int(input('나이를 입력하세요'))\n",
        "\n",
        "if age >= 18:\n",
        "  print('당신은 성인입니다.')\n",
        "else:\n",
        "  print('당신은 성인이 아닙니다.')"
      ],
      "metadata": {
        "colab": {
          "base_uri": "https://localhost:8080/"
        },
        "id": "VNuv92voPIos",
        "outputId": "69a4c439-3beb-4b7b-89ad-555f07200ad7"
      },
      "execution_count": 50,
      "outputs": [
        {
          "output_type": "stream",
          "name": "stdout",
          "text": [
            "나이를 입력하세요15\n",
            "당신은 성인이 아닙니다.\n"
          ]
        }
      ]
    },
    {
      "cell_type": "code",
      "source": [
        "age = int(input('나이를 입력하세요'))\n",
        "\n",
        "if age < 10:\n",
        "  print('당신은 유아 입니다.')\n",
        "elif age < 20:\n",
        "  print('당신은 10대입니다..')\n",
        "elif age < 30:\n",
        "  print('당신은 20대입니다.')\n",
        "elif age < 40:\n",
        "  print('당신은 30대입니다..')\n",
        "elif age < 50:\n",
        "  print('당신은 40대입니다.')\n",
        "elif age < 60:\n",
        "  print('당신은 50대입니다..')\n",
        "elif age < 70:\n",
        "  print('당신은 60대입니다.')\n",
        "else:\n",
        "  print('당신은 노인입니다.')"
      ],
      "metadata": {
        "colab": {
          "base_uri": "https://localhost:8080/"
        },
        "id": "FUM9sY2KPvJL",
        "outputId": "71446d60-2f80-439a-a6e5-6ed6dc24c080"
      },
      "execution_count": 51,
      "outputs": [
        {
          "output_type": "stream",
          "name": "stdout",
          "text": [
            "나이를 입력하세요22\n",
            "당신은 20대입니다.\n"
          ]
        }
      ]
    },
    {
      "cell_type": "code",
      "source": [
        "score = int(input('당신의 점수를 입력하세요'))\n",
        "\n",
        "if score >= 90:\n",
        "  grade = 'A'\n",
        "elif score >= 80:\n",
        "  grade = 'B'\n",
        "elif score >= 70:\n",
        "  grade = 'C'\n",
        "elif score >= 60:\n",
        "  grade = 'D'\n",
        "elif score < 60:\n",
        "  grade = 'F'\n",
        "else:\n",
        "  print('유효한 점수가 아닙니다.')\n",
        "\n",
        "print(f'당신의 점수는 {score}이고 학점은 {grade}입니다')"
      ],
      "metadata": {
        "colab": {
          "base_uri": "https://localhost:8080/"
        },
        "id": "K_Ca8LRTRcD7",
        "outputId": "c1ff0039-3f81-43e1-c2c0-f74217db3135"
      },
      "execution_count": 56,
      "outputs": [
        {
          "output_type": "stream",
          "name": "stdout",
          "text": [
            "당신의 점수를 입력하세요78\n",
            "당신의 점수는 78이고 학점은 C입니다\n"
          ]
        }
      ]
    },
    {
      "cell_type": "code",
      "source": [
        "num = int(input('정수를 입력하세요'))\n",
        "\n",
        "if num % 3 == 0:\n",
        "  print(f'{num}은 3의 배수 입니다.')\n",
        "else:\n",
        "  print(f'{num}은 3의 배수가 아닙니다.')"
      ],
      "metadata": {
        "colab": {
          "base_uri": "https://localhost:8080/"
        },
        "id": "XugjpEWUT1_G",
        "outputId": "b338f146-76fa-446b-fcc7-09c5e0c82ecb"
      },
      "execution_count": 59,
      "outputs": [
        {
          "output_type": "stream",
          "name": "stdout",
          "text": [
            "정수를 입력하세요14\n",
            "14은 3의 배수가 아닙니다.\n"
          ]
        }
      ]
    },
    {
      "cell_type": "code",
      "source": [
        "num1 = int(input('정수1 입력'))\n",
        "num2 = int(input('정수2 입력'))\n",
        "num3 = int(input('정수3 입력'))\n",
        "\n",
        "if num1 > num2:\n",
        "  if num1 > num3:\n",
        "    max = num1\n",
        "elif num2 > num3:\n",
        "  max = num2\n",
        "else:\n",
        "  max = num3\n",
        "\n",
        "print(max)"
      ],
      "metadata": {
        "colab": {
          "base_uri": "https://localhost:8080/"
        },
        "id": "qmr0HgznU201",
        "outputId": "415976df-1836-4f20-d17a-654508e2bdd3"
      },
      "execution_count": 64,
      "outputs": [
        {
          "output_type": "stream",
          "name": "stdout",
          "text": [
            "정수1 입력3\n",
            "정수2 입력2\n",
            "정수3 입력1\n",
            "3\n"
          ]
        }
      ]
    }
  ]
}
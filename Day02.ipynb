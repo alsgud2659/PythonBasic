{
  "nbformat": 4,
  "nbformat_minor": 0,
  "metadata": {
    "colab": {
      "name": "Day02.ipynb",
      "provenance": [],
      "authorship_tag": "ABX9TyPPXXJidGQFtjFWMO8GLUKH",
      "include_colab_link": true
    },
    "kernelspec": {
      "name": "python3",
      "display_name": "Python 3"
    },
    "language_info": {
      "name": "python"
    }
  },
  "cells": [
    {
      "cell_type": "markdown",
      "metadata": {
        "id": "view-in-github",
        "colab_type": "text"
      },
      "source": [
        "<a href=\"https://colab.research.google.com/github/alsgud2659/ai/blob/main/Day02.ipynb\" target=\"_parent\"><img src=\"https://colab.research.google.com/assets/colab-badge.svg\" alt=\"Open In Colab\"/></a>"
      ]
    },
    {
      "cell_type": "code",
      "execution_count": null,
      "metadata": {
        "id": "6Zl7kDyiB37K"
      },
      "outputs": [],
      "source": [
        "#####################################################\n",
        "# 리스트 List  튜플 Tuple  딕셔너리 DIct  셋  Set\n",
        "#####################################################\n",
        "# 여러개의 값을 한번에 저장하는 자료형이 필요하다.  \n",
        "\n",
        "# 리스트 List \n",
        "# 지금까지 사용한 숫자 1, 문자1 등 개별적, 독립적인 자료가 아닌\n",
        "# 리스트는 이러한 자료들 여러개를 모아서 사용할 수 있게 해준다. \n",
        "# 리스트에 넣는 자료를 요소element 라고한다. \n",
        "\n",
        "# 리스트는 []로 구성한다. \n",
        "list = [1,2,3,4,5]\n",
        "print(list)\n",
        "# 리스트는 다양한 자료형의 데이터를 한번에 담을 수 있다. \n",
        "# (but, 하나의 리스트에는 한가지 자료형만 저장하는 것이 오히려 바람직하다. )\n",
        "list = [1,2,3,'대한','민국', True, False]\n",
        "print(list)\n",
        "score = [80,90,70,60]\n",
        "print(score)\n",
        "# 리스트는 인덱싱indexing과 슬라이싱slicing이 가능하다. \n",
        "print(score[0])   #파이썬은 0부터 시작한다. \n",
        "print(score[0:2]) # 슬라이싱은 0부터 2미만...처럼    끝은 미만을 나타낸다.  \n",
        "\n",
        "#리스트는 수정/삭제 가 가능하다. (mutable, 튜플은 immutalble)\n",
        "score[0] = 100\n",
        "print(score)\n",
        "score[-1] = 100\n",
        "print(score)\n",
        "# score[4]  # indexerror 아주 많이 접하게 될 에러(예외)\n",
        "\n",
        "# 리스트는 연산이 가능하다. \n",
        "list_a = [1,2,3]\n",
        "list_b = [4,5,6]\n",
        "\n",
        "print('list_a = ', list_a)\n",
        "print('list_b = ', list_b)\n",
        "print(list_a + list_b)\n",
        "print(list_a * 3)\n",
        "print(len(list_a))"
      ]
    },
    {
      "cell_type": "code",
      "source": [
        "# 리스트에 많이 사용되는 함수들\n",
        "# append(*****) 리스트에 요소를 추가할 때 사용\n",
        "\n",
        "score = [80,90,70,60]\n",
        "print(score)\n",
        "\n",
        "score.append(60)\n",
        "print(score)\n",
        "\n",
        "score.append(70)\n",
        "print(score)"
      ],
      "metadata": {
        "colab": {
          "base_uri": "https://localhost:8080/"
        },
        "id": "tDdbl5i3Iy_c",
        "outputId": "e56e2201-145e-4f42-ec4a-0bec2b41956c"
      },
      "execution_count": 2,
      "outputs": [
        {
          "output_type": "stream",
          "name": "stdout",
          "text": [
            "[80, 90, 70, 60]\n",
            "[80, 90, 70, 60, 60]\n",
            "[80, 90, 70, 60, 60, 70]\n"
          ]
        }
      ]
    },
    {
      "cell_type": "code",
      "source": [
        "#insert() 리스트에 요소를 추가할 때 사용, 특정 위치를 지정하여 추가\n",
        "score = [80,90,70,60]\n",
        "score.insert(0, 10)\n",
        "print(score)\n",
        "\n",
        "score.insert(-1, 50)\n",
        "print(score)\n",
        "\n",
        "list = []\n",
        "list.insert(0, 10)\n",
        "print(list)\n",
        "\n",
        "list.insert(-1, 50)\n",
        "print(list)\n"
      ],
      "metadata": {
        "colab": {
          "base_uri": "https://localhost:8080/"
        },
        "id": "VbQ8svkoJQlz",
        "outputId": "62f2fcb1-6082-4ea9-b2b7-444753d65bc4"
      },
      "execution_count": 7,
      "outputs": [
        {
          "output_type": "stream",
          "name": "stdout",
          "text": [
            "[10, 80, 90, 70, 60]\n",
            "[10, 80, 90, 70, 50, 60]\n",
            "[10]\n",
            "[50, 10]\n"
          ]
        }
      ]
    },
    {
      "cell_type": "code",
      "source": [
        "list_a = [1,2,3]\n",
        "list_a.extend([4,5,6])\n",
        "list_a"
      ],
      "metadata": {
        "colab": {
          "base_uri": "https://localhost:8080/"
        },
        "id": "0FzEIe9aKcCm",
        "outputId": "0626aa2d-7989-48f3-8a61-206212f6d672"
      },
      "execution_count": 8,
      "outputs": [
        {
          "output_type": "execute_result",
          "data": {
            "text/plain": [
              "[1, 2, 3, 4, 5, 6]"
            ]
          },
          "metadata": {},
          "execution_count": 8
        }
      ]
    },
    {
      "cell_type": "code",
      "source": [
        "list_a = [1,2,3]\n",
        "list_b = [4,5,6]\n",
        "print(list_a + list_b)\n",
        "print(list_a) # 비파괴적 처리\n",
        "\n",
        "# 리스트 연결만으로는 list_a에 어떠한 영향도 주지 않는다. (비파괴적 처리)\n",
        "# 하지만 extend()를 사용하면 list_a에 직접적으로 영향을 주게된다.(파괴적 처리)\n",
        "\n",
        "# 기본적으로 자료를 사용할 때는 비파괴적으로 사용하는 것이 바람직하다.\n",
        "# 가능하면 원본 데이터는 그대로 유지하고 사용하는 것이 선택지가 넓다. "
      ],
      "metadata": {
        "id": "0I-dBsbALSc6"
      },
      "execution_count": null,
      "outputs": []
    },
    {
      "cell_type": "code",
      "source": [
        "# del() 리스트에서 인덱스 위치 데이터 삭제\n",
        "\n",
        "list_a = [0,1,2,3,4,5]\n",
        "del list_a[1] # index 값으로 위치값을 삭제\n",
        "print(list_a)\n",
        "\n",
        "del list_a[1:3] # 1부터 3미만 즉 2까지\n",
        "print(list_a)\n",
        "\n",
        "del list_a[:] # 생략하면 처음부터 끝까지\n",
        "print(list_a)\n",
        "\n",
        "# list_a.clear() 리스트 요소를 전부 한번에 삭제"
      ],
      "metadata": {
        "colab": {
          "base_uri": "https://localhost:8080/"
        },
        "id": "Bju4gprbMWDH",
        "outputId": "f53d4ef6-d726-4324-a069-5b0c3e18f6ec"
      },
      "execution_count": 14,
      "outputs": [
        {
          "output_type": "stream",
          "name": "stdout",
          "text": [
            "[0, 2, 3, 4, 5]\n",
            "[0, 4, 5]\n",
            "[]\n"
          ]
        }
      ]
    },
    {
      "cell_type": "code",
      "source": [
        "# pop() 리스트에서 마지막 위치 데이터 삭제\n",
        "\n",
        "list_a = [0,1,2,3,4,5]\n",
        "list_a.pop()\n",
        "print(list_a)\n",
        "list_a.pop(1)\n",
        "print(list_a)"
      ],
      "metadata": {
        "colab": {
          "base_uri": "https://localhost:8080/"
        },
        "id": "JBxcdlCVNPed",
        "outputId": "5f57dd5e-e1c1-40f2-c4ec-1942ae779a9f"
      },
      "execution_count": 11,
      "outputs": [
        {
          "output_type": "stream",
          "name": "stdout",
          "text": [
            "[0, 1, 2, 3, 4]\n",
            "[0, 2, 3, 4]\n"
          ]
        }
      ]
    },
    {
      "cell_type": "code",
      "source": [
        "# remove 값으로 삭제\n",
        "\n",
        "list_c = [1,2,1,2]\n",
        "list_c.remove(2) # remove는  요소의 값을 찾아 삭제한다.\n",
        "                 # 동일한 값이 여러개 있을 때는 하나씩 순차적으로 삭제한다.\n",
        "                 # 리스트에서 중복된 여러개의 값을 제거하려면 반복문을 사용한다.\n",
        "print(list_c)\n",
        "list_c.remove(2)\n",
        "print(list_c)"
      ],
      "metadata": {
        "colab": {
          "base_uri": "https://localhost:8080/"
        },
        "id": "YBpBqAdjOZpK",
        "outputId": "61b8517d-e000-4a84-a0c1-67bce049cc43"
      },
      "execution_count": 16,
      "outputs": [
        {
          "output_type": "stream",
          "name": "stdout",
          "text": [
            "[1, 1, 2]\n",
            "[1, 1]\n"
          ]
        }
      ]
    },
    {
      "cell_type": "code",
      "source": [
        "list = [1,2,3,4,5]\n",
        "print(list[0]) # indexing 비파괴적으로 동작한다.\n",
        "print(list)\n",
        "\n",
        "print(list.pop()) # pop은 파괴적으로 동작한다.\n",
        "print(list)"
      ],
      "metadata": {
        "colab": {
          "base_uri": "https://localhost:8080/"
        },
        "id": "fP2ZkZGYPwtB",
        "outputId": "7948499c-cfb2-4970-9e48-d2536ae7c471"
      },
      "execution_count": 17,
      "outputs": [
        {
          "output_type": "stream",
          "name": "stdout",
          "text": [
            "1\n",
            "[1, 2, 3, 4, 5]\n",
            "5\n",
            "[1, 2, 3, 4]\n"
          ]
        }
      ]
    },
    {
      "cell_type": "code",
      "source": [
        "# in / not in 리스트에 존재하는 요소인지 확인\n",
        "\n",
        "list = [222,434,65,123,547,876]\n",
        "print(222 in list)\n",
        "\n",
        "print(221 in list)\n",
        "\n",
        "print(221 not in list)"
      ],
      "metadata": {
        "colab": {
          "base_uri": "https://localhost:8080/"
        },
        "id": "tX-eW8PwQXhY",
        "outputId": "40e33834-3bbe-410e-b32e-04ba7a464942"
      },
      "execution_count": 19,
      "outputs": [
        {
          "output_type": "stream",
          "name": "stdout",
          "text": [
            "True\n",
            "False\n",
            "True\n"
          ]
        }
      ]
    },
    {
      "cell_type": "code",
      "source": [
        "# 딕셔너리"
      ],
      "metadata": {
        "id": "tUFqgv4SRl7l"
      },
      "execution_count": null,
      "outputs": []
    }
  ]
}
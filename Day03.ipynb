{
  "nbformat": 4,
  "nbformat_minor": 0,
  "metadata": {
    "colab": {
      "name": "Day03.ipynb",
      "provenance": [],
      "authorship_tag": "ABX9TyNwo8DzohkJrInZ7YBjKu8Q",
      "include_colab_link": true
    },
    "kernelspec": {
      "name": "python3",
      "display_name": "Python 3"
    },
    "language_info": {
      "name": "python"
    }
  },
  "cells": [
    {
      "cell_type": "markdown",
      "metadata": {
        "id": "view-in-github",
        "colab_type": "text"
      },
      "source": [
        "<a href=\"https://colab.research.google.com/github/alsgud2659/ai/blob/main/Day03.ipynb\" target=\"_parent\"><img src=\"https://colab.research.google.com/assets/colab-badge.svg\" alt=\"Open In Colab\"/></a>"
      ]
    },
    {
      "cell_type": "code",
      "execution_count": 14,
      "metadata": {
        "colab": {
          "base_uri": "https://localhost:8080/"
        },
        "id": "3H05jZknH3Vs",
        "outputId": "c8e72e1c-4af0-4bc9-df72-ff50917e045e"
      },
      "outputs": [
        {
          "output_type": "stream",
          "name": "stdout",
          "text": [
            "당신의 점수를 입력하세요95\n",
            "당신의 점수는 95이고 학점은 AO입니다.\n"
          ]
        }
      ],
      "source": [
        "score = int(input('당신의 점수를 입력하세요'))\n",
        "grade = ''\n",
        "\n",
        "if score >= 90:\n",
        "  grade = 'A'\n",
        "elif score >= 80:\n",
        "  grade = 'B'\n",
        "elif score >= 70:\n",
        "  grade = 'C'\n",
        "elif score >= 60:\n",
        "  grade = 'D'\n",
        "else:\n",
        "  grade = 'F'\n",
        "\n",
        "if int(score%10) >= 4:\n",
        "  addi = 'O'\n",
        "elif int(score%10) >= 7:\n",
        "  addi = '+'\n",
        "else:\n",
        "  addi = '-'\n",
        "\n",
        "print(f'당신의 점수는 {score}이고 학점은 {grade}{addi}입니다.')"
      ]
    },
    {
      "cell_type": "code",
      "source": [
        "###################\n",
        "# while\n",
        "###################\n",
        "\n",
        "# 반복문은 작업 수행을 한번이 아니라 계속해서 수행해야 할 때 사용한다.\n",
        "# while 반복 작업을 몇 번 수행할지 확실하지 않을 때 주로 사용한다.\n",
        "\n",
        "while True:\n",
        "  print('운동장 돌기')"
      ],
      "metadata": {
        "id": "XExpnX0-R3dA"
      },
      "execution_count": null,
      "outputs": []
    },
    {
      "cell_type": "code",
      "source": [
        "n = 1\n",
        "while n <= 10:\n",
        "  print(n)\n",
        "  n += 1\n",
        "\n",
        "print('-----------')\n",
        "print(n)"
      ],
      "metadata": {
        "colab": {
          "base_uri": "https://localhost:8080/"
        },
        "id": "2w-MhEhnTEqF",
        "outputId": "93759b9a-ca7e-4b4d-bbed-783bc0e97a15"
      },
      "execution_count": 15,
      "outputs": [
        {
          "output_type": "stream",
          "name": "stdout",
          "text": [
            "1\n",
            "2\n",
            "3\n",
            "4\n",
            "5\n",
            "6\n",
            "7\n",
            "8\n",
            "9\n",
            "10\n",
            "-----------\n",
            "11\n"
          ]
        }
      ]
    },
    {
      "cell_type": "code",
      "source": [
        "n = 10\n",
        "while n >= 1:\n",
        "  print(n)\n",
        "  n -= 2 "
      ],
      "metadata": {
        "colab": {
          "base_uri": "https://localhost:8080/"
        },
        "id": "e2EX8cOIUX4J",
        "outputId": "7abe35f3-c841-406f-a5dd-d1564ab69ad9"
      },
      "execution_count": 20,
      "outputs": [
        {
          "output_type": "stream",
          "name": "stdout",
          "text": [
            "10\n",
            "8\n",
            "6\n",
            "4\n",
            "2\n"
          ]
        }
      ]
    },
    {
      "cell_type": "code",
      "source": [
        "list = []\n",
        "while True:\n",
        "  num = int(input(\"정수입력\"))\n",
        "  if num == 0:\n",
        "    break\n",
        "\n",
        "  list.append(num)\n",
        "\n",
        "print(list)"
      ],
      "metadata": {
        "colab": {
          "base_uri": "https://localhost:8080/"
        },
        "id": "5yUDwmMJVUZt",
        "outputId": "950c93e6-8dff-4a77-bff1-a41c51f31b72"
      },
      "execution_count": 22,
      "outputs": [
        {
          "output_type": "stream",
          "name": "stdout",
          "text": [
            "정수입력1\n",
            "정수입력2\n",
            "정수입력3\n",
            "정수입력0\n",
            "[1, 2, 3]\n"
          ]
        }
      ]
    },
    {
      "cell_type": "code",
      "source": [
        "# while 중첩\n",
        "# while 내부에 또 다른 while을 사용하는것을 중첩이라고 한다.\n",
        "\n",
        "day = 1\n",
        "time = 1\n",
        "\n",
        "while day <= 3:\n",
        "  while time <= 3:\n",
        "    print(f'{day}일차 {time}교시입니다.')\n",
        "    time += 1\n",
        "  day += 1\n",
        "  time = 1"
      ],
      "metadata": {
        "colab": {
          "base_uri": "https://localhost:8080/"
        },
        "id": "5iZxJHvMZToQ",
        "outputId": "e9858101-7fd9-45a5-dcc5-b6930b73b1b0"
      },
      "execution_count": 29,
      "outputs": [
        {
          "output_type": "stream",
          "name": "stdout",
          "text": [
            "1일차 1교시입니다.\n",
            "1일차 2교시입니다.\n",
            "1일차 3교시입니다.\n",
            "2일차 1교시입니다.\n",
            "2일차 2교시입니다.\n",
            "2일차 3교시입니다.\n",
            "3일차 1교시입니다.\n",
            "3일차 2교시입니다.\n",
            "3일차 3교시입니다.\n"
          ]
        }
      ]
    },
    {
      "cell_type": "code",
      "source": [
        "num1 = 2\n",
        "num2 = 1\n",
        "\n",
        "while num1 <= 9:\n",
        "  while num2 <= 9:\n",
        "    print(f'{num1} * {num2} = {num1 * num2}')\n",
        "    num2 += 1\n",
        "  num2 = 1\n",
        "  num1 += 1"
      ],
      "metadata": {
        "colab": {
          "base_uri": "https://localhost:8080/"
        },
        "id": "F_GiBIJQuVht",
        "outputId": "2994b76b-824f-456e-d799-8ca8aed8e4db"
      },
      "execution_count": 32,
      "outputs": [
        {
          "output_type": "stream",
          "name": "stdout",
          "text": [
            "2 * 1 = 2\n",
            "2 * 2 = 4\n",
            "2 * 3 = 6\n",
            "2 * 4 = 8\n",
            "2 * 5 = 10\n",
            "2 * 6 = 12\n",
            "2 * 7 = 14\n",
            "2 * 8 = 16\n",
            "2 * 9 = 18\n",
            "3 * 1 = 3\n",
            "3 * 2 = 6\n",
            "3 * 3 = 9\n",
            "3 * 4 = 12\n",
            "3 * 5 = 15\n",
            "3 * 6 = 18\n",
            "3 * 7 = 21\n",
            "3 * 8 = 24\n",
            "3 * 9 = 27\n",
            "4 * 1 = 4\n",
            "4 * 2 = 8\n",
            "4 * 3 = 12\n",
            "4 * 4 = 16\n",
            "4 * 5 = 20\n",
            "4 * 6 = 24\n",
            "4 * 7 = 28\n",
            "4 * 8 = 32\n",
            "4 * 9 = 36\n",
            "5 * 1 = 5\n",
            "5 * 2 = 10\n",
            "5 * 3 = 15\n",
            "5 * 4 = 20\n",
            "5 * 5 = 25\n",
            "5 * 6 = 30\n",
            "5 * 7 = 35\n",
            "5 * 8 = 40\n",
            "5 * 9 = 45\n",
            "6 * 1 = 6\n",
            "6 * 2 = 12\n",
            "6 * 3 = 18\n",
            "6 * 4 = 24\n",
            "6 * 5 = 30\n",
            "6 * 6 = 36\n",
            "6 * 7 = 42\n",
            "6 * 8 = 48\n",
            "6 * 9 = 54\n",
            "7 * 1 = 7\n",
            "7 * 2 = 14\n",
            "7 * 3 = 21\n",
            "7 * 4 = 28\n",
            "7 * 5 = 35\n",
            "7 * 6 = 42\n",
            "7 * 7 = 49\n",
            "7 * 8 = 56\n",
            "7 * 9 = 63\n",
            "8 * 1 = 8\n",
            "8 * 2 = 16\n",
            "8 * 3 = 24\n",
            "8 * 4 = 32\n",
            "8 * 5 = 40\n",
            "8 * 6 = 48\n",
            "8 * 7 = 56\n",
            "8 * 8 = 64\n",
            "8 * 9 = 72\n",
            "9 * 1 = 9\n",
            "9 * 2 = 18\n",
            "9 * 3 = 27\n",
            "9 * 4 = 36\n",
            "9 * 5 = 45\n",
            "9 * 6 = 54\n",
            "9 * 7 = 63\n",
            "9 * 8 = 72\n",
            "9 * 9 = 81\n"
          ]
        }
      ]
    },
    {
      "cell_type": "code",
      "source": [
        "loop = int(input('정수를 입력하세요'))\n",
        "num = 1\n",
        "\n",
        "if loop <= 0:\n",
        "  print('잘못된 입력입니다.')\n",
        "  \n",
        "while loop > 0:\n",
        "  print(f'{num}번째 Hello')\n",
        "  num += 1\n",
        "  loop -= 1\n",
        "\n"
      ],
      "metadata": {
        "colab": {
          "base_uri": "https://localhost:8080/"
        },
        "id": "58iGNVXgvLhZ",
        "outputId": "d52e37ee-8f9d-45a0-e492-43030b14284e"
      },
      "execution_count": 55,
      "outputs": [
        {
          "output_type": "stream",
          "name": "stdout",
          "text": [
            "정수를 입력하세요3\n",
            "1번째 Hello\n",
            "2번째 Hello\n",
            "3번째 Hello\n"
          ]
        }
      ]
    },
    {
      "cell_type": "code",
      "source": [
        "num = 1\n",
        "\n",
        "while num <= 100:\n",
        "  if num % 7 == 0:\n",
        "    print(num)\n",
        "  num += 1"
      ],
      "metadata": {
        "colab": {
          "base_uri": "https://localhost:8080/"
        },
        "id": "iFGyIV5LwpKU",
        "outputId": "92ef7f99-ba93-4f1f-d874-767351133c3b"
      },
      "execution_count": 54,
      "outputs": [
        {
          "output_type": "stream",
          "name": "stdout",
          "text": [
            "7\n",
            "14\n",
            "21\n",
            "28\n",
            "35\n",
            "42\n",
            "49\n",
            "56\n",
            "63\n",
            "70\n",
            "77\n",
            "84\n",
            "91\n",
            "98\n"
          ]
        }
      ]
    },
    {
      "cell_type": "code",
      "source": [
        "money = int(input('자판기에 얼마를 넣을까요'))\n",
        "cup = 0\n",
        "\n",
        "while money > 299:\n",
        "  cup += 1\n",
        "  money -= 300\n",
        "  print(f'커피{cup}잔 잔돈{money}')"
      ],
      "metadata": {
        "colab": {
          "base_uri": "https://localhost:8080/"
        },
        "id": "6qWWtIkD3Gr9",
        "outputId": "ae7b8689-5d1b-4e8f-cdc5-8bebfff945fb"
      },
      "execution_count": 61,
      "outputs": [
        {
          "output_type": "stream",
          "name": "stdout",
          "text": [
            "자판기에 얼마를 넣을까요1499\n",
            "커피1잔 잔돈1199\n",
            "커피2잔 잔돈899\n",
            "커피3잔 잔돈599\n",
            "커피4잔 잔돈299\n"
          ]
        }
      ]
    },
    {
      "cell_type": "code",
      "source": [
        "set1 = set([])\n",
        "\n",
        "while len(set1) <= 4:\n",
        "  num = int(input('0 부터 9까지의 정수를 입력해주세요'))\n",
        "  set1.add(num)\n",
        "  print(len(set1))\n",
        "  print(set1)\n",
        "  \n",
        "print('5개의 정수가 모두 입력되었습니다.')\n",
        "print(f'입력된 값은 {set1}')"
      ],
      "metadata": {
        "colab": {
          "base_uri": "https://localhost:8080/"
        },
        "id": "y6DpfiPb86up",
        "outputId": "c3349a03-5f31-4097-db19-984183c6c424"
      },
      "execution_count": 83,
      "outputs": [
        {
          "output_type": "stream",
          "name": "stdout",
          "text": [
            "0 부터 9까지의 정수를 입력해주세요1\n",
            "1\n",
            "{1}\n",
            "0 부터 9까지의 정수를 입력해주세요1\n",
            "1\n",
            "{1}\n",
            "0 부터 9까지의 정수를 입력해주세요2\n",
            "2\n",
            "{1, 2}\n",
            "0 부터 9까지의 정수를 입력해주세요3\n",
            "3\n",
            "{1, 2, 3}\n",
            "0 부터 9까지의 정수를 입력해주세요4\n",
            "4\n",
            "{1, 2, 3, 4}\n",
            "0 부터 9까지의 정수를 입력해주세요5\n",
            "5\n",
            "{1, 2, 3, 4, 5}\n",
            "5개의 정수가 모두 입력되었습니다.\n",
            "입력된 값은 {1, 2, 3, 4, 5}\n"
          ]
        }
      ]
    },
    {
      "cell_type": "code",
      "source": [
        "num = 1\n",
        "\n",
        "while num <= 100:\n",
        "  print(num, end = '\\t')\n",
        "  if num % 10 == 0:\n",
        "    print('\\n')\n",
        "  num += 1\n",
        "   "
      ],
      "metadata": {
        "colab": {
          "base_uri": "https://localhost:8080/"
        },
        "id": "MW3XweTIDIs8",
        "outputId": "e05b4c73-f32f-43af-8f4e-149f429f2f19"
      },
      "execution_count": 105,
      "outputs": [
        {
          "output_type": "stream",
          "name": "stdout",
          "text": [
            "1\t2\t3\t4\t5\t6\t7\t8\t9\t10\t\n",
            "\n",
            "11\t12\t13\t14\t15\t16\t17\t18\t19\t20\t\n",
            "\n",
            "21\t22\t23\t24\t25\t26\t27\t28\t29\t30\t\n",
            "\n",
            "31\t32\t33\t34\t35\t36\t37\t38\t39\t40\t\n",
            "\n",
            "41\t42\t43\t44\t45\t46\t47\t48\t49\t50\t\n",
            "\n",
            "51\t52\t53\t54\t55\t56\t57\t58\t59\t60\t\n",
            "\n",
            "61\t62\t63\t64\t65\t66\t67\t68\t69\t70\t\n",
            "\n",
            "71\t72\t73\t74\t75\t76\t77\t78\t79\t80\t\n",
            "\n",
            "81\t82\t83\t84\t85\t86\t87\t88\t89\t90\t\n",
            "\n",
            "91\t92\t93\t94\t95\t96\t97\t98\t99\t100\t\n",
            "\n"
          ]
        }
      ]
    },
    {
      "cell_type": "code",
      "source": [
        "#############\n",
        "# for\n",
        "#############\n",
        "\n",
        "# 몇번 반복시킬지 그 횟수가 명확할 때 주로 사용한다.\n",
        "\n",
        "# for 변수 in 반복시킬 값들:\n",
        "#   반복실행문\n",
        "\n",
        "# 리스트\n",
        "# for i in [1,2,3]:\n",
        "#   print(i)\n",
        "\n",
        "# 문자열\n",
        "# for i in 'hello':\n",
        "#   print(i)\n",
        "\n",
        "# 튜플\n",
        "# for i in (1,2,3):\n",
        "#   print(i)\n",
        "\n",
        "# range()\n",
        "for i in range(1,4):  # range(시작(생략가능), 끝(미만), 스텝(생략가능))\n",
        "  print(i)\n",
        "\n",
        "# set, dict는 순서와 상관없이는 사용 가능"
      ],
      "metadata": {
        "colab": {
          "base_uri": "https://localhost:8080/"
        },
        "id": "Jo7z3hbrLarM",
        "outputId": "566a02b5-4f7c-45e3-a8f1-b12d857b18a3"
      },
      "execution_count": 107,
      "outputs": [
        {
          "output_type": "stream",
          "name": "stdout",
          "text": [
            "1\n",
            "2\n",
            "3\n"
          ]
        }
      ]
    },
    {
      "cell_type": "code",
      "source": [
        "password = input('비밀번호를 입력하세요')\n",
        "alp = 0\n",
        "num = 0\n",
        "\n",
        "for ch in password:\n",
        "  if ch.isalpha():\n",
        "    alp += 1\n",
        "  elif ch.isnumeric():\n",
        "    num += 1\n",
        "  \n",
        "if alp == 0 or num == 0:\n",
        "  print('불가능한 비밀번호입니다.')\n",
        "else:\n",
        "  print('사용가능한 비밀번호입니다.')"
      ],
      "metadata": {
        "colab": {
          "base_uri": "https://localhost:8080/"
        },
        "id": "Sc5IhOFJOHte",
        "outputId": "0cb6e15f-2905-4e70-f521-6bc152e7c284"
      },
      "execution_count": 118,
      "outputs": [
        {
          "output_type": "stream",
          "name": "stdout",
          "text": [
            "비밀번호를 입력하세요qwefasdf\n",
            "불가능한 비밀번호입니다.\n"
          ]
        }
      ]
    },
    {
      "cell_type": "code",
      "source": [
        "# range([start], stop, [step])\n",
        "\n",
        "# 숫자들은 컬렉션으로 만든다.\n",
        "# start를 생략하면 0부터 시작한다.\n",
        "# stop은 생략할 수 있다.\n",
        "# step을 생략하면 1씩 증가한다.\n",
        "\n"
      ],
      "metadata": {
        "id": "1cSYUrWvWOmi"
      },
      "execution_count": null,
      "outputs": []
    },
    {
      "cell_type": "code",
      "source": [
        "num = int(input('출력할 구구단을 입력하세요'))\n",
        "\n",
        "for i in range(1,10,1):\n",
        "  print(f'{num} * {i} = {num * i}')"
      ],
      "metadata": {
        "colab": {
          "base_uri": "https://localhost:8080/"
        },
        "id": "uuYNVIr6W6cv",
        "outputId": "3ca53f25-7664-4c86-ee08-16d919954f45"
      },
      "execution_count": 119,
      "outputs": [
        {
          "output_type": "stream",
          "name": "stdout",
          "text": [
            "출력할 구구단을 입력하세요5\n",
            "5 * 1 = 5\n",
            "5 * 2 = 10\n",
            "5 * 3 = 15\n",
            "5 * 4 = 20\n",
            "5 * 5 = 25\n",
            "5 * 6 = 30\n",
            "5 * 7 = 35\n",
            "5 * 8 = 40\n",
            "5 * 9 = 45\n"
          ]
        }
      ]
    },
    {
      "cell_type": "code",
      "source": [
        "# set, dict도 for문으로 사용은 가능하나 순서는 보장하지 않는다.\n",
        "\n",
        "for i in {'가위','바위','보'}:\n",
        "  print(i)"
      ],
      "metadata": {
        "colab": {
          "base_uri": "https://localhost:8080/"
        },
        "id": "ZJRaHJSSYHQG",
        "outputId": "52aa9439-8382-4025-c6a2-ce50ed6ef14a"
      },
      "execution_count": 122,
      "outputs": [
        {
          "output_type": "stream",
          "name": "stdout",
          "text": [
            "바위\n",
            "가위\n",
            "보\n"
          ]
        }
      ]
    },
    {
      "cell_type": "code",
      "source": [
        "person = {\n",
        "    'name': '에밀리',\n",
        "    'age' : '20'\n",
        "}\n",
        "\n",
        "for i in person:\n",
        "  print(i)\n",
        "\n",
        "for i in person:\n",
        "  print(person[i])"
      ],
      "metadata": {
        "colab": {
          "base_uri": "https://localhost:8080/"
        },
        "id": "sdxgtSorYauz",
        "outputId": "0b79644b-5f4c-4c06-88ef-7754eca83184"
      },
      "execution_count": 123,
      "outputs": [
        {
          "output_type": "stream",
          "name": "stdout",
          "text": [
            "name\n",
            "age\n",
            "에밀리\n",
            "20\n"
          ]
        }
      ]
    },
    {
      "cell_type": "code",
      "source": [
        "num = int(input('양의 정수 하나를 입력해주세요'))\n",
        "\n",
        "sum = 0\n",
        "\n",
        "for i in range(1,num + 1,1):\n",
        "  sum += i\n",
        "\n",
        "print(f'1부터 {num}사이의 모든 정수의 합계는 {sum}입니다.')"
      ],
      "metadata": {
        "colab": {
          "base_uri": "https://localhost:8080/"
        },
        "id": "iqlDo1mUZMap",
        "outputId": "c838abc5-ee55-4da0-84f5-1fb4f54fb7dd"
      },
      "execution_count": 126,
      "outputs": [
        {
          "output_type": "stream",
          "name": "stdout",
          "text": [
            "양의 정수 하나를 입력해주세요4\n",
            "1부터 4사이의 모든 정수의 합계는 10입니다.\n"
          ]
        }
      ]
    },
    {
      "cell_type": "code",
      "source": [
        "num = int(input('몇개의 과일을 보관할까요'))\n",
        "basket = []\n",
        "mid = ''\n",
        "for i in range(1, num + 1):\n",
        "  mid = input(f'{i}번째 과일을 입력해 주세요')\n",
        "  basket.append(mid)\n",
        "\n",
        "print(f'입력받은 과일들은 {basket}입니다.')"
      ],
      "metadata": {
        "colab": {
          "base_uri": "https://localhost:8080/"
        },
        "id": "Kj4wwTLFarXL",
        "outputId": "519e2fa4-49bd-443d-ae39-eab9b66c0685"
      },
      "execution_count": 129,
      "outputs": [
        {
          "output_type": "stream",
          "name": "stdout",
          "text": [
            "몇개의 과일을 보관할까요2\n",
            "1번째 과일을 입력해 주세요사과\n",
            "2번째 과일을 입력해 주세요배\n",
            "입력받은 과일들은 ['사과', '배']입니다.\n"
          ]
        }
      ]
    },
    {
      "cell_type": "code",
      "source": [
        "str_i = ''\n",
        "for i in range(1, 100):\n",
        "  str_i = str(i)\n",
        "  if '3' in str_i or '6' in str_i or '9' in str_i:\n",
        "    str_i = '짝'\n",
        "  \n",
        "for j in range(0, 10, 1):\n",
        "  for k in range(0, 10, 1):\n",
        "    print(str_i, end='\\t')\n",
        "  print('\\n')"
      ],
      "metadata": {
        "colab": {
          "base_uri": "https://localhost:8080/"
        },
        "id": "m1umstXNbqzF",
        "outputId": "52d0d498-e507-4bec-cfc5-af29c58003aa"
      },
      "execution_count": 141,
      "outputs": [
        {
          "output_type": "stream",
          "name": "stdout",
          "text": [
            "짝\t짝\t짝\t짝\t짝\t짝\t짝\t짝\t짝\t짝\t\n",
            "\n",
            "짝\t짝\t짝\t짝\t짝\t짝\t짝\t짝\t짝\t짝\t\n",
            "\n",
            "짝\t짝\t짝\t짝\t짝\t짝\t짝\t짝\t짝\t짝\t\n",
            "\n",
            "짝\t짝\t짝\t짝\t짝\t짝\t짝\t짝\t짝\t짝\t\n",
            "\n",
            "짝\t짝\t짝\t짝\t짝\t짝\t짝\t짝\t짝\t짝\t\n",
            "\n",
            "짝\t짝\t짝\t짝\t짝\t짝\t짝\t짝\t짝\t짝\t\n",
            "\n",
            "짝\t짝\t짝\t짝\t짝\t짝\t짝\t짝\t짝\t짝\t\n",
            "\n",
            "짝\t짝\t짝\t짝\t짝\t짝\t짝\t짝\t짝\t짝\t\n",
            "\n",
            "짝\t짝\t짝\t짝\t짝\t짝\t짝\t짝\t짝\t짝\t\n",
            "\n",
            "짝\t짝\t짝\t짝\t짝\t짝\t짝\t짝\t짝\t짝\t\n",
            "\n"
          ]
        }
      ]
    },
    {
      "cell_type": "code",
      "source": [
        "\n",
        "for i in range(1, 100):\n",
        "    str_i = str(i)\n",
        "    count = 0\n",
        "    ending = '\\t'\n",
        "    for j in str_i:\n",
        "        if j == '3' or j == '6' or j == '9':\n",
        "            count += 1\n",
        "    if i % 10 == 0:\n",
        "        ending = '\\n'\n",
        "    if count == 0:\n",
        "        print(i, end = ending)\n",
        "    else:\n",
        "        print(count * '짝', end = ending)\n"
      ],
      "metadata": {
        "colab": {
          "base_uri": "https://localhost:8080/"
        },
        "id": "mBOMqZSdg1NR",
        "outputId": "26e13a34-4092-4852-c4ea-7ec53e0a4ef2"
      },
      "execution_count": 143,
      "outputs": [
        {
          "output_type": "stream",
          "name": "stdout",
          "text": [
            "1\t2\t짝\t4\t5\t짝\t7\t8\t짝\t10\n",
            "11\t12\t짝\t14\t15\t짝\t17\t18\t짝\t20\n",
            "21\t22\t짝\t24\t25\t짝\t27\t28\t짝\t짝\n",
            "짝\t짝\t짝짝\t짝\t짝\t짝짝\t짝\t짝\t짝짝\t40\n",
            "41\t42\t짝\t44\t45\t짝\t47\t48\t짝\t50\n",
            "51\t52\t짝\t54\t55\t짝\t57\t58\t짝\t짝\n",
            "짝\t짝\t짝짝\t짝\t짝\t짝짝\t짝\t짝\t짝짝\t70\n",
            "71\t72\t짝\t74\t75\t짝\t77\t78\t짝\t80\n",
            "81\t82\t짝\t84\t85\t짝\t87\t88\t짝\t짝\n",
            "짝\t짝\t짝짝\t짝\t짝\t짝짝\t짝\t짝\t짝짝\t"
          ]
        }
      ]
    }
  ]
}
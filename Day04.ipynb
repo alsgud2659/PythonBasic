{
 "cells": [
  {
   "cell_type": "code",
   "execution_count": 1,
   "metadata": {},
   "outputs": [
    {
     "name": "stdout",
     "output_type": "stream",
     "text": [
      "5\n"
     ]
    }
   ],
   "source": [
    "# 문자열 길이 구하기\n",
    "\n",
    "print(len('안녕하세요'))"
   ]
  },
  {
   "cell_type": "code",
   "execution_count": 2,
   "metadata": {},
   "outputs": [
    {
     "name": "stdout",
     "output_type": "stream",
     "text": [
      "True\n"
     ]
    }
   ],
   "source": [
    "# 조건문\n",
    "\n",
    "# bool & if\n",
    "\n",
    "print(True)"
   ]
  },
  {
   "cell_type": "code",
   "execution_count": 4,
   "metadata": {},
   "outputs": [
    {
     "name": "stdout",
     "output_type": "stream",
     "text": [
      "False\n",
      "True\n",
      "True\n",
      "False\n",
      "False\n"
     ]
    }
   ],
   "source": [
    "print(10 == 100)\n",
    "print(10 != 100)\n",
    "print(10 < 100)\n",
    "print(10 > 100)\n",
    "print(10 >= 100)\n"
   ]
  },
  {
   "cell_type": "code",
   "execution_count": 5,
   "metadata": {},
   "outputs": [
    {
     "name": "stdout",
     "output_type": "stream",
     "text": [
      "True\n",
      "False\n",
      "True\n",
      "False\n",
      "True\n"
     ]
    }
   ],
   "source": [
    "print('가방' == '가방')\n",
    "print('가방' == '백')\n",
    "print('가방' != '백') \n",
    "print('가방' > '백') # 한글은 사전 순서(가나다순)\n",
    "print('가방' < '백')"
   ]
  },
  {
   "cell_type": "code",
   "execution_count": 7,
   "metadata": {},
   "outputs": [
    {
     "name": "stdout",
     "output_type": "stream",
     "text": [
      "음수입니다.\n"
     ]
    }
   ],
   "source": [
    "# if 조건문...\n",
    "# 조건에 따라 특정 코드를 실행하거나 특정 코드를 실행하지 않게 만들고 싶을 때 사용\n",
    "# 코드의 실행 흐름을 변경시키는 것을 조건 분기라고 부른다.\n",
    "\n",
    "num = int(input('정수를 입력하세요 >>'))\n",
    "\n",
    "if num > 0:\n",
    "    print('양수입니다.')\n",
    "    \n",
    "if num < 0:\n",
    "    print('음수입니다.')\n",
    "    \n",
    "if num == 0:\n",
    "    print('0입니다.')"
   ]
  },
  {
   "cell_type": "code",
   "execution_count": 12,
   "metadata": {},
   "outputs": [
    {
     "name": "stdout",
     "output_type": "stream",
     "text": [
      "2022-01-28 14:33:07.693097\n",
      "2022 년\n",
      "1 월\n",
      "28 일\n",
      "14\n",
      "33\n",
      "7\n"
     ]
    }
   ],
   "source": [
    "# 날짜/시간과 관련된 기능을 가져온다.\n",
    "\n",
    "import datetime\n",
    "\n",
    "# 현재의 날짜와 시간을 구하는 함수\n",
    "now = datetime.datetime.now()\n",
    "\n",
    "print(now)\n",
    "print(now.year,'년')\n",
    "print(now.month,'월')\n",
    "print(now.day, '일')\n",
    "print(now.hour)\n",
    "print(now.minute)\n",
    "print(now.second)\n"
   ]
  },
  {
   "cell_type": "code",
   "execution_count": 14,
   "metadata": {},
   "outputs": [
    {
     "name": "stdout",
     "output_type": "stream",
     "text": [
      "현재 시각은 14시 35분 오후입니다.\n"
     ]
    }
   ],
   "source": [
    "import datetime\n",
    "\n",
    "now = datetime.datetime.now()\n",
    "\n",
    "if now.hour > 11:\n",
    "    print(f'현재 시각은 {now.hour}시 {now.minute}분 오후입니다.')\n",
    "else:\n",
    "    print(f'현재 시각은 {now.hour}시 {now.minute}분 오전입니다.')"
   ]
  },
  {
   "cell_type": "code",
   "execution_count": 16,
   "metadata": {},
   "outputs": [
    {
     "name": "stdout",
     "output_type": "stream",
     "text": [
      "이번달은 1월로 겨울입니다.\n"
     ]
    }
   ],
   "source": [
    "import datetime\n",
    "\n",
    "now = datetime.datetime.now()\n",
    "\n",
    "if now.month >= 1 and now.month <= 2:\n",
    "    season = '겨울'\n",
    "    \n",
    "if now.month >= 3 and now.month <= 5:\n",
    "    season = '봄'\n",
    "\n",
    "if now.month >= 6 and now.month <= 8:\n",
    "    season = '여름'\n",
    "    \n",
    "if now.month >= 9 and now.month <= 11:\n",
    "    season = '가을'\n",
    "    \n",
    "if now.month == 12:\n",
    "    season = '겨울'\n",
    "    \n",
    "print(f'이번달은 {now.month}월로 {season}입니다.')"
   ]
  },
  {
   "cell_type": "code",
   "execution_count": 26,
   "metadata": {},
   "outputs": [
    {
     "name": "stdout",
     "output_type": "stream",
     "text": [
      "홀수입니다.\n"
     ]
    }
   ],
   "source": [
    "num = input('정수를 입력하세요')\n",
    "\n",
    "if num[-1] in '02468':\n",
    "    print('짝수입니다.')\n",
    "else:\n",
    "    print('홀수입니다.')"
   ]
  },
  {
   "cell_type": "code",
   "execution_count": null,
   "metadata": {},
   "outputs": [],
   "source": [
    "# pass\n",
    "\n",
    "num = input('정수를 입력하세요')\n",
    "\n",
    "if num > 0:\n",
    "    pass\n",
    "else:\n",
    "    pass"
   ]
  },
  {
   "cell_type": "code",
   "execution_count": 39,
   "metadata": {},
   "outputs": [
    {
     "name": "stdout",
     "output_type": "stream",
     "text": [
      "3\n",
      "4\n",
      "5\n"
     ]
    }
   ],
   "source": [
    "# 리스트와 반복문\n",
    "\n",
    "li = [1,2,3,4,5] # collection, mutable, ordered\n",
    "\n",
    "for i in li:\n",
    "    if i >= 3:\n",
    "        print(i)\n"
   ]
  },
  {
   "cell_type": "code",
   "execution_count": 33,
   "metadata": {},
   "outputs": [
    {
     "name": "stdout",
     "output_type": "stream",
     "text": [
      "이몽룡\n"
     ]
    }
   ],
   "source": [
    "# 딕셔너리와 반복문\n",
    "\n",
    "dict = {\n",
    "    1 : '홍길동',\n",
    "    2 : '이몽룡'\n",
    "}\n",
    "\n",
    "print(dict[2])"
   ]
  },
  {
   "cell_type": "code",
   "execution_count": 35,
   "metadata": {},
   "outputs": [
    {
     "name": "stdout",
     "output_type": "stream",
     "text": [
      "1 홍길동\n",
      "2 이몽룡\n"
     ]
    }
   ],
   "source": [
    "for i in dict:\n",
    "    print(i, dict[i])\n",
    "    "
   ]
  },
  {
   "cell_type": "code",
   "execution_count": null,
   "metadata": {},
   "outputs": [],
   "source": [
    "# for: 반복횟수를 정확히 알고 있을 때 주로 사용\n",
    "# while: 반복횟수를 정확히 알 수 없을 때 주로 사용"
   ]
  },
  {
   "cell_type": "code",
   "execution_count": 46,
   "metadata": {},
   "outputs": [
    {
     "ename": "TypeError",
     "evalue": "'list' object is not callable",
     "output_type": "error",
     "traceback": [
      "\u001b[1;31m---------------------------------------------------------------------------\u001b[0m",
      "\u001b[1;31mTypeError\u001b[0m                                 Traceback (most recent call last)",
      "\u001b[1;32m~\\AppData\\Local\\Temp/ipykernel_18768/2765760236.py\u001b[0m in \u001b[0;36m<module>\u001b[1;34m\u001b[0m\n\u001b[0;32m      1\u001b[0m \u001b[0mli\u001b[0m \u001b[1;33m=\u001b[0m \u001b[1;33m[\u001b[0m\u001b[1;36m1\u001b[0m\u001b[1;33m,\u001b[0m\u001b[1;36m2\u001b[0m\u001b[1;33m,\u001b[0m\u001b[1;36m3\u001b[0m\u001b[1;33m,\u001b[0m\u001b[1;36m4\u001b[0m\u001b[1;33m,\u001b[0m\u001b[1;36m5\u001b[0m\u001b[1;33m]\u001b[0m\u001b[1;33m\u001b[0m\u001b[1;33m\u001b[0m\u001b[0m\n\u001b[0;32m      2\u001b[0m \u001b[1;33m\u001b[0m\u001b[0m\n\u001b[1;32m----> 3\u001b[1;33m \u001b[0mli\u001b[0m\u001b[1;33m(\u001b[0m\u001b[0mrange\u001b[0m\u001b[1;33m(\u001b[0m\u001b[1;36m0\u001b[0m\u001b[1;33m,\u001b[0m\u001b[1;36m5\u001b[0m\u001b[1;33m,\u001b[0m\u001b[1;36m2\u001b[0m\u001b[1;33m)\u001b[0m\u001b[1;33m)\u001b[0m \u001b[1;31m# 시작을 생략하면 0부터 5미만까지 증감값을 생략하면 1씩 증가\u001b[0m\u001b[1;33m\u001b[0m\u001b[1;33m\u001b[0m\u001b[0m\n\u001b[0m",
      "\u001b[1;31mTypeError\u001b[0m: 'list' object is not callable"
     ]
    }
   ],
   "source": [
    "li = [1,2,3,4,5]\n",
    "\n",
    "li(range(0,5,2)) # 시작을 생략하면 0부터 5미만까지 증감값을 생략하면 1씩 증가"
   ]
  },
  {
   "cell_type": "code",
   "execution_count": 49,
   "metadata": {},
   "outputs": [
    {
     "name": "stdout",
     "output_type": "stream",
     "text": [
      "0번째 반복\n",
      "1번째 반복\n",
      "2번째 반복\n",
      "2번째 반복\n",
      "1번째 반복\n",
      "0번째 반복\n"
     ]
    }
   ],
   "source": [
    "num = 0\n",
    "\n",
    "while num < 3:\n",
    "    print(f'{num}번째 반복')\n",
    "    num += 1\n",
    "\n",
    "num = 0\n",
    "for i in range(2,-1,-1):\n",
    "    print(f'{i}번째 반복')\n",
    "    "
   ]
  },
  {
   "cell_type": "code",
   "execution_count": 50,
   "metadata": {},
   "outputs": [
    {
     "name": "stdout",
     "output_type": "stream",
     "text": [
      "0번째 반복입니다.\n",
      "1번째 반복입니다.\n",
      "2번째 반복입니다.\n",
      "3번째 반복입니다.\n",
      "4번째 반복입니다.\n",
      "5번째 반복입니다.\n",
      "반복을 종료합니다.\n"
     ]
    }
   ],
   "source": [
    "# break / continue\n",
    "\n",
    "#break 반복문 종료\n",
    "\n",
    "i = 0\n",
    "\n",
    "while True:\n",
    "    print(f'{i}번째 반복입니다.')\n",
    "    i += 1\n",
    "    \n",
    "    inp = input('종료할까요?(y)')\n",
    "    if inp in ['Y', 'y']:\n",
    "        print('반복을 종료합니다.')\n",
    "        break\n"
   ]
  },
  {
   "cell_type": "code",
   "execution_count": 52,
   "metadata": {},
   "outputs": [
    {
     "name": "stdout",
     "output_type": "stream",
     "text": [
      "1\n",
      "3\n",
      "5\n",
      "7\n",
      "9\n"
     ]
    }
   ],
   "source": [
    "# continue 현재 반복을 중지하고 다음 반복으로 넘어갈 때 사용\n",
    "# 전체 반복부분에서 부분을 빼고 실행\n",
    "\n",
    "for num in range(1, 11):\n",
    "    if num % 2 == 0:\n",
    "        continue\n",
    "    print(num)"
   ]
  },
  {
   "cell_type": "code",
   "execution_count": 53,
   "metadata": {},
   "outputs": [
    {
     "name": "stdout",
     "output_type": "stream",
     "text": [
      "0번째 학생 진구\n",
      "1번째 학생 철수\n",
      "2번째 학생 미애\n",
      "3번째 학생 형구\n",
      "4번째 학생 진수\n"
     ]
    }
   ],
   "source": [
    "# enumerate() 리스트 요소를 반복할 때 현재 인덱스가 몇번째 인지 확인\n",
    "\n",
    "student = ['진구', '철수', '미애', '형구', '진수']\n",
    "\n",
    "# 0번 진구\n",
    "# 1번 철수\n",
    "# 2번 미애\n",
    "# 3번 형구\n",
    "# 4번 진수\n",
    "\n",
    "# not enumerate()\n",
    "# for i in range(5):\n",
    "#     print(f'{i}번째 학생 {student[i]}')\n",
    "    \n",
    "    \n",
    "# enumerate()\n",
    "for no, name in enumerate(student):\n",
    "    print(f'{no + 1}번 {name}')"
   ]
  },
  {
   "cell_type": "code",
   "execution_count": 60,
   "metadata": {},
   "outputs": [
    {
     "name": "stdout",
     "output_type": "stream",
     "text": [
      "홍길동의 키는 185입니다.\n",
      "이몽룡의 키는 189입니다.\n",
      "성춘향의 키는 168입니다.\n"
     ]
    }
   ],
   "source": [
    "# items() 딕셔너리 items() 함수를 사용하여 key와 value값을 한번에 추출 할 수 있다.\n",
    "\n",
    "dict = {\n",
    "    '홍길동': 185,\n",
    "    '이몽룡': 189,\n",
    "    '성춘향': 168\n",
    "}\n",
    "\n",
    "# not items()\n",
    "# for i in dict:\n",
    "#     print(f'{i}의 키는 {dict[i]}입니다.')\n",
    "    \n",
    "\n",
    "# items()\n",
    "for n, h in dict.items():\n",
    "    print(f'{n}의 키는 {h}입니다.')\n",
    "\n"
   ]
  },
  {
   "cell_type": "code",
   "execution_count": 62,
   "metadata": {},
   "outputs": [
    {
     "name": "stdout",
     "output_type": "stream",
     "text": [
      "[0, 2, 4, 6, 8, 10, 12, 14, 16, 18]\n"
     ]
    }
   ],
   "source": [
    "# 리스트 내포 list comprhensions\n",
    "\n",
    "array = []\n",
    "\n",
    "for i in range(0, 20, 2):\n",
    "    array.append(i)\n",
    "    \n",
    "print(array)"
   ]
  },
  {
   "cell_type": "code",
   "execution_count": 63,
   "metadata": {},
   "outputs": [
    {
     "name": "stdout",
     "output_type": "stream",
     "text": [
      "[0, 2, 4, 6, 8, 10, 12, 14, 16, 18]\n"
     ]
    }
   ],
   "source": [
    "array = [i for i in range(0, 20, 2)]\n",
    "print(array)"
   ]
  }
 ],
 "metadata": {
  "interpreter": {
   "hash": "b3ba2566441a7c06988d0923437866b63cedc61552a5af99d1f4fb67d367b25f"
  },
  "kernelspec": {
   "display_name": "Python 3.9.7 64-bit ('base': conda)",
   "language": "python",
   "name": "python3"
  },
  "language_info": {
   "codemirror_mode": {
    "name": "ipython",
    "version": 3
   },
   "file_extension": ".py",
   "mimetype": "text/x-python",
   "name": "python",
   "nbconvert_exporter": "python",
   "pygments_lexer": "ipython3",
   "version": "3.9.7"
  },
  "orig_nbformat": 4
 },
 "nbformat": 4,
 "nbformat_minor": 2
}

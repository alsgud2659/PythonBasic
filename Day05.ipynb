{
 "cells": [
  {
   "cell_type": "code",
   "execution_count": null,
   "metadata": {},
   "outputs": [],
   "source": [
    "##########################\n",
    "# Function\n",
    "##########################\n",
    "\n",
    "# 함수 만들기\n",
    "\n",
    "\n",
    "# 수학에서의 함수와 유사\n",
    "\n",
    "\n",
    "# 딸기(input) -> 믹서기 -> 딸기주스(output)\n",
    "# 바나나(input) -> 믹서기 -> 바나나주스(output)\n",
    "# 사과(input) -> 믹서기 -> 사과주스(output)\n",
    "\n",
    "\n",
    "# 함수의 가장 기본형\n",
    "\n",
    "def 함수명():\n",
    "    #수행"
   ]
  },
  {
   "cell_type": "code",
   "execution_count": 5,
   "metadata": {},
   "outputs": [
    {
     "name": "stdout",
     "output_type": "stream",
     "text": [
      "hi\n",
      "hi\n",
      "hi\n"
     ]
    }
   ],
   "source": [
    "def print_3():\n",
    "    print('hi')\n",
    "    print('hi')\n",
    "    print('hi')\n",
    "\n",
    "print_3()"
   ]
  },
  {
   "cell_type": "code",
   "execution_count": 3,
   "metadata": {},
   "outputs": [
    {
     "name": "stdout",
     "output_type": "stream",
     "text": [
      "hi\n",
      "hi\n",
      "hi\n"
     ]
    }
   ],
   "source": [
    "def print_3(val):\n",
    "    print(val)\n",
    "    print(val)\n",
    "    print(val)\n",
    "\n",
    "print_3('hello')"
   ]
  },
  {
   "cell_type": "code",
   "execution_count": 7,
   "metadata": {},
   "outputs": [
    {
     "name": "stdout",
     "output_type": "stream",
     "text": [
      "hello\n",
      "hello\n",
      "hello\n",
      "hello\n",
      "hello\n"
     ]
    }
   ],
   "source": [
    "def print_3(val, n):\n",
    "    for i in range (0, n):\n",
    "        print(val)\n",
    "        \n",
    "\n",
    "print_3('hello',5)"
   ]
  },
  {
   "cell_type": "code",
   "execution_count": 8,
   "metadata": {},
   "outputs": [
    {
     "ename": "TypeError",
     "evalue": "print_3() missing 1 required positional argument: 'n'",
     "output_type": "error",
     "traceback": [
      "\u001b[1;31m---------------------------------------------------------------------------\u001b[0m",
      "\u001b[1;31mTypeError\u001b[0m                                 Traceback (most recent call last)",
      "\u001b[1;32m~\\AppData\\Local\\Temp/ipykernel_12184/3247077056.py\u001b[0m in \u001b[0;36m<module>\u001b[1;34m\u001b[0m\n\u001b[0;32m      4\u001b[0m \u001b[1;33m\u001b[0m\u001b[0m\n\u001b[0;32m      5\u001b[0m \u001b[1;33m\u001b[0m\u001b[0m\n\u001b[1;32m----> 6\u001b[1;33m \u001b[0mprint_3\u001b[0m\u001b[1;33m(\u001b[0m\u001b[1;34m'hello'\u001b[0m\u001b[1;33m)\u001b[0m\u001b[1;33m\u001b[0m\u001b[1;33m\u001b[0m\u001b[0m\n\u001b[0m",
      "\u001b[1;31mTypeError\u001b[0m: print_3() missing 1 required positional argument: 'n'"
     ]
    }
   ],
   "source": [
    "# 매개 변수를 2개 지정했으나 함수를 호출할 때 1개만 넣으면 에러가 발생한다.\n",
    "\n",
    "def print_3(val, n):\n",
    "    for i in range (0, n):\n",
    "        print(val)\n",
    "        \n",
    "\n",
    "print_3('hello')"
   ]
  },
  {
   "cell_type": "code",
   "execution_count": 9,
   "metadata": {},
   "outputs": [
    {
     "ename": "TypeError",
     "evalue": "print_3() takes 2 positional arguments but 3 were given",
     "output_type": "error",
     "traceback": [
      "\u001b[1;31m---------------------------------------------------------------------------\u001b[0m",
      "\u001b[1;31mTypeError\u001b[0m                                 Traceback (most recent call last)",
      "\u001b[1;32m~\\AppData\\Local\\Temp/ipykernel_12184/3284616268.py\u001b[0m in \u001b[0;36m<module>\u001b[1;34m\u001b[0m\n\u001b[0;32m      6\u001b[0m \u001b[1;33m\u001b[0m\u001b[0m\n\u001b[0;32m      7\u001b[0m \u001b[1;33m\u001b[0m\u001b[0m\n\u001b[1;32m----> 8\u001b[1;33m \u001b[0mprint_3\u001b[0m\u001b[1;33m(\u001b[0m\u001b[1;34m'hello'\u001b[0m\u001b[1;33m,\u001b[0m\u001b[1;36m3\u001b[0m\u001b[1;33m,\u001b[0m\u001b[1;36m4\u001b[0m\u001b[1;33m)\u001b[0m\u001b[1;33m\u001b[0m\u001b[1;33m\u001b[0m\u001b[0m\n\u001b[0m",
      "\u001b[1;31mTypeError\u001b[0m: print_3() takes 2 positional arguments but 3 were given"
     ]
    }
   ],
   "source": [
    "# 매개 변수를 2개 지정했으나 함수를 호출할 때 3개를 넣으면 에러가 발생한다.\n",
    "\n",
    "def print_3(val, n):\n",
    "    for i in range (0, n):\n",
    "        print(val)\n",
    "        \n",
    "\n",
    "print_3('hello',3,4)"
   ]
  },
  {
   "cell_type": "code",
   "execution_count": 18,
   "metadata": {},
   "outputs": [
    {
     "name": "stdout",
     "output_type": "stream",
     "text": [
      "hi\n",
      "hello\n",
      "good morning\n",
      "\n",
      "hi\n",
      "hello\n",
      "good morning\n",
      "\n",
      "hi\n",
      "hello\n",
      "good morning\n",
      "\n",
      "hi\n",
      "hello\n",
      "\n",
      "hi\n",
      "hello\n",
      "\n",
      "hi\n",
      "hello\n",
      "\n"
     ]
    }
   ],
   "source": [
    "# 가변 매개 변수 (관용적으로 가변매개변수의 이름은 args를 사용한다.)\n",
    "# 함수를 선언할 때 매개변수와 함수를 호출 할 때 매개변수가 같아야만 했다. 적어도 안되고 많아도 안된다.\n",
    "\n",
    "def print_n_times(n, *args):\n",
    "    for i in range(n):\n",
    "        for v in args:\n",
    "            print(v)\n",
    "        print()\n",
    "        \n",
    "print_n_times(3,'hi','hello','good morning')\n",
    "print_n_times(3,'hi','hello')"
   ]
  },
  {
   "cell_type": "code",
   "execution_count": 17,
   "metadata": {},
   "outputs": [
    {
     "name": "stdout",
     "output_type": "stream",
     "text": [
      "15\n",
      "6\n"
     ]
    }
   ],
   "source": [
    "# 입력 받은 정수들을 모두 더한 합을 반환하는 함수\n",
    "\n",
    "def sum_all(*args):\n",
    "    sum = 0\n",
    "    for i in args:\n",
    "        sum += i\n",
    "    print(sum)\n",
    "    \n",
    "sum_all(1,2,3,4,5)\n",
    "sum_all(1,2,3)\n",
    "    \n",
    "    "
   ]
  },
  {
   "cell_type": "code",
   "execution_count": 14,
   "metadata": {},
   "outputs": [
    {
     "name": "stdout",
     "output_type": "stream",
     "text": [
      "hi\n",
      "hi\n",
      "\n",
      "hi\n",
      "hi\n",
      "hi\n",
      "hi\n"
     ]
    }
   ],
   "source": [
    "# 기본 매개변수\n",
    "\n",
    "def print_3(val, n = 2):\n",
    "    for i in range(n):\n",
    "        print(val)\n",
    "        \n",
    "print_3('hi')\n",
    "print()\n",
    "print_3('hi', 4)"
   ]
  },
  {
   "cell_type": "code",
   "execution_count": 16,
   "metadata": {},
   "outputs": [
    {
     "ename": "SyntaxError",
     "evalue": "non-default argument follows default argument (Temp/ipykernel_12184/1182606813.py, line 1)",
     "output_type": "error",
     "traceback": [
      "\u001b[1;36m  File \u001b[1;32m\"C:\\Users\\LEE\\AppData\\Local\\Temp/ipykernel_12184/1182606813.py\"\u001b[1;36m, line \u001b[1;32m1\u001b[0m\n\u001b[1;33m    def print_3(n = 2, val):\u001b[0m\n\u001b[1;37m                          ^\u001b[0m\n\u001b[1;31mSyntaxError\u001b[0m\u001b[1;31m:\u001b[0m non-default argument follows default argument\n"
     ]
    }
   ],
   "source": [
    "# 기본 매개변수는 뒤에 위치시킨다.\n",
    "\n",
    "def print_3(val, n = 2):\n",
    "    for i in range(n):\n",
    "        print(val)\n",
    "        \n",
    "print_3('hi')\n",
    "print()\n",
    "print_3('hi', 4)"
   ]
  },
  {
   "cell_type": "code",
   "execution_count": 22,
   "metadata": {},
   "outputs": [
    {
     "name": "stdout",
     "output_type": "stream",
     "text": [
      "60\n",
      "60\n",
      "60\n",
      "50\n"
     ]
    }
   ],
   "source": [
    "def test(a, b = 10, c = 100):\n",
    "    print(a + b + c)\n",
    "    \n",
    "#1 기본형태\n",
    "test(10, 20 ,30)\n",
    "\n",
    "#2 모든 매개변수 지정\n",
    "test(a = 10, b = 20, c = 30)\n",
    "\n",
    "#3 순서를 섞어서 지정\n",
    "test(c = 30, b = 20, a = 10)\n",
    "\n",
    "#4 일부만 지정\n",
    "test(10, c = 30)"
   ]
  },
  {
   "cell_type": "code",
   "execution_count": 23,
   "metadata": {},
   "outputs": [
    {
     "name": "stdout",
     "output_type": "stream",
     "text": [
      "A위치입니다\n"
     ]
    }
   ],
   "source": [
    "def return_test():\n",
    "    print('A위치입니다')\n",
    "    return # return을 만나면 끝이다.\n",
    "    print('B위치입니다.')\n",
    "    \n",
    "return_test()"
   ]
  },
  {
   "cell_type": "code",
   "execution_count": 24,
   "metadata": {},
   "outputs": [
    {
     "data": {
      "text/plain": [
       "100"
      ]
     },
     "execution_count": 24,
     "metadata": {},
     "output_type": "execute_result"
    }
   ],
   "source": [
    "def return_test():\n",
    "    return 100\n",
    "\n",
    "return_test()"
   ]
  },
  {
   "cell_type": "code",
   "execution_count": 26,
   "metadata": {},
   "outputs": [
    {
     "name": "stdout",
     "output_type": "stream",
     "text": [
      "0에서 100까지의 합: 5050\n",
      "0에서 1000까지의 합: 500500\n",
      "50에서 100까지의 합: 3825\n",
      "500에서 1000까지의 합: 375750\n"
     ]
    }
   ],
   "source": [
    "def sum_all(start, end):\n",
    "    output = 0\n",
    "    for i in range(start, end + 1):\n",
    "        output += i\n",
    "    return output\n",
    "\n",
    "print('0에서 100까지의 합:', sum_all(0, 100))\n",
    "print('0에서 1000까지의 합:', sum_all(0, 1000))\n",
    "print('50에서 100까지의 합:',sum_all(50, 100))\n",
    "print('500에서 1000까지의 합:', sum_all(500, 1000))"
   ]
  },
  {
   "cell_type": "code",
   "execution_count": 27,
   "metadata": {},
   "outputs": [],
   "source": [
    "# 재귀함수\n",
    "\n",
    "def hello():\n",
    "    print('hi')\n",
    "    return hello()\n",
    "\n",
    "\n",
    "hello()"
   ]
  },
  {
   "cell_type": "code",
   "execution_count": 3,
   "metadata": {},
   "outputs": [
    {
     "name": "stdout",
     "output_type": "stream",
     "text": [
      "3!: 6\n",
      "5!: 120\n",
      "7!: 5040\n"
     ]
    }
   ],
   "source": [
    "# 반복문으로 팩토리얼 구하기\n",
    "\n",
    "# 함수 선언\n",
    "def facto(n):\n",
    "    result = 1\n",
    "    for i in range(1, n + 1):\n",
    "        result *= i\n",
    "    return result\n",
    "\n",
    "print('3!:',facto(3))\n",
    "print('5!:',facto(5))\n",
    "print('7!:',facto(7))"
   ]
  },
  {
   "cell_type": "code",
   "execution_count": 4,
   "metadata": {},
   "outputs": [
    {
     "name": "stdout",
     "output_type": "stream",
     "text": [
      "3!: 6\n",
      "5!: 120\n",
      "7!: 5040\n"
     ]
    }
   ],
   "source": [
    "# 재귀(recursion)로 팩토리얼 구하기\n",
    "\n",
    "def facto(n):\n",
    "    if n == 0:\n",
    "        return 1\n",
    "    else: \n",
    "        return n * facto(n - 1)\n",
    "\n",
    "\n",
    "print('3!:',facto(3))\n",
    "print('5!:',facto(5))\n",
    "print('7!:',facto(7))\n",
    "\n",
    "# 개발자들 사이에서는 재귀함수를 절대 사용하지 말자 라는 의견도 있다.\n",
    "# 하지만 가독성이 좋고 코드가 간결해 보이는 장점도 있다. (예쁜 쓰레기)"
   ]
  },
  {
   "cell_type": "code",
   "execution_count": 4,
   "metadata": {},
   "outputs": [
    {
     "name": "stdout",
     "output_type": "stream",
     "text": [
      "fibonacci(1): 1\n",
      "fibonacci(2): 1\n",
      "fibonacci(3): 2\n",
      "fibonacci(4): 3\n",
      "fibonacci(5): 5\n"
     ]
    }
   ],
   "source": [
    "# 피보나치 수열(토끼의 번식속도, 바이러스 감염속도..)\n",
    "\n",
    "def fibo(n):\n",
    "    if n == 0:\n",
    "        return 0\n",
    "    if n <= 1:\n",
    "        return 1\n",
    "    return fibo(n - 1) + fibo(n - 2)\n",
    "\n",
    "\n",
    "\n",
    "print('fibonacci(1):', fibo(1))\n",
    "print('fibonacci(2):', fibo(2))\n",
    "print('fibonacci(3):', fibo(3))\n",
    "print('fibonacci(4):', fibo(4))\n",
    "print('fibonacci(5):', fibo(5))\n",
    "\n"
   ]
  },
  {
   "cell_type": "code",
   "execution_count": 6,
   "metadata": {},
   "outputs": [
    {
     "name": "stdout",
     "output_type": "stream",
     "text": [
      "10\n",
      "20\n"
     ]
    }
   ],
   "source": [
    "# 튜플과 함수\n",
    "# 튜플은 함수의 리턴에 많이 사용된다. 함수의 리턴에 튜플을 사용하게 되면 여러개의 값을\n",
    "# 리턴하고 할당 할 수 있기 때문이다.\n",
    "\n",
    "def test():\n",
    "    return 10 ,20 # 튜플의 소괄호는 생략도 가능하다.\n",
    "\n",
    "a, b = test()\n",
    "\n",
    "print(a)\n",
    "print(b)"
   ]
  },
  {
   "cell_type": "code",
   "execution_count": 7,
   "metadata": {},
   "outputs": [
    {
     "name": "stdout",
     "output_type": "stream",
     "text": [
      "7\n"
     ]
    }
   ],
   "source": [
    "def add(a,b):  # 그 인수를 담아서 함수에서 사용되는 매개변수 parameter\n",
    "    return a + b\n",
    "\n",
    "a = 3 # 함수로 들어가는 실제 값을 인수 arguments\n",
    "b = 4\n",
    "c = add(a,b)\n",
    "\n",
    "print(c)\n",
    "\n",
    "\n",
    "# 인수와 매개변수\n",
    "# 함수와 메서드 - 클래스 안에서 선언된 함수를 메서드라고 부른다.\n",
    "# 객체와 인스턴스"
   ]
  },
  {
   "cell_type": "code",
   "execution_count": null,
   "metadata": {},
   "outputs": [],
   "source": [
    "# 함수의 종류 4가지\n",
    "\n",
    "# input도 있고 output도 있는 함수 (*****)\n",
    "# input은 없고 output은 있는 함수\n",
    "# input은 있고 output은 없는 함수\n",
    "# input도 없고 output도 없는 함수"
   ]
  },
  {
   "cell_type": "code",
   "execution_count": 9,
   "metadata": {},
   "outputs": [
    {
     "name": "stdout",
     "output_type": "stream",
     "text": [
      "3\n"
     ]
    }
   ],
   "source": [
    "# input도 있고 output도 있는 함수 (*****)\n",
    "\n",
    "def add(a,b):  \n",
    "    return a + b\n",
    "\n",
    "print(add(1,2))\n"
   ]
  },
  {
   "cell_type": "code",
   "execution_count": 10,
   "metadata": {},
   "outputs": [
    {
     "name": "stdout",
     "output_type": "stream",
     "text": [
      "hi\n"
     ]
    }
   ],
   "source": [
    "# input은 없고 output은 있는 함수\n",
    "\n",
    "def say():\n",
    "    return 'hi'\n",
    "\n",
    "print(say())"
   ]
  },
  {
   "cell_type": "code",
   "execution_count": 13,
   "metadata": {},
   "outputs": [
    {
     "name": "stdout",
     "output_type": "stream",
     "text": [
      "3, 4의 합은 7 입니다.\n"
     ]
    }
   ],
   "source": [
    "# input은 있고 output은 없는 함수\n",
    "\n",
    "def add(a,d):\n",
    "    print('%d, %d의 합은 %d 입니다.' % (a,b,a+b))\n",
    "    \n",
    "add(3,4)"
   ]
  },
  {
   "cell_type": "code",
   "execution_count": 15,
   "metadata": {},
   "outputs": [
    {
     "name": "stdout",
     "output_type": "stream",
     "text": [
      "hi\n",
      "hi\n",
      "hi\n"
     ]
    }
   ],
   "source": [
    "# input도 없고 output도 없는 함수\n",
    "\n",
    "def say():\n",
    "    print('hi')\n",
    "    print('hi')\n",
    "    print('hi')\n",
    "    \n",
    "say()"
   ]
  },
  {
   "cell_type": "code",
   "execution_count": 17,
   "metadata": {},
   "outputs": [
    {
     "name": "stdout",
     "output_type": "stream",
     "text": [
      "10\n",
      "10\n"
     ]
    }
   ],
   "source": [
    "def add(a,b):\n",
    "    return a + b\n",
    "\n",
    "print(add(a = 3, b = 7))\n",
    "print(add(b = 3, a = 7))"
   ]
  },
  {
   "cell_type": "code",
   "execution_count": 19,
   "metadata": {},
   "outputs": [
    {
     "name": "stdout",
     "output_type": "stream",
     "text": [
      "6\n",
      "15\n"
     ]
    }
   ],
   "source": [
    "def add_many(*args):\n",
    "    result = 0\n",
    "    for i in args:\n",
    "        result += i\n",
    "    \n",
    "    return result\n",
    "\n",
    "print(add_many(1,2,3)) \n",
    "print(add_many(1,2,3,4,5)) "
   ]
  },
  {
   "cell_type": "code",
   "execution_count": 24,
   "metadata": {},
   "outputs": [
    {
     "name": "stdout",
     "output_type": "stream",
     "text": [
      "15\n",
      "6\n"
     ]
    }
   ],
   "source": [
    "def add_mul(choice, *args):\n",
    "    if choice == 'add':\n",
    "        result = 0\n",
    "        for i in args:\n",
    "            result += i\n",
    "            \n",
    "    elif choice == 'mul':\n",
    "        result = 1\n",
    "        for i in args:\n",
    "            result *= i\n",
    "    return result\n",
    "\n",
    "\n",
    "print(add_mul('add', 1,2,3,4,5))\n",
    "print(add_mul('mul', 1,2,3))"
   ]
  },
  {
   "cell_type": "code",
   "execution_count": 28,
   "metadata": {},
   "outputs": [
    {
     "name": "stdout",
     "output_type": "stream",
     "text": [
      "7\n"
     ]
    }
   ],
   "source": [
    "# 함수의 결과는 언제나 하나 (여러개일 경우 튜플 한개)\n",
    "\n",
    "def add_and_mul(a,b):\n",
    "    return a+b\n",
    "    return a * b\n",
    "\n",
    "result = add_and_mul(3,4)\n",
    "print(result)\n"
   ]
  },
  {
   "cell_type": "code",
   "execution_count": 30,
   "metadata": {},
   "outputs": [
    {
     "name": "stdout",
     "output_type": "stream",
     "text": [
      "나의 이름은 박응용 입니다.\n",
      "나의 이름은 박응용입니다.\n",
      "나는 27살 입니다.\n",
      "남자입니다.\n",
      "나의 이름은 박응용 입니다.\n",
      "나의 이름은 박응용입니다.\n",
      "나는 27살 입니다.\n",
      "남자입니다.\n",
      "나의 이름은 박응선 입니다.\n",
      "나의 이름은 박응선입니다.\n",
      "나는 27살 입니다.\n",
      "여자입니다.\n"
     ]
    }
   ],
   "source": [
    "# 초기값 설정 매개변수는 항상 끝에 위치한다.\n",
    "\n",
    "def say_myself(name, old, man = True):\n",
    "    print('나의 이름은 %s 입니다.' % name)\n",
    "    print(f'나의 이름은 {name}입니다.')\n",
    "    print(f'나는 {old}살 입니다.')\n",
    "    \n",
    "    if man:\n",
    "        print('남자입니다.')\n",
    "    else:\n",
    "        print('여자입니다.')\n",
    "        \n",
    "say_myself('박응용', 27)\n",
    "say_myself('박응용',27, True)\n",
    "say_myself('박응선',27, False)"
   ]
  },
  {
   "cell_type": "code",
   "execution_count": 34,
   "metadata": {},
   "outputs": [
    {
     "name": "stdout",
     "output_type": "stream",
     "text": [
      "2\n"
     ]
    }
   ],
   "source": [
    "# 지역변수 (local variable)와 전역변수 (global variable)\n",
    "\n",
    "a = 1\n",
    "def vartest(a):\n",
    "    a = a + 1\n",
    "    return a\n",
    "    \n",
    "\n",
    "print(vartest(a))"
   ]
  },
  {
   "cell_type": "code",
   "execution_count": 35,
   "metadata": {},
   "outputs": [
    {
     "name": "stdout",
     "output_type": "stream",
     "text": [
      "2\n"
     ]
    }
   ],
   "source": [
    "a = 1\n",
    "def vartest():\n",
    "    global a # 전역 변수 선언\n",
    "    a = a + 1\n",
    "    \n",
    "\n",
    "vartest()\n",
    "print(a)"
   ]
  },
  {
   "cell_type": "code",
   "execution_count": 36,
   "metadata": {},
   "outputs": [
    {
     "name": "stdout",
     "output_type": "stream",
     "text": [
      "7\n"
     ]
    }
   ],
   "source": [
    "# lambda를 사용하면 코드를 더 깔끔하게 작성 할 수 있고\n",
    "# 코드의 복잡성을 줄여준다. 반면 재 새용성은ㅇ 상당히 떨어진다.\n",
    "\n",
    "add = lambda a,b : a+b  # lambda는 return이 없어도 결과값을 돌려준다.\n",
    "\n",
    "print(add(3,4))"
   ]
  }
 ],
 "metadata": {
  "interpreter": {
   "hash": "b3ba2566441a7c06988d0923437866b63cedc61552a5af99d1f4fb67d367b25f"
  },
  "kernelspec": {
   "display_name": "Python 3.9.7 64-bit ('base': conda)",
   "language": "python",
   "name": "python3"
  },
  "language_info": {
   "codemirror_mode": {
    "name": "ipython",
    "version": 3
   },
   "file_extension": ".py",
   "mimetype": "text/x-python",
   "name": "python",
   "nbconvert_exporter": "python",
   "pygments_lexer": "ipython3",
   "version": "3.9.7"
  },
  "orig_nbformat": 4
 },
 "nbformat": 4,
 "nbformat_minor": 2
}

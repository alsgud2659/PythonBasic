{
 "cells": [
  {
   "cell_type": "code",
   "execution_count": null,
   "metadata": {},
   "outputs": [],
   "source": [
    "##########################\n",
    "# Function\n",
    "##########################\n",
    "\n",
    "# 함수 만들기\n",
    "\n",
    "\n",
    "# 수학에서의 함수와 유사\n",
    "\n",
    "\n",
    "# 딸기(input) -> 믹서기 -> 딸기주스(output)\n",
    "# 바나나(input) -> 믹서기 -> 바나나주스(output)\n",
    "# 사과(input) -> 믹서기 -> 사과주스(output)"
   ]
  },
  {
   "cell_type": "code",
   "execution_count": null,
   "metadata": {},
   "outputs": [],
   "source": []
  }
 ],
 "metadata": {
  "language_info": {
   "name": "python"
  },
  "orig_nbformat": 4
 },
 "nbformat": 4,
 "nbformat_minor": 2
}

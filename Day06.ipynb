{
 "cells": [
  {
   "cell_type": "code",
   "execution_count": 1,
   "metadata": {},
   "outputs": [
    {
     "ename": "SyntaxError",
     "evalue": "EOL while scanning string literal (Temp/ipykernel_15080/14221752.py, line 6)",
     "output_type": "error",
     "traceback": [
      "\u001b[1;36m  File \u001b[1;32m\"C:\\Users\\LEE\\AppData\\Local\\Temp/ipykernel_15080/14221752.py\"\u001b[1;36m, line \u001b[1;32m6\u001b[0m\n\u001b[1;33m    print(\"예외를 강제로 발생)\u001b[0m\n\u001b[1;37m                      ^\u001b[0m\n\u001b[1;31mSyntaxError\u001b[0m\u001b[1;31m:\u001b[0m EOL while scanning string literal\n"
     ]
    }
   ],
   "source": [
    "# 예외 처리 (에러 처리, 오류 처리, 버그 처리...)\n",
    "\n",
    "# 프로그램 실행 전에 발생하는 오류 - 구문 오류 syntax error\n",
    "# 프로그램 실행 중에 발생하는 오류 - 런타임 오류 runtime error, 예외 exception\n",
    "\n",
    "print(\"예외를 강제로 발생)\n",
    "# EOL End of Line 실행 조차 되지 않는 오류"
   ]
  },
  {
   "cell_type": "code",
   "execution_count": 2,
   "metadata": {},
   "outputs": [
    {
     "name": "stdout",
     "output_type": "stream",
     "text": [
      "프로그램이 시작되었습니다.\n"
     ]
    },
    {
     "data": {
      "text/plain": [
       "list[0]"
      ]
     },
     "execution_count": 2,
     "metadata": {},
     "output_type": "execute_result"
    }
   ],
   "source": [
    "print('프로그램이 시작되었습니다.')\n",
    "list[0]"
   ]
  },
  {
   "cell_type": "code",
   "execution_count": 11,
   "metadata": {},
   "outputs": [
    {
     "name": "stdout",
     "output_type": "stream",
     "text": [
      "정수를 입력하세요 >\n"
     ]
    }
   ],
   "source": [
    "# if로 예외 처리하기 (많이 사용되는 방식은 아님)\n",
    "num_input = (input('정수 입력 >'))\n",
    "\n",
    "if num_input.isdigit():\n",
    "    num_a = int(num_input)\n",
    "    print('원의 반지름: ', num_a)\n",
    "    print('원의 둘레', 2 * 3.14 * num_a)\n",
    "else:\n",
    "    print('정수를 입력하세요 ')\n"
   ]
  },
  {
   "cell_type": "code",
   "execution_count": 14,
   "metadata": {},
   "outputs": [
    {
     "name": "stdout",
     "output_type": "stream",
     "text": [
      "정수를 입력하세요 \n"
     ]
    }
   ],
   "source": [
    "# try except 구문\n",
    "\n",
    "try:\n",
    "    num_input = (input('정수 입력 >'))\n",
    "    num_a = int(num_input)\n",
    "    print('원의 반지름: ', num_a)\n",
    "    print('원의 둘레', 2 * 3.14 * num_a)\n",
    "    \n",
    "except:\n",
    "    print('정수를 입력하세요 ')"
   ]
  },
  {
   "cell_type": "code",
   "execution_count": 15,
   "metadata": {},
   "outputs": [
    {
     "name": "stdout",
     "output_type": "stream",
     "text": [
      "['52', '273', '32', '103']\n"
     ]
    }
   ],
   "source": [
    "# 숫자만 추출하는 프로그램\n",
    "\n",
    "list_all = ['52', '273', '32', '스파이', '103']\n",
    "\n",
    "list_num = []\n",
    "\n",
    "for i in list_all:\n",
    "    try:\n",
    "        float(i)\n",
    "        list_num.append(i)\n",
    "    except:\n",
    "        pass\n",
    "\n",
    "print(list_num)"
   ]
  },
  {
   "cell_type": "code",
   "execution_count": 18,
   "metadata": {},
   "outputs": [
    {
     "name": "stdout",
     "output_type": "stream",
     "text": [
      "존재하지 않는 인덱스 번호 입니다.\n"
     ]
    }
   ],
   "source": [
    "list = ['52', '273', '32', '스파이', '103']\n",
    "\n",
    "try:\n",
    "    print(list[5])\n",
    "    \n",
    "except:\n",
    "    print('존재하지 않는 인덱스 번호 입니다.')"
   ]
  },
  {
   "cell_type": "code",
   "execution_count": null,
   "metadata": {},
   "outputs": [],
   "source": [
    "try:\n",
    "    # 예외가 발생 할 가능성이 있는 코드\n",
    "    \n",
    "except:\n",
    "    # 예외가 발생했을 때 실행할 코드\n",
    "    \n",
    "else:\n",
    "    #예외가 발생하지 않았을 때 실행할 코드\n",
    "    \n",
    "finally:\n",
    "    # 항상 실행시킬 코드\n",
    "    \n",
    "# try + except\n",
    "# try + except + else\n",
    "# try + except + finally\n",
    "# try + except + else + finally\n",
    "# try + finally"
   ]
  },
  {
   "cell_type": "code",
   "execution_count": 22,
   "metadata": {},
   "outputs": [
    {
     "name": "stdout",
     "output_type": "stream",
     "text": [
      "입력한 정수는 123 입니다.\n",
      "프로그램이 완전히 종료되었습니다.\n"
     ]
    }
   ],
   "source": [
    "try:\n",
    "    num = int(input('정수를 입력하세요'))\n",
    "    \n",
    "except:\n",
    "    print('정수를 입력하지 않았습니다.')\n",
    "    \n",
    "else:\n",
    "    print('입력한 정수는', num, '입니다.')\n",
    "    \n",
    "finally:\n",
    "    print('프로그램이 완전히 종료되었습니다.')\n",
    "    \n",
    "# else 는 다른 대부분의 언어에서는 없다.\n",
    "# else 사용을 권장하지는 않는다."
   ]
  },
  {
   "cell_type": "code",
   "execution_count": 26,
   "metadata": {},
   "outputs": [
    {
     "name": "stdout",
     "output_type": "stream",
     "text": [
      "test() 함수의 첫 줄입니다.\n",
      "try 구문이 실행되었습니다.\n",
      "finally 구문이 실행되었습니다.\n"
     ]
    }
   ],
   "source": [
    "def test():\n",
    "    print('test() 함수의 첫 줄입니다.')\n",
    "    try:\n",
    "        print('try 구문이 실행되었습니다.')\n",
    "        return\n",
    "        print('try 구문의 return 아래입니다.')\n",
    "    except:\n",
    "        print('except 구문이 실행되었습니다.')\n",
    "    else:\n",
    "        print('else 구문이 실행되었습니다.')\n",
    "        \n",
    "    finally:\n",
    "        print('finally 구문이 실행되었습니다.')\n",
    "    print('test()함수의 마지막 줄 입니다.')\n",
    "    \n",
    "test()"
   ]
  },
  {
   "cell_type": "code",
   "execution_count": 29,
   "metadata": {},
   "outputs": [
    {
     "ename": "MyError",
     "evalue": "",
     "output_type": "error",
     "traceback": [
      "\u001b[1;31m---------------------------------------------------------------------------\u001b[0m",
      "\u001b[1;31mMyError\u001b[0m                                   Traceback (most recent call last)",
      "\u001b[1;32m~\\AppData\\Local\\Temp/ipykernel_15080/2846116103.py\u001b[0m in \u001b[0;36m<module>\u001b[1;34m\u001b[0m\n\u001b[0;32m      9\u001b[0m     \u001b[0mprint\u001b[0m\u001b[1;33m(\u001b[0m\u001b[0mnick\u001b[0m\u001b[1;33m)\u001b[0m\u001b[1;33m\u001b[0m\u001b[1;33m\u001b[0m\u001b[0m\n\u001b[0;32m     10\u001b[0m \u001b[1;33m\u001b[0m\u001b[0m\n\u001b[1;32m---> 11\u001b[1;33m \u001b[0msay_nick\u001b[0m\u001b[1;33m(\u001b[0m\u001b[1;34m'바보'\u001b[0m\u001b[1;33m)\u001b[0m\u001b[1;33m\u001b[0m\u001b[1;33m\u001b[0m\u001b[0m\n\u001b[0m",
      "\u001b[1;32m~\\AppData\\Local\\Temp/ipykernel_15080/2846116103.py\u001b[0m in \u001b[0;36msay_nick\u001b[1;34m(nick)\u001b[0m\n\u001b[0;32m      6\u001b[0m \u001b[1;32mdef\u001b[0m \u001b[0msay_nick\u001b[0m\u001b[1;33m(\u001b[0m\u001b[0mnick\u001b[0m\u001b[1;33m)\u001b[0m\u001b[1;33m:\u001b[0m\u001b[1;33m\u001b[0m\u001b[1;33m\u001b[0m\u001b[0m\n\u001b[0;32m      7\u001b[0m     \u001b[1;32mif\u001b[0m \u001b[0mnick\u001b[0m \u001b[1;33m==\u001b[0m \u001b[1;34m'바보'\u001b[0m\u001b[1;33m:\u001b[0m\u001b[1;33m\u001b[0m\u001b[1;33m\u001b[0m\u001b[0m\n\u001b[1;32m----> 8\u001b[1;33m         \u001b[1;32mraise\u001b[0m \u001b[0mMyError\u001b[0m\u001b[1;33m(\u001b[0m\u001b[1;33m)\u001b[0m\u001b[1;33m\u001b[0m\u001b[1;33m\u001b[0m\u001b[0m\n\u001b[0m\u001b[0;32m      9\u001b[0m     \u001b[0mprint\u001b[0m\u001b[1;33m(\u001b[0m\u001b[0mnick\u001b[0m\u001b[1;33m)\u001b[0m\u001b[1;33m\u001b[0m\u001b[1;33m\u001b[0m\u001b[0m\n\u001b[0;32m     10\u001b[0m \u001b[1;33m\u001b[0m\u001b[0m\n",
      "\u001b[1;31mMyError\u001b[0m: "
     ]
    }
   ],
   "source": [
    "# 예외 만들기\n",
    "\n",
    "class MyError(Exception): # 상속\n",
    "    pass\n",
    "\n",
    "def say_nick(nick):\n",
    "    if nick == '바보':\n",
    "        raise MyError()\n",
    "    print(nick)\n",
    "    \n",
    "say_nick('바보')"
   ]
  }
 ],
 "metadata": {
  "interpreter": {
   "hash": "b3ba2566441a7c06988d0923437866b63cedc61552a5af99d1f4fb67d367b25f"
  },
  "kernelspec": {
   "display_name": "Python 3.9.7 64-bit ('base': conda)",
   "language": "python",
   "name": "python3"
  },
  "language_info": {
   "codemirror_mode": {
    "name": "ipython",
    "version": 3
   },
   "file_extension": ".py",
   "mimetype": "text/x-python",
   "name": "python",
   "nbconvert_exporter": "python",
   "pygments_lexer": "ipython3",
   "version": "3.9.7"
  },
  "orig_nbformat": 4
 },
 "nbformat": 4,
 "nbformat_minor": 2
}

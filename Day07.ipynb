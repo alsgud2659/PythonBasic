{
 "cells": [
  {
   "cell_type": "code",
   "execution_count": 2,
   "metadata": {},
   "outputs": [
    {
     "name": "stdout",
     "output_type": "stream",
     "text": [
      "type(exception): <class 'ValueError'>\n",
      "exception: invalid literal for int() with base 10: 'fasdf'\n"
     ]
    }
   ],
   "source": [
    "# 예외 처리 고급\n",
    "\n",
    "# 프로그램을 개발하다 보면 수많은 오류를 만나게 된다. 또한 처음 프로그램을 개발했을 때\n",
    "# 모든 오류를 예측하고 처리 할 수는 없다. 개발이 완료된 후에도 예측하지 못한 오류들이 계속 발생되기 때문에\n",
    "# 유지 보수가 필요하다.\n",
    "\n",
    "# try:\n",
    "#      예외 발생 가능성이 있는 구문\n",
    "# except:\n",
    "#      예외가 발생 했을 때 실행할 구문\n",
    "    \n",
    "\n",
    "# try:\n",
    "#      예외 발생 가능성이 있는 구문\n",
    "# except 예외의 종류 as e(예외 객체를 활용할 변수 이름):\n",
    "#      예외가 발생 했을 때 실행할 구문\n",
    "    \n",
    "# 예외가 발생하면 예외 정보가 생기고 예외 정보는 예외 객체에 저장되어 생성된다.\n",
    "\n",
    "# 예외 객체\n",
    "\n",
    "try:\n",
    "    num = int(input('정수를 입력하세요'))\n",
    "    \n",
    "    print('입력한 정수:', num)\n",
    "except Exception as e:\n",
    "    print('type(exception):', type(e))\n",
    "    print('exception:', e)\n",
    "\n",
    "\n",
    "# 만약 큰 규모의 웹 서비스를 구축하게 된다면 다양한 예외가 분명히 발생한다.\n",
    "# 예외가 발생할 떄 그 정보를 수집하면 이후 프로그램을 유지 보수 하는데 큰 도움이 된다.\n"
   ]
  },
  {
   "cell_type": "code",
   "execution_count": 6,
   "metadata": {},
   "outputs": [
    {
     "name": "stdout",
     "output_type": "stream",
     "text": [
      "정수를 입력해야 합니다\n"
     ]
    }
   ],
   "source": [
    "# 예외 구분하기\n",
    "\n",
    "list = [52, 273, 32, 72, 100]\n",
    "\n",
    "try:\n",
    "    num = int(input('정수 입력'))\n",
    "    print(f'{num}번째 요소: {list[num]}')\n",
    "    \n",
    "# except Exception as e:\n",
    "#     print('type(exception):', type(e))\n",
    "#     print('exception:', e)\n",
    "\n",
    "except ValueError:\n",
    "    print('정수를 입력해야 합니다')\n",
    "    \n",
    "except IndexError:\n",
    "    print('리스트 크기보다 큰 수는 입력 할 수 없습니다.')"
   ]
  },
  {
   "cell_type": "code",
   "execution_count": 9,
   "metadata": {},
   "outputs": [
    {
     "name": "stdout",
     "output_type": "stream",
     "text": [
      "1번째 요소: 273\n",
      "미리 파악하지 못한 예외 발생\n",
      "<class 'NameError'> name '예외' is not defined\n"
     ]
    }
   ],
   "source": [
    "list = [52, 273, 32, 72, 100]\n",
    "\n",
    "try:\n",
    "    num = int(input('정수 입력'))\n",
    "    print(f'{num}번째 요소: {list[num]}')\n",
    "    예외.발생()\n",
    "# except Exception as e:\n",
    "#     print('type(exception):', type(e))\n",
    "#     print('exception:', e)\n",
    "\n",
    "except ValueError as e:\n",
    "    print('정수를 입력해야 합니다')\n",
    "    print('exception:', e)\n",
    "except IndexError as e:\n",
    "    print('리스트 크기보다 큰 수는 입력 할 수 없습니다.')\n",
    "    print('exception:', e)\n",
    "except Exception as e:\n",
    "    # 나머지 예기치 못한 예외를 여기서 처리\n",
    "    print('미리 파악하지 못한 예외 발생')\n",
    "    print(type(e),e)\n",
    "\n",
    "\n",
    "# 너무 치명적인 문제인데도 프로그램이 강제 종료 되지 않게 만들면\n",
    "# 그것으로 더 큰 문제가 될 수 있으므로 상황에 맞게 대처 할 수 있어야 한다.\n",
    "\n",
    "# 큰 규모의 프로그램을 개발할 때는 \"예외 처리로 떡칠한다.\" 라고 표현할 정도로\n",
    "# 예외 처리를 많이 사용하게 된다.\n",
    "\n",
    "# 예외 처리에서 가장 중요한 것은 \"이 코드에서 어떤 예외가 발생할 것인가?\"를 미리 잘 예측하는 것이다.   \n"
   ]
  },
  {
   "cell_type": "code",
   "execution_count": 10,
   "metadata": {},
   "outputs": [
    {
     "ename": "NotImplementedError",
     "evalue": "",
     "output_type": "error",
     "traceback": [
      "\u001b[1;31m---------------------------------------------------------------------------\u001b[0m",
      "\u001b[1;31mNotImplementedError\u001b[0m                       Traceback (most recent call last)",
      "\u001b[1;32m~\\AppData\\Local\\Temp/ipykernel_20372/3619082301.py\u001b[0m in \u001b[0;36m<module>\u001b[1;34m\u001b[0m\n\u001b[0;32m      6\u001b[0m     \u001b[1;32mraise\u001b[0m \u001b[0mNotImplementedError\u001b[0m\u001b[1;33m\u001b[0m\u001b[1;33m\u001b[0m\u001b[0m\n\u001b[0;32m      7\u001b[0m \u001b[1;32melse\u001b[0m\u001b[1;33m:\u001b[0m\u001b[1;33m\u001b[0m\u001b[1;33m\u001b[0m\u001b[0m\n\u001b[1;32m----> 8\u001b[1;33m     \u001b[1;32mraise\u001b[0m \u001b[0mNotImplementedError\u001b[0m\u001b[1;33m\u001b[0m\u001b[1;33m\u001b[0m\u001b[0m\n\u001b[0m",
      "\u001b[1;31mNotImplementedError\u001b[0m: "
     ]
    }
   ],
   "source": [
    "# 예외를 강제로 발생 시키기. raise\n",
    "\n",
    "num = int(input('정수 입력'))\n",
    "\n",
    "if num > 0:\n",
    "    raise NotImplementedError\n",
    "else:\n",
    "    raise NotImplementedError"
   ]
  },
  {
   "cell_type": "code",
   "execution_count": null,
   "metadata": {},
   "outputs": [],
   "source": [
    "# 모듈\n",
    "# 여러 변수와 함수를 가지고 있는 집합체\n",
    "# 파이썬에 기본적으로 내장되어 있는 모듈을 '표준 모듈'이라고 부르고\n",
    "# 다른 사람이 만들어서 공개한 모듈을 '외부 모듈' 이라고 부른다."
   ]
  },
  {
   "cell_type": "code",
   "execution_count": 13,
   "metadata": {},
   "outputs": [
    {
     "name": "stdout",
     "output_type": "stream",
     "text": [
      "0.8414709848078965\n",
      "0.5403023058681398\n",
      "1.5574077246549023\n"
     ]
    }
   ],
   "source": [
    "# math 모듈 - 수학과 관련된 기능들을 가진 모듈\n",
    "\n",
    "import math \n",
    "\n",
    "print(math.sin(1))\n",
    "print(math.cos(1))\n",
    "print(math.tan(1))\n",
    "\n",
    "\n",
    "# ceil() 올림\n",
    "# floor() 내림\n",
    "# round() 반올림"
   ]
  },
  {
   "cell_type": "code",
   "execution_count": 14,
   "metadata": {},
   "outputs": [
    {
     "name": "stdout",
     "output_type": "stream",
     "text": [
      "0.8414709848078965\n",
      "0.5403023058681398\n",
      "1.5574077246549023\n"
     ]
    }
   ],
   "source": [
    "# from math import sin, cos, tan 특정 메서드들만 가져와서 사용\n",
    "from math import *               # 모든 메서드를 가져와서 사용\n",
    "\n",
    "print(sin(1))\n",
    "print(cos(1))\n",
    "print(tan(1))"
   ]
  },
  {
   "cell_type": "code",
   "execution_count": 15,
   "metadata": {},
   "outputs": [
    {
     "name": "stdout",
     "output_type": "stream",
     "text": [
      "0.8414709848078965\n",
      "0.5403023058681398\n",
      "1.5574077246549023\n"
     ]
    }
   ],
   "source": [
    "import math as m\n",
    "\n",
    "print(m.sin(1))\n",
    "print(m.cos(1))\n",
    "print(m.tan(1))"
   ]
  },
  {
   "cell_type": "code",
   "execution_count": 17,
   "metadata": {},
   "outputs": [],
   "source": [
    "# 외부 모듈 설치 하고 import\n",
    "\n",
    "# pip install 모듈명\n",
    "import selenium"
   ]
  },
  {
   "cell_type": "code",
   "execution_count": null,
   "metadata": {},
   "outputs": [],
   "source": [
    "# random 모듈 - 랜덤한 숫자를 생성해주는 모듈\n",
    "import random\n"
   ]
  },
  {
   "cell_type": "code",
   "execution_count": null,
   "metadata": {},
   "outputs": [],
   "source": [
    "random.randint"
   ]
  }
 ],
 "metadata": {
  "interpreter": {
   "hash": "b3ba2566441a7c06988d0923437866b63cedc61552a5af99d1f4fb67d367b25f"
  },
  "kernelspec": {
   "display_name": "Python 3.9.7 ('base')",
   "language": "python",
   "name": "python3"
  },
  "language_info": {
   "codemirror_mode": {
    "name": "ipython",
    "version": 3
   },
   "file_extension": ".py",
   "mimetype": "text/x-python",
   "name": "python",
   "nbconvert_exporter": "python",
   "pygments_lexer": "ipython3",
   "version": "3.9.7"
  },
  "orig_nbformat": 4
 },
 "nbformat": 4,
 "nbformat_minor": 2
}

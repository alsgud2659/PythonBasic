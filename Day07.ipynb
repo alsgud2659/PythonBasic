{
 "cells": [
  {
   "cell_type": "code",
   "execution_count": 2,
   "metadata": {},
   "outputs": [
    {
     "name": "stdout",
     "output_type": "stream",
     "text": [
      "type(exception): <class 'ValueError'>\n",
      "exception: invalid literal for int() with base 10: 'fasdf'\n"
     ]
    }
   ],
   "source": [
    "# 예외 처리 고급\n",
    "\n",
    "# 프로그램을 개발하다 보면 수많은 오류를 만나게 된다. 또한 처음 프로그램을 개발했을 때\n",
    "# 모든 오류를 예측하고 처리 할 수는 없다. 개발이 완료된 후에도 예측하지 못한 오류들이 계속 발생되기 때문에\n",
    "# 유지 보수가 필요하다.\n",
    "\n",
    "# try:\n",
    "#      예외 발생 가능성이 있는 구문\n",
    "# except:\n",
    "#      예외가 발생 했을 때 실행할 구문\n",
    "    \n",
    "\n",
    "# try:\n",
    "#      예외 발생 가능성이 있는 구문\n",
    "# except 예외의 종류 as e(예외 객체를 활용할 변수 이름):\n",
    "#      예외가 발생 했을 때 실행할 구문\n",
    "    \n",
    "# 예외가 발생하면 예외 정보가 생기고 예외 정보는 예외 객체에 저장되어 생성된다.\n",
    "\n",
    "# 예외 객체\n",
    "\n",
    "try:\n",
    "    num = int(input('정수를 입력하세요'))\n",
    "    \n",
    "    print('입력한 정수:', num)\n",
    "except Exception as e:\n",
    "    print('type(exception):', type(e))\n",
    "    print('exception:', e)\n",
    "\n",
    "\n",
    "# 만약 큰 규모의 웹 서비스를 구축하게 된다면 다양한 예외가 분명히 발생한다.\n",
    "# 예외가 발생할 떄 그 정보를 수집하면 이후 프로그램을 유지 보수 하는데 큰 도움이 된다.\n"
   ]
  },
  {
   "cell_type": "code",
   "execution_count": 6,
   "metadata": {},
   "outputs": [
    {
     "name": "stdout",
     "output_type": "stream",
     "text": [
      "정수를 입력해야 합니다\n"
     ]
    }
   ],
   "source": [
    "# 예외 구분하기\n",
    "\n",
    "list = [52, 273, 32, 72, 100]\n",
    "\n",
    "try:\n",
    "    num = int(input('정수 입력'))\n",
    "    print(f'{num}번째 요소: {list[num]}')\n",
    "    \n",
    "# except Exception as e:\n",
    "#     print('type(exception):', type(e))\n",
    "#     print('exception:', e)\n",
    "\n",
    "except ValueError:\n",
    "    print('정수를 입력해야 합니다')\n",
    "    \n",
    "except IndexError:\n",
    "    print('리스트 크기보다 큰 수는 입력 할 수 없습니다.')"
   ]
  },
  {
   "cell_type": "code",
   "execution_count": 9,
   "metadata": {},
   "outputs": [
    {
     "name": "stdout",
     "output_type": "stream",
     "text": [
      "1번째 요소: 273\n",
      "미리 파악하지 못한 예외 발생\n",
      "<class 'NameError'> name '예외' is not defined\n"
     ]
    }
   ],
   "source": [
    "list = [52, 273, 32, 72, 100]\n",
    "\n",
    "try:\n",
    "    num = int(input('정수 입력'))\n",
    "    print(f'{num}번째 요소: {list[num]}')\n",
    "    예외.발생()\n",
    "# except Exception as e:\n",
    "#     print('type(exception):', type(e))\n",
    "#     print('exception:', e)\n",
    "\n",
    "except ValueError as e:\n",
    "    print('정수를 입력해야 합니다')\n",
    "    print('exception:', e)\n",
    "except IndexError as e:\n",
    "    print('리스트 크기보다 큰 수는 입력 할 수 없습니다.')\n",
    "    print('exception:', e)\n",
    "except Exception as e:\n",
    "    # 나머지 예기치 못한 예외를 여기서 처리\n",
    "    print('미리 파악하지 못한 예외 발생')\n",
    "    print(type(e),e)\n",
    "\n",
    "\n",
    "# 너무 치명적인 문제인데도 프로그램이 강제 종료 되지 않게 만들면\n",
    "# 그것으로 더 큰 문제가 될 수 있으므로 상황에 맞게 대처 할 수 있어야 한다.\n",
    "\n",
    "# 큰 규모의 프로그램을 개발할 때는 \"예외 처리로 떡칠한다.\" 라고 표현할 정도로\n",
    "# 예외 처리를 많이 사용하게 된다.\n",
    "\n",
    "# 예외 처리에서 가장 중요한 것은 \"이 코드에서 어떤 예외가 발생할 것인가?\"를 미리 잘 예측하는 것이다.   \n"
   ]
  },
  {
   "cell_type": "code",
   "execution_count": 10,
   "metadata": {},
   "outputs": [
    {
     "ename": "NotImplementedError",
     "evalue": "",
     "output_type": "error",
     "traceback": [
      "\u001b[1;31m---------------------------------------------------------------------------\u001b[0m",
      "\u001b[1;31mNotImplementedError\u001b[0m                       Traceback (most recent call last)",
      "\u001b[1;32m~\\AppData\\Local\\Temp/ipykernel_20372/3619082301.py\u001b[0m in \u001b[0;36m<module>\u001b[1;34m\u001b[0m\n\u001b[0;32m      6\u001b[0m     \u001b[1;32mraise\u001b[0m \u001b[0mNotImplementedError\u001b[0m\u001b[1;33m\u001b[0m\u001b[1;33m\u001b[0m\u001b[0m\n\u001b[0;32m      7\u001b[0m \u001b[1;32melse\u001b[0m\u001b[1;33m:\u001b[0m\u001b[1;33m\u001b[0m\u001b[1;33m\u001b[0m\u001b[0m\n\u001b[1;32m----> 8\u001b[1;33m     \u001b[1;32mraise\u001b[0m \u001b[0mNotImplementedError\u001b[0m\u001b[1;33m\u001b[0m\u001b[1;33m\u001b[0m\u001b[0m\n\u001b[0m",
      "\u001b[1;31mNotImplementedError\u001b[0m: "
     ]
    }
   ],
   "source": [
    "# 예외를 강제로 발생 시키기. raise\n",
    "\n",
    "num = int(input('정수 입력'))\n",
    "\n",
    "if num > 0:\n",
    "    raise NotImplementedError\n",
    "else:\n",
    "    raise NotImplementedError"
   ]
  },
  {
   "cell_type": "code",
   "execution_count": null,
   "metadata": {},
   "outputs": [],
   "source": [
    "# 모듈\n",
    "# 여러 변수와 함수를 가지고 있는 집합체\n",
    "# 파이썬에 기본적으로 내장되어 있는 모듈을 '표준 모듈'이라고 부르고\n",
    "# 다른 사람이 만들어서 공개한 모듈을 '외부 모듈' 이라고 부른다."
   ]
  },
  {
   "cell_type": "code",
   "execution_count": 13,
   "metadata": {},
   "outputs": [
    {
     "name": "stdout",
     "output_type": "stream",
     "text": [
      "0.8414709848078965\n",
      "0.5403023058681398\n",
      "1.5574077246549023\n"
     ]
    }
   ],
   "source": [
    "# math 모듈 - 수학과 관련된 기능들을 가진 모듈\n",
    "\n",
    "import math \n",
    "\n",
    "print(math.sin(1))\n",
    "print(math.cos(1))\n",
    "print(math.tan(1))\n",
    "\n",
    "\n",
    "# ceil() 올림\n",
    "# floor() 내림\n",
    "# round() 반올림"
   ]
  },
  {
   "cell_type": "code",
   "execution_count": 14,
   "metadata": {},
   "outputs": [
    {
     "name": "stdout",
     "output_type": "stream",
     "text": [
      "0.8414709848078965\n",
      "0.5403023058681398\n",
      "1.5574077246549023\n"
     ]
    }
   ],
   "source": [
    "# from math import sin, cos, tan 특정 메서드들만 가져와서 사용\n",
    "from math import *               # 모든 메서드를 가져와서 사용\n",
    "\n",
    "print(sin(1))\n",
    "print(cos(1))\n",
    "print(tan(1))"
   ]
  },
  {
   "cell_type": "code",
   "execution_count": 15,
   "metadata": {},
   "outputs": [
    {
     "name": "stdout",
     "output_type": "stream",
     "text": [
      "0.8414709848078965\n",
      "0.5403023058681398\n",
      "1.5574077246549023\n"
     ]
    }
   ],
   "source": [
    "import math as m\n",
    "\n",
    "print(m.sin(1))\n",
    "print(m.cos(1))\n",
    "print(m.tan(1))"
   ]
  },
  {
   "cell_type": "code",
   "execution_count": 17,
   "metadata": {},
   "outputs": [],
   "source": [
    "# 외부 모듈 설치 하고 import\n",
    "\n",
    "# pip install 모듈명\n",
    "import selenium"
   ]
  },
  {
   "cell_type": "code",
   "execution_count": 47,
   "metadata": {},
   "outputs": [
    {
     "name": "stdout",
     "output_type": "stream",
     "text": [
      "# random 모듈\n",
      "- random(): 0.39130699044309114\n",
      "- uniform(10, 20): 13.486052937663777\n",
      "- randrange(20): 4\n",
      "- choice([1,2,3,4,5]): 1\n",
      "- shuffle([1,2,3,4,5]): ['5', '4', '3', '1', '2']\n",
      "- sample([1,2,3,4,5],k = 2): [5, 2]\n"
     ]
    }
   ],
   "source": [
    "# random 모듈 - 랜덤한 숫자를 생성해주는 모듈\n",
    "import random\n",
    "\n",
    "print('# random 모듈')\n",
    "\n",
    "# 기본적으로 0.0 에서 1.0 사이의 float으로 난수를 발생시킨다.\n",
    "print('- random():', random.random())\n",
    "\n",
    "# uniform(min, max): 지정한 범위 사이의 float을 발생시킨다.\n",
    "print('- uniform(10, 20):', random.uniform(10, 20))\n",
    "\n",
    "# randomrnage(): 지정한 범위의 int를 발생시킨다 (최소값을 생략하면 0부터)\n",
    "print('- randrange(20):', random.randrange(20))\n",
    "\n",
    "# choice(list): 리트트 내부에 있는 요소를 랜덤하게 선택\n",
    "print('- choice([1,2,3,4,5]):', random.choice([1,2,3,4,5]))\n",
    "\n",
    "# shuffle(list): 리스트의 요소들이 랜덤하게 섞어준다\n",
    "# shuffle은 파괴적으로 처리를 하기 때문에 먼저 섞는 작업을 하고 나서 출력한다.\n",
    "list = ['1','2','3','4','5']\n",
    "random.shuffle(list)\n",
    "print('- shuffle([1,2,3,4,5]):', list)\n",
    "\n",
    "# sample(list, k = 숫자): 리스트의 요소중 k개를 랜덤하게 뽑아준다\n",
    "print('- sample([1,2,3,4,5],k = 2):', random.sample([1,2,3,4,5], k = 2))"
   ]
  },
  {
   "cell_type": "code",
   "execution_count": 56,
   "metadata": {},
   "outputs": [
    {
     "name": "stdout",
     "output_type": "stream",
     "text": [
      "[46, 42, 30, 19, 39, 24]\n",
      "[39, 22, 23, 22, 29, 18]\n",
      "[8, 33, 42, 2, 1, 8]\n",
      "[39, 43, 11, 33, 14, 34]\n",
      "[44, 19, 38, 34, 5, 39]\n"
     ]
    }
   ],
   "source": [
    "# 로또 당첨 번호 추천 인공지능 시스템 개발\n",
    "# 매주 5개의 1등 완전 당첨 번호 판매를 시작한다.\n",
    "# 실행하면 5개의 로또 번호를 보여주는 프로그램을 작성 하시오\n",
    "\n",
    "li = [0,0,0,0,0,0]\n",
    "for i in range(5):\n",
    "    for j in range(6):\n",
    "        li[j] = random.randrange(1,47)\n",
    "        \n",
    "    print(li)\n",
    "    li = [0,0,0,0,0,0]"
   ]
  },
  {
   "cell_type": "code",
   "execution_count": 59,
   "metadata": {},
   "outputs": [
    {
     "name": "stdout",
     "output_type": "stream",
     "text": [
      "현재 운영체제 nt\n",
      "현재 작업폴더 c:\\Users\\LEE\\Documents\\Github\\ai\n",
      "현재 폴더 내부 ['.git', 'Algorithm01.ipynb', 'Algorithm02.ipynb', 'Algorithm03.ipynb', 'BinarySearch.py', 'Day01.ipynb', 'Day02.ipynb', 'Day03.ipynb', 'Day04.ipynb', 'Day05.ipynb', 'Day06.ipynb', 'Day07.ipynb', 'README.md']\n"
     ]
    }
   ],
   "source": [
    "# os 모듈\n",
    "\n",
    "import os\n",
    "print('현재 운영체제', os.name)\n",
    "print('현재 작업폴더', os.getcwd())\n",
    "print('현재 폴더 내부', os.listdir())\n"
   ]
  },
  {
   "cell_type": "code",
   "execution_count": null,
   "metadata": {},
   "outputs": [],
   "source": [
    "# urllib 크롤링 등 웹 접근 라이브러리\n",
    "\n",
    "from urllib import request\n",
    "\n",
    "target = request.urlopen('https://www.naver.com')\n",
    "output = target.read()\n",
    "\n",
    "print(output)"
   ]
  },
  {
   "cell_type": "code",
   "execution_count": 1,
   "metadata": {},
   "outputs": [
    {
     "name": "stdout",
     "output_type": "stream",
     "text": [
      "52809000.0\n",
      "52799000.0\n"
     ]
    }
   ],
   "source": [
    "# 외부모듈\n",
    "# 파이썬이 기본족으로 제공해주는것이 아닌 누군가가 만들어서 배포하는 모듈을 말한다.\n",
    "\n",
    "import pybithumb\n",
    "import time\n",
    "\n",
    "while True:\n",
    "    print(pybithumb.get_current_price('BTC'))\n",
    "    time.sleep(1)"
   ]
  },
  {
   "cell_type": "code",
   "execution_count": 6,
   "metadata": {},
   "outputs": [
    {
     "name": "stdout",
     "output_type": "stream",
     "text": [
      "BTC 52782000.0\n",
      "ETH 3746000.0\n",
      "LTC 167100.0\n",
      "ETC 40270.0\n",
      "XRP 1032.0\n",
      "BCH 410200.0\n",
      "QTUM 8630.0\n",
      "BTG 42880.0\n",
      "EOS 3206.0\n",
      "ICX 1025.0\n",
      "TRX 82.8\n",
      "ELF 466.4\n",
      "OMG 6360.0\n",
      "KNC 2304.0\n",
      "GLM 487.6\n",
      "ZIL 66.31\n",
      "WAXP 435.2\n",
      "POWR 703.8\n",
      "LRC 1304.0\n",
      "STEEM 433.2\n",
      "STRAX 1385.0\n",
      "ZRX 816.8\n",
      "REP 18160.0\n",
      "XEM 141.1\n",
      "SNT 75.39\n",
      "ADA 1429.0\n",
      "CTXC 409.2\n",
      "BAT 1124.0\n",
      "WTC 693.1\n",
      "THETA 4005.0\n",
      "LOOM 97.09\n",
      "WAVES 12900.0\n",
      "TRUE 258.9\n",
      "LINK 21850.0\n",
      "ENJ 2500.0\n",
      "VET 77.48\n",
      "MTL 2206.0\n",
      "IOST 36.15\n",
      "TMTG 3.831\n",
      "QKC 21.4\n",
      "ATOLO 50.87\n",
      "AMO 2.43\n",
      "BSV 121700.0\n",
      "ORBS 92.86\n",
      "TFUEL 247.6\n",
      "VALOR 1276.0\n",
      "CON 15.91\n",
      "ANKR 102.7\n",
      "MIX 16.41\n",
      "CRO 597.3\n",
      "FX 754.2\n",
      "CHR 772.3\n",
      "MBL 8.134\n",
      "MXC 97.42\n",
      "FCT 144.6\n",
      "TRV 18.18\n",
      "DAD 194.6\n",
      "WOM 146.0\n",
      "SOC 17.89\n",
      "BOA 174.1\n",
      "FLETA 44.18\n",
      "SXP 1828.0\n",
      "COS 23.14\n",
      "APIX 73.18\n",
      "EL 10.03\n",
      "BASIC 6.737\n",
      "HIVE 1382.0\n",
      "XPR 17.11\n",
      "VRA 43.25\n",
      "FIT 5.092\n",
      "EGG 7.1\n",
      "BORA 1368.0\n",
      "ARPA 105.8\n",
      "CTC 1673.0\n",
      "APM 40.66\n",
      "CKB 19.7\n",
      "AERGO 267.0\n",
      "ANW 39.72\n",
      "CENNZ 156.9\n",
      "EVZ 80.1\n",
      "CYCLUB 66.01\n",
      "SRM 3040.0\n",
      "QTCON 10.17\n",
      "UNI 14630.0\n",
      "YFI 30685000.0\n",
      "UMA 7930.0\n",
      "AAVE 217000.0\n",
      "COMP 176900.0\n",
      "REN 450.7\n",
      "BAL 17580.0\n",
      "RSR 24.39\n",
      "NMR 32820.0\n",
      "RLC 2683.0\n",
      "UOS 1522.0\n",
      "SAND 5550.0\n",
      "GOM2 47.62\n",
      "RINGX 41.68\n",
      "BEL 1266.0\n",
      "OBSR 4.918\n",
      "ORC 418.2\n",
      "POLA 118.0\n",
      "AWO 23.17\n",
      "ADP 46.16\n",
      "DVI 918.1\n",
      "GHX 66.52\n",
      "MIR 1567.0\n",
      "MVC 26.64\n",
      "BLY 27.56\n",
      "WOZX 248.0\n",
      "ANV 705.4\n",
      "GRT 563.5\n",
      "MM 544.0\n",
      "BIOT 37.45\n",
      "XNO 90.5\n",
      "SNX 6690.0\n",
      "SOFI 312.2\n",
      "COLA 204.2\n",
      "NU 642.6\n",
      "OXT 331.5\n",
      "LINA 34.4\n",
      "MAP 27.0\n",
      "AQT 3806.0\n",
      "WIKEN 16.71\n",
      "CTSI 648.7\n",
      "MANA 4024.0\n",
      "LPT 38150.0\n",
      "MKR 2634000.0\n",
      "SUSHI 5570.0\n",
      "ASM 71.68\n",
      "PUNDIX 1023.0\n",
      "CELR 66.34\n",
      "CWD 315.6\n",
      "ARW 2315.0\n",
      "FRONT 628.5\n",
      "MSB 193.2\n",
      "RLY 292.3\n",
      "OCEAN 754.2\n",
      "BFC 273.0\n",
      "ALICE 10700.0\n",
      "COTI 368.5\n",
      "CAKE 9645.0\n",
      "BNT 3314.0\n",
      "XVS 11040.0\n",
      "CHZ 268.2\n",
      "AXS 77550.0\n",
      "DAO 2693.0\n",
      "DAI 1211.0\n",
      "MATIC 2328.0\n",
      "WOO 876.2\n",
      "BAKE 875.9\n",
      "VELO 122.8\n",
      "BCD 1229.0\n",
      "XLM 288.8\n",
      "GXC 2244.0\n",
      "VSYS 16.17\n",
      "IPX 60.42\n",
      "WICC 183.4\n",
      "ONT 717.2\n",
      "LUNA 66500.0\n",
      "AION 125.8\n",
      "META 99.66\n",
      "KLAY 1450.0\n",
      "ONG 837.8\n",
      "ALGO 1229.0\n",
      "JST 67.04\n",
      "XTZ 5400.0\n",
      "MLK 1199.0\n",
      "WEMIX 8800.0\n",
      "DOT 26080.0\n",
      "ATOM 36580.0\n",
      "SSX 61.94\n",
      "TEMCO 6.953\n",
      "HIBS 3.407\n",
      "BURGER 2187.0\n",
      "DOGE 189.8\n",
      "KSM 227700.0\n",
      "CTK 1669.0\n",
      "XYM 218.5\n",
      "BNB 500500.0\n",
      "NFT 0.0028\n",
      "SUN 20.24\n",
      "XEC 0.1156\n",
      "PCI 1048.0\n",
      "SOL 134800.0\n",
      "C98 2213.0\n",
      "MED 54.56\n",
      "1INCH 2264.0\n",
      "BOBA 2036.0\n",
      "GALA 436.2\n",
      "BTT 0.0028\n"
     ]
    }
   ],
   "source": [
    "import pybithumb\n",
    "import time\n",
    "tickers = pybithumb.get_tickers()\n",
    "\n",
    "for ticker in tickers:\n",
    "    print(ticker, pybithumb.get_current_price(ticker))\n",
    "    time.sleep(1)"
   ]
  },
  {
   "cell_type": "code",
   "execution_count": 7,
   "metadata": {},
   "outputs": [
    {
     "name": "stdout",
     "output_type": "stream",
     "text": [
      "(53309000.0, 54123000.0, 52214000.0, 52781000.0, 2928.89198669)\n"
     ]
    }
   ],
   "source": [
    "print(pybithumb.get_market_detail('BTC'))\n",
    "# 고가, 저가, 평균, 거래량"
   ]
  },
  {
   "cell_type": "code",
   "execution_count": 8,
   "metadata": {},
   "outputs": [
    {
     "name": "stdout",
     "output_type": "stream",
     "text": [
      "52839000.0\n",
      "52830000.0\n"
     ]
    }
   ],
   "source": [
    "import pykorbit\n",
    "\n",
    "print(pykorbit.get_current_price('BTC'))\n",
    "print(pybithumb.get_current_price('BTC'))"
   ]
  }
 ],
 "metadata": {
  "interpreter": {
   "hash": "b3ba2566441a7c06988d0923437866b63cedc61552a5af99d1f4fb67d367b25f"
  },
  "kernelspec": {
   "display_name": "Python 3.9.7 ('base')",
   "language": "python",
   "name": "python3"
  },
  "language_info": {
   "codemirror_mode": {
    "name": "ipython",
    "version": 3
   },
   "file_extension": ".py",
   "mimetype": "text/x-python",
   "name": "python",
   "nbconvert_exporter": "python",
   "pygments_lexer": "ipython3",
   "version": "3.9.7"
  },
  "orig_nbformat": 4
 },
 "nbformat": 4,
 "nbformat_minor": 2
}

{
 "cells": [
  {
   "cell_type": "code",
   "execution_count": 3,
   "metadata": {},
   "outputs": [
    {
     "name": "stdout",
     "output_type": "stream",
     "text": [
      "이름\t총점\t평균\n",
      "슈가\t368\t92.0\n",
      "진\t372\t93.0\n",
      "카리나\t386\t96.5\n"
     ]
    }
   ],
   "source": [
    "# 클래스와 객체\n",
    "\n",
    "# C언어를 제외한 대부분의 언어는 객체지향 프로그래밍 언어이다. Object Oriented Programming : OOP\n",
    "# 객체지향 언어는 클래스를 기반으로 객체를 만들고 그 객체들을 우선으로 생각해서 프로그래밍하는 것을 철학으로 한다.\n",
    "\n",
    "# 객체\n",
    "\n",
    "students = [\n",
    "    {'name': '슈가','korean':87, 'math': 98, 'eng': 88, 'sci':95},\n",
    "    {'name': '진','korean':90, 'math': 99, 'eng': 86, 'sci':97},\n",
    "    {'name': '카리나','korean':99, 'math': 89, 'eng': 99, 'sci':99}\n",
    "]\n",
    "\n",
    "print('이름', '총점', '평균', sep = '\\t')\n",
    "for student in students:\n",
    "    # 학생들의 점수의 총합과 평균을 구하다.\n",
    "    score_sum = student['korean'] + student['math'] + student['eng'] + student['sci']\n",
    "    score_avg = score_sum / 4\n",
    "    print(student['name'], score_sum, score_avg, sep = '\\t')    \n",
    "\n",
    "\n",
    "# 딕셔너리로 학생들을 표현하고 이를 리스트로 묶어서 학생 전체를 표현했다.\n",
    "# 여러가지 속성을 가질 수 있는 대상을 '객체'object 라고 부른다.\n",
    "# 그런데... 딕셔너리로 객체를 하나하나 만들면 복잡하고 귀찮다. 키를 모르면 사용하기도 어렵다.\n",
    "\n",
    "# 함수형태로 변형해보자\n"
   ]
  },
  {
   "cell_type": "code",
   "execution_count": 5,
   "metadata": {},
   "outputs": [
    {
     "name": "stdout",
     "output_type": "stream",
     "text": [
      "이름\t총점\t평균\n",
      "슈가\t368\t92.0\n",
      "진\t372\t93.0\n",
      "카리나\t386\t96.5\n"
     ]
    }
   ],
   "source": [
    "def create_student(name, korean, math, eng, sci):\n",
    "    return {\n",
    "        'name': name,\n",
    "        'korean': korean,\n",
    "        'math' : math,\n",
    "        'eng' : eng,\n",
    "        'sci' : sci\n",
    "    }\n",
    "\n",
    "# 학생들 리스트\n",
    "students = [   \n",
    "    create_student('슈가',87, 98, 88, 95),\n",
    "    create_student( '진',90, 99, 86,97),\n",
    "    create_student('카리나',99, 89, 99, 99)\n",
    "]\n",
    "\n",
    "# 한명씩 반복\n",
    "print('이름', '총점', '평균', sep = '\\t')\n",
    "for student in students:\n",
    "    # 학생들의 점수의 총합과 평균을 구하다.\n",
    "    score_sum = student['korean'] + student['math'] + student['eng'] + student['sci']\n",
    "    score_avg = score_sum / 4\n",
    "    print(student['name'], score_sum, score_avg, sep = '\\t')    "
   ]
  },
  {
   "cell_type": "code",
   "execution_count": 7,
   "metadata": {},
   "outputs": [
    {
     "name": "stdout",
     "output_type": "stream",
     "text": [
      "이름\t총점\t평균\n",
      "슈가\t368\t92.0\n",
      "진\t372\t93.0\n",
      "카리나\t386\t96.5\n"
     ]
    }
   ],
   "source": [
    "# 실행 결과는 이전과 동일하다. 조금 더 변형 해보자\n",
    "# 현재 총점과 평균을 구하는 처리는 학생을 대상으로만 이루어진다.\n",
    "# 따라서 학생을 매개변수로 받는 형태의 함수로 만들면 코드가 좀 더 균형잡히게 된다.\n",
    "\n",
    "def create_student(name, korean, math, eng, sci):\n",
    "    return {\n",
    "        'name': name,\n",
    "        'korean': korean,\n",
    "        'math' : math,\n",
    "        'eng' : eng,\n",
    "        'sci' : sci\n",
    "    }\n",
    "\n",
    "# 학생들의 점수를 처리하는 부분들도 함수로 만들자\n",
    "\n",
    "def student_get_sum(student):\n",
    "    return student['korean'] + student['math'] + student['eng'] + student['sci']\n",
    "\n",
    "def student_get_avg(student):\n",
    "    return student_get_sum(student) / 4\n",
    "\n",
    "def student_to_string(student):\n",
    "    return '{}\\t{}\\t{}'.format(student['name'],student_get_sum(student), student_get_avg(student))\n",
    "\n",
    "students = [   \n",
    "    create_student('슈가',87, 98, 88, 95),\n",
    "    create_student( '진',90, 99, 86,97),\n",
    "    create_student('카리나',99, 89, 99, 99)\n",
    "]\n",
    "\n",
    "print('이름', '총점', '평균', sep = '\\t')\n",
    "\n",
    "for student in students:\n",
    "    print(student_to_string(student))\n",
    "    \n",
    "    \n",
    "# 실행 결과가 이전과 같지만 코드가 분리되고 있다 .학생이라는 객체와 관련된 기능이 위로 올라갔고\n",
    "# 이 객체들을 사용하는 처리들을 아래로 내려갔다. 이렇게 하면 '학생 객체와 관련된 기능'을 별도의 모듈로 빼서 관리 할 수 있다.\n",
    "\n",
    "# 객체와 관련된 코드를 분리 할 수 있게 하는 것이 객체지향 프로그래밍의 핵심이다.\n",
    "# 클래스라는 구조를 사용하면 위와 같은 형태의 코드를 좀 더 쉽고 편하게 구현 할 수 있다."
   ]
  },
  {
   "cell_type": "code",
   "execution_count": 9,
   "metadata": {},
   "outputs": [
    {
     "data": {
      "text/plain": [
       "99"
      ]
     },
     "execution_count": 9,
     "metadata": {},
     "output_type": "execute_result"
    }
   ],
   "source": [
    "# 클래스 선언\n",
    "\n",
    "class Student:\n",
    "    # 생성자 constructor\n",
    "    def __init__(self, name, korean, math, eng, sci):\n",
    "        self.name = name\n",
    "        self.korean = korean\n",
    "        self.math = math\n",
    "        self.eng = eng\n",
    "        self.sci = sci\n",
    "        \n",
    "\n",
    "\n",
    "\n",
    "# 학생 리스트\n",
    "\n",
    "students = [   \n",
    "    Student('슈가',87, 98, 88, 95),\n",
    "    Student('진',90, 99, 86,97),\n",
    "    Student('카리나',99, 89, 99, 99)\n",
    "]\n",
    "\n",
    "students[0].name\n",
    "students[1].name\n",
    "students[1].math"
   ]
  },
  {
   "cell_type": "code",
   "execution_count": 17,
   "metadata": {},
   "outputs": [
    {
     "name": "stdout",
     "output_type": "stream",
     "text": [
      "이름\t\t총점\t\t평균\n",
      "슈가\t\t368\t\t92.0\n",
      "진\t\t372\t\t93.0\n",
      "카리\t\t386\t\t96.5\n"
     ]
    }
   ],
   "source": [
    "# method 메서드\n",
    "# 클래스가 가지고 있는 함수를 매서드라고 부른다. \n",
    "# 매서드는 첫번째 매개변수로 self를 넣어야 한다. \n",
    "\n",
    "class Student:\n",
    "      # 생성자 constructor\n",
    "  def __init__(self, name, korean, math, eng, sci):\n",
    "    self.name = name\n",
    "    self.korean = korean\n",
    "    self.math = math\n",
    "    self.eng  = eng \n",
    "    self.sci = sci\n",
    "\n",
    "  def get_sum(self):\n",
    "    return self.korean + self.math + self.eng + self.sci\n",
    "\n",
    "  def get_avg(self):\n",
    "    return self.get_sum() / 4\n",
    "\n",
    "  def to_string(self):\n",
    "    return '{}\\t\\t{}\\t\\t{}'.format(self.name, self.get_sum(), self.get_avg())\n",
    "\n",
    "\n",
    "# 학생 리스트\n",
    "\n",
    "students = [\n",
    "    Student('슈가', 87, 98, 88, 95),\n",
    "    Student('진', 90, 99, 86, 97),\n",
    "    Student('카리', 99, 89, 99, 99)\n",
    "]\n",
    "\n",
    "print('이름','총점','평균', sep='\\t\\t')\n",
    "for student in students:\n",
    "  print(student.to_string())\n",
    "\n",
    "  # 어떤 객체가 가지고 있는 어떤 함수(기능)를 명확하게 이해할 수 있으므로 매우 편리하다. "
   ]
  },
  {
   "cell_type": "code",
   "execution_count": 18,
   "metadata": {},
   "outputs": [
    {
     "name": "stdout",
     "output_type": "stream",
     "text": [
      "3\n",
      "8\n",
      "2\n",
      "6\n"
     ]
    }
   ],
   "source": [
    "result1 = 0\n",
    "result2 = 0\n",
    " \n",
    "# add함수는 입력받은 값을 이전에 계산한 값에 더한후 돌려주는 함수\n",
    "def add1(num):\n",
    "  global result1\n",
    "  result1 += num\n",
    "  return result1\n",
    "\n",
    "def add2(num):\n",
    "  global result2\n",
    "  result2 += num\n",
    "  return result2\n",
    "\n",
    "print(add1(3))\n",
    "print(add1(5))\n",
    "\n",
    "print(add2(2))\n",
    "print(add2(4))"
   ]
  },
  {
   "cell_type": "code",
   "execution_count": 19,
   "metadata": {},
   "outputs": [
    {
     "name": "stdout",
     "output_type": "stream",
     "text": [
      "3\n",
      "7\n",
      "5\n",
      "11\n"
     ]
    }
   ],
   "source": [
    "class Cal:\n",
    "      #생성자\n",
    "  def __init__(self):\n",
    "    self.result = 0\n",
    "\n",
    "  def add(self,num):\n",
    "    self.result += num\n",
    "    return self.result\n",
    "\n",
    "  def sub(self,num):\n",
    "    self.result += num\n",
    "    return self.result\n",
    "\n",
    "cal1 = Cal()\n",
    "cal2 = Cal()\n",
    "\n",
    "print(cal1.add(3))\n",
    "print(cal1.add(4))\n",
    "\n",
    "print(cal2.add(5))\n",
    "print(cal2.add(6))"
   ]
  },
  {
   "cell_type": "code",
   "execution_count": 34,
   "metadata": {},
   "outputs": [
    {
     "name": "stdout",
     "output_type": "stream",
     "text": [
      "6\n",
      "8\n",
      "2\n",
      "2.0\n"
     ]
    }
   ],
   "source": [
    "class FourCal:\n",
    "  def setdata(self, first, second):\n",
    "    self.first = first\n",
    "    self.second = second\n",
    "\n",
    "  def add(self):\n",
    "    result = self.first + self.second\n",
    "    return result\n",
    "  def sub(self):\n",
    "    result = self.first - self.second\n",
    "    return result\n",
    "  def mul(self):\n",
    "    result = self.first * self.second\n",
    "    return result\n",
    "  def div(self):\n",
    "    result = self.first / self.second\n",
    "    return result\n",
    "\n",
    "a = FourCal()\n",
    "a.setdata(4,2)\n",
    "print(a.add())\n",
    "print(a.mul())\n",
    "print(a.sub())\n",
    "print(a.div())\n"
   ]
  },
  {
   "cell_type": "code",
   "execution_count": 36,
   "metadata": {},
   "outputs": [
    {
     "name": "stdout",
     "output_type": "stream",
     "text": [
      "6\n",
      "8\n",
      "2\n",
      "2.0\n"
     ]
    }
   ],
   "source": [
    "# 생성자 constructor 객체가 생성될 때 자동으로 호출되는 메서드를 의미한다.\n",
    "class FourCal:\n",
    "    # 생성자\n",
    "    def __init__(self,first,second):\n",
    "        self.first = first\n",
    "        self.second = second\n",
    "    \n",
    "    # def setdata(self, first, second):\n",
    "    #     self.first = first\n",
    "    #     self.second = second\n",
    "\n",
    "    def add(self):\n",
    "        result = self.first + self.second\n",
    "        return result\n",
    "    def sub(self):\n",
    "        result = self.first - self.second\n",
    "        return result\n",
    "    def mul(self):\n",
    "        result = self.first * self.second\n",
    "        return result\n",
    "    def div(self):\n",
    "        result = self.first / self.second\n",
    "        return result\n",
    "\n",
    "\n",
    "a = FourCal(4,2)\n",
    "\n",
    "print(a.add())\n",
    "print(a.mul())\n",
    "print(a.sub())\n",
    "print(a.div())"
   ]
  },
  {
   "cell_type": "code",
   "execution_count": 38,
   "metadata": {},
   "outputs": [
    {
     "data": {
      "text/plain": [
       "16"
      ]
     },
     "execution_count": 38,
     "metadata": {},
     "output_type": "execute_result"
    }
   ],
   "source": [
    "# 상속 inheritance - 어떤 클래스를 만들때 다른 클래스의 기능을 물려받아 사용한다.\n",
    "\n",
    "class MoreFourCal(FourCal):\n",
    "    def pow(self):\n",
    "        result = self.first ** self.second\n",
    "        return result\n",
    "\n",
    "a = MoreFourCal(4,2)\n",
    "a.pow()"
   ]
  },
  {
   "cell_type": "code",
   "execution_count": 39,
   "metadata": {},
   "outputs": [
    {
     "data": {
      "text/plain": [
       "0"
      ]
     },
     "execution_count": 39,
     "metadata": {},
     "output_type": "execute_result"
    }
   ],
   "source": [
    "# 메서드 오버라이딩 method overriding\n",
    "\n",
    "class SafeFourCal(FourCal):\n",
    "    def div(self):\n",
    "        if self.second == 0:\n",
    "            return 0\n",
    "        else:\n",
    "            return self.first / self.second\n",
    "        \n",
    "        \n",
    "a = SafeFourCal(4,0)\n",
    "a.div()"
   ]
  },
  {
   "cell_type": "code",
   "execution_count": 43,
   "metadata": {},
   "outputs": [
    {
     "name": "stdout",
     "output_type": "stream",
     "text": [
      "김\n",
      "김\n",
      "박\n",
      "박\n"
     ]
    }
   ],
   "source": [
    "# 클래스 변수\n",
    "\n",
    "class Family:\n",
    "    lastname = '김' # 클래스 변수 선언\n",
    "    \n",
    "Family.lastname\n",
    "\n",
    "a = Family()\n",
    "b = Family()\n",
    "\n",
    "print(a.lastname)\n",
    "print(b.lastname)\n",
    "\n",
    "Family.lastname = '박'\n",
    "\n",
    "print(a.lastname)\n",
    "print(b.lastname)"
   ]
  },
  {
   "cell_type": "code",
   "execution_count": 46,
   "metadata": {},
   "outputs": [
    {
     "name": "stdout",
     "output_type": "stream",
     "text": [
      "3\n"
     ]
    }
   ],
   "source": [
    "class Calculator:\n",
    "    def __init__(self):\n",
    "        self.value = 0\n",
    "        \n",
    "    def add(self, val):\n",
    "        self.value += val\n",
    "\n",
    "class UpgradeCalculator(Calculator):\n",
    "    def minus(self, val):\n",
    "        self.value -= val\n",
    "\n",
    "\n",
    "cal = UpgradeCalculator()\n",
    "cal.add(10)\n",
    "cal.minus(7)\n",
    "\n",
    "print(cal.value)"
   ]
  },
  {
   "cell_type": "code",
   "execution_count": null,
   "metadata": {},
   "outputs": [],
   "source": []
  }
 ],
 "metadata": {
  "interpreter": {
   "hash": "b3ba2566441a7c06988d0923437866b63cedc61552a5af99d1f4fb67d367b25f"
  },
  "kernelspec": {
   "display_name": "Python 3.9.7 ('base')",
   "language": "python",
   "name": "python3"
  },
  "language_info": {
   "codemirror_mode": {
    "name": "ipython",
    "version": 3
   },
   "file_extension": ".py",
   "mimetype": "text/x-python",
   "name": "python",
   "nbconvert_exporter": "python",
   "pygments_lexer": "ipython3",
   "version": "3.9.7"
  },
  "orig_nbformat": 4
 },
 "nbformat": 4,
 "nbformat_minor": 2
}

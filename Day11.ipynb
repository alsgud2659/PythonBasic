{
 "cells": [
  {
   "cell_type": "code",
   "execution_count": 1,
   "metadata": {},
   "outputs": [
    {
     "name": "stdout",
     "output_type": "stream",
     "text": [
      "Hello 민형\n"
     ]
    }
   ],
   "source": [
    "name = input('First Name:')\n",
    "\n",
    "print(f'Hello {name}')"
   ]
  },
  {
   "cell_type": "code",
   "execution_count": 2,
   "metadata": {},
   "outputs": [
    {
     "name": "stdout",
     "output_type": "stream",
     "text": [
      "Hello alsgud dl\n"
     ]
    }
   ],
   "source": [
    "sname = input('Please enter your surname')\n",
    "fname = input('please enter your firstname')\n",
    "\n",
    "print(f'Hello {fname} {sname}')"
   ]
  },
  {
   "cell_type": "code",
   "execution_count": 3,
   "metadata": {},
   "outputs": [
    {
     "name": "stdout",
     "output_type": "stream",
     "text": [
      "1\n",
      "2\n",
      "Total is 3\n"
     ]
    }
   ],
   "source": [
    "# Ask the user to enter two numbers. add them together and display the answer as the total is [answer]\n",
    "\n",
    "fnum = int(input('please enter your first number:'))\n",
    "snum = int(input('please enter your second number:'))\n",
    "\n",
    "def add(a,b):\n",
    "    result = a + b\n",
    "    return result\n",
    "\n",
    "print(fnum)\n",
    "print(snum)\n",
    "a = add(fnum, snum)\n",
    "print(f'Total is {add(fnum, snum)}')"
   ]
  },
  {
   "cell_type": "code",
   "execution_count": 4,
   "metadata": {},
   "outputs": [
    {
     "name": "stdout",
     "output_type": "stream",
     "text": [
      "The answer is 3\n"
     ]
    }
   ],
   "source": [
    "# Ask how many slices of pizza the user stated with and ask how many slices they have eaten.\n",
    "# Work out how many slices they have left and display the answer in a user friendly format\n",
    "\n",
    "pizza = int(input('Enter the number of slices of pizza you started with:'))\n",
    "eaten = int(input('How many slices have you eaten?:'))\n",
    "\n",
    "print(f'The answer is {pizza - eaten}')"
   ]
  },
  {
   "cell_type": "code",
   "execution_count": 6,
   "metadata": {},
   "outputs": [
    {
     "name": "stdout",
     "output_type": "stream",
     "text": [
      "in 100, days there are..\n",
      "\thours:2400\n",
      "\tminutes: 144000\n",
      "\tseconds : 8640000\n"
     ]
    }
   ],
   "source": [
    "days = int(input('Enter the numbers of days:'))\n",
    "\n",
    "hours = days * 24\n",
    "minutes = hours * 60\n",
    "seconds = minutes * 60\n",
    "\n",
    "print(f'in {days}, days there are..\\n\\thours:{hours}\\n\\tminutes: {minutes}\\n\\tseconds : {seconds}')\n",
    "\n"
   ]
  },
  {
   "cell_type": "code",
   "execution_count": 9,
   "metadata": {},
   "outputs": [
    {
     "name": "stdout",
     "output_type": "stream",
     "text": [
      "8 goes into 200 answer 25\n"
     ]
    }
   ],
   "source": [
    "# Task the user to enter a number over 100 and then enter a number\n",
    "# under 10 and tell how many times the smaller number goes into the larger\n",
    "# number in a user friendly format\n",
    "\n",
    "bnum = int(input('Enter the number over 100 : '))\n",
    "snum = int(input('Enter the number under 10 : '))\n",
    "\n",
    "print(f'{snum} goes into {bnum} answer {int(bnum/snum)}')"
   ]
  },
  {
   "cell_type": "code",
   "execution_count": null,
   "metadata": {},
   "outputs": [],
   "source": [
    "# Ask for two numbers. If the first one is larger than the second, display the second number first and\n",
    "# then the first number, otherwise show the first number first and then the second.\n",
    "\n",
    "# 두개의 숫자를 입력 받아  만약 첫번째 숫자가 두번째 숫자보다 크면 두번째 숫자를 먼저 출력하고 \n",
    "# 첫번째 숫자를 출력한다. 그렇지 않으면 첫번째 숫자를 출력하고 두번째 숫자를 출력한다. \n",
    "\n",
    "# (input)'Enter first number : ' 3 \n",
    "# (input)'Enter second number : '2\n",
    "# (output) 2 3\n",
    "\n",
    "no1 = int(input('Enter first number :  '))\n",
    "no2 = int(input('Enter second number : '))\n",
    "\n",
    "if no1 > no2:\n",
    "  print(no2, no1)\n",
    "else:\n",
    "  print(no1, no2)"
   ]
  },
  {
   "cell_type": "code",
   "execution_count": null,
   "metadata": {},
   "outputs": [],
   "source": [
    "# Ask the user to enter a number between 10 and 20 If they enter a number within this range,\n",
    "# display the message 'Thank you' otherwise display the message 'incorrect number'\n",
    "\n",
    "# 10에서 20 사이의 숫자입력을 요청한다. 만약 입력된 값이 이 범위안의 숫자이면 'Thank you' 아니면 \n",
    "# 'Incorrect number'를 입력하라\n",
    "\n",
    "\n",
    "num = int(input('Enter a value between 10 and 20 :'))\n",
    "if num >=10 and num <= 20:\n",
    "  print('Thank you')\n",
    "else:\n",
    "  print('incorrect number')"
   ]
  },
  {
   "cell_type": "code",
   "execution_count": null,
   "metadata": {},
   "outputs": [],
   "source": [
    "# Ask the user to enter their favorite color. If they enter 'red', 'RED' or 'Red'\n",
    "# display the message ' I like red too', otherwise display the message \n",
    "# 'I dont like [color], I prefer red'.\n",
    "\n",
    "fc = input(\"favorite color : \")\n",
    "if fc in [\"red\",\"RED\",\"Red\"]:\n",
    "  print(\"i like it too\")\n",
    "else:\n",
    "  print(f\"i dont like {fc}, I prefer red\")\n"
   ]
  },
  {
   "cell_type": "code",
   "execution_count": null,
   "metadata": {},
   "outputs": [],
   "source": [
    "# Ask the user if it is raining and convert their answer to lower case \n",
    "# 사용자에게 지금 비가오고 있는지 묻고 그 대답을 소문자로 변환하여\n",
    "# so it doesnt matter what case they type it in. If they answer 'yes',\n",
    "# 대소문자 입력한 값에 상관없도록한다. 만약 'yes'를 입력하면 \n",
    "# ask if it is windy. If they answer 'yes' to this second question,\n",
    "# 바람이 부는지 다시 묻는다. 두번째 질문도 'yes'입력하면 \n",
    "# display the answer 'It is too windy for an umbrella', otherwise\n",
    "#  'It is too windy for an umbrella' 출력한다. 그렇지 않으면 \n",
    "# display the message 'Take an umbrella'. If they did not answer yes to the first question,\n",
    "# 'Take an umbrella'. 출력한다. 첫번째 질문에 'yes'가 아니면 \n",
    "# display the answer 'Enjoy your day'.\n",
    "# 'Enjoy your day'.를 출력한다. \n",
    "\n",
    "# (input) Is it raining ?\n",
    "# (input) Is it windy ?\n",
    "\n",
    "# (output) 'It is too windy for an umbrella'\n",
    "# (output) 'Take an umbrella'\n",
    "# (output) 'Enjoy your day'.\n",
    "\n",
    "raining = input('Is it raining ?')\n",
    "raining = str.lower(raining)\n",
    "\n",
    "if raining == 'yes':\n",
    "  windy = input('Is it windy ?')\n",
    "  windy = str.lower(windy)\n",
    "  if windy == 'yes':\n",
    "    print('It is too windy for an umbrella')\n",
    "  else:\n",
    "    print('Take an umbrella')\n",
    "else:\n",
    "  print('Enjoy your day')"
   ]
  },
  {
   "cell_type": "code",
   "execution_count": null,
   "metadata": {},
   "outputs": [],
   "source": [
    "# Ask the user's age. If they are 18 or over, display the message 'You can vote',\n",
    "# if they are aged 17, display the message 'You can learn to drive', \n",
    "# if they are 16, display the message 'You can by a lottery ticket', \n",
    "# if they are under 16, display the message 'You can go Trick or Treating'\n",
    "\n",
    "# (input) What is your age ?\n",
    "\n",
    "# (output) 'You can vote',\n",
    "              # 'You can learn to drive',\n",
    "              # 'You can by a lottery ticket', \n",
    "              # 'You can go Trick or Treating'\n",
    "\n",
    "age = int(input('What is your age ?'))\n",
    "\n",
    "if age >= 18:\n",
    "  print('You can vote')\n",
    "elif age == 17:\n",
    "  print('You can learn to drive')\n",
    "elif age == 16:\n",
    "  print('You can by a lottery ticket')\n",
    "else:\n",
    "  print('You can go Trick or Treating')\n"
   ]
  },
  {
   "cell_type": "code",
   "execution_count": 23,
   "metadata": {},
   "outputs": [
    {
     "name": "stdout",
     "output_type": "stream",
     "text": [
      "3\n"
     ]
    }
   ],
   "source": [
    "# Ask the user to enter their name and then display the length of their name !\n",
    "\n",
    "name = input(\"name ?\")\n",
    "print(len(name))"
   ]
  },
  {
   "cell_type": "code",
   "execution_count": null,
   "metadata": {},
   "outputs": [],
   "source": [
    "# Ask the user to enter their first name and lastname in lower case.\n",
    "# Change the case to title case and join them together.\n",
    "# Display the finished result.\n",
    "\n",
    "fname = input('Enter your first name in lowercase : ')\n",
    "lname = input('Enter your last name in lowercase : ')\n",
    "\n",
    "fname = fname.title()\n",
    "lname = lname.title()\n",
    "\n",
    "name = fname + \" \" + lname\n",
    "print(name)"
   ]
  },
  {
   "cell_type": "code",
   "execution_count": 22,
   "metadata": {},
   "outputs": [
    {
     "name": "stdout",
     "output_type": "stream",
     "text": [
      "Minhyung Lee\n"
     ]
    }
   ],
   "source": [
    "fn,surn = input('Enter your name  ').split()\n",
    "\n",
    "fn.capitalize()\n",
    "surn.capitalize()\n",
    "\n",
    "print(fn.capitalize(),surn.capitalize())"
   ]
  },
  {
   "cell_type": "code",
   "execution_count": 19,
   "metadata": {},
   "outputs": [
    {
     "name": "stdout",
     "output_type": "stream",
     "text": [
      "MINHYUNG\n"
     ]
    }
   ],
   "source": [
    "# Ask the user to enter their first name . If the length of their first name is under five characters,\n",
    "# ask them to enter their last name and join them together (without a space) and \n",
    "# display the name in upper case. If the length of the first name is five or more characters,\n",
    "# display their first name in lower case.\n",
    "\n",
    "fname = input('First name ? >>>')\n",
    "\n",
    "if len(fname) < 5:\n",
    "  lname = input('Last name ? >>>')\n",
    "  name = fname + lname\n",
    "  print(name.upper())\n",
    "else:\n",
    "  print(fname.lower())"
   ]
  },
  {
   "cell_type": "code",
   "execution_count": 17,
   "metadata": {},
   "outputs": [
    {
     "name": "stdout",
     "output_type": "stream",
     "text": [
      "ipay\n"
     ]
    }
   ],
   "source": [
    "# Pig Latin takes the first consonant of a word,\n",
    "# moves it to the end of the word and adds on an 'ay'.\n",
    "# If a word begins with a vowel you just add 'way' to the end.\n",
    "\n",
    "# For example, pig becomes igpay, banana becomes ananabay, and aadvark becomes\n",
    "# aadvarkway. Create a program that will ask the user to enter a word and \n",
    "# change it into Pig Latin. Make suer the new word is displayed in lower case.\n",
    "\n",
    "word = input('Please enter your word:')\n",
    "first = word[0]\n",
    "length = len(word)\n",
    "rest = word[1:length]\n",
    "vowel = ['a','e','i','o','u']\n",
    "\n",
    "if first in vowel:\n",
    "    newword = word + 'way'\n",
    "else:\n",
    "    newword = rest + first + 'ay'\n",
    "    \n",
    "print(newword.lower())\n",
    "\n"
   ]
  }
 ],
 "metadata": {
  "interpreter": {
   "hash": "b3ba2566441a7c06988d0923437866b63cedc61552a5af99d1f4fb67d367b25f"
  },
  "kernelspec": {
   "display_name": "Python 3.9.7 ('base')",
   "language": "python",
   "name": "python3"
  },
  "language_info": {
   "codemirror_mode": {
    "name": "ipython",
    "version": 3
   },
   "file_extension": ".py",
   "mimetype": "text/x-python",
   "name": "python",
   "nbconvert_exporter": "python",
   "pygments_lexer": "ipython3",
   "version": "3.9.7"
  },
  "orig_nbformat": 4
 },
 "nbformat": 4,
 "nbformat_minor": 2
}

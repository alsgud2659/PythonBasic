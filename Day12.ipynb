{
 "cells": [
  {
   "cell_type": "code",
   "execution_count": 1,
   "metadata": {},
   "outputs": [
    {
     "name": "stdout",
     "output_type": "stream",
     "text": [
      "3.14\n"
     ]
    }
   ],
   "source": [
    "# Maths\n",
    "\n",
    "num = 3.141592\n",
    "print(round(num,2)) # Display a number rounded to two decimal places."
   ]
  },
  {
   "cell_type": "code",
   "execution_count": 2,
   "metadata": {},
   "outputs": [
    {
     "data": {
      "text/plain": [
       "100"
      ]
     },
     "execution_count": 2,
     "metadata": {},
     "output_type": "execute_result"
    }
   ],
   "source": [
    "10**2\n",
    "# To the power of ..."
   ]
  },
  {
   "cell_type": "code",
   "execution_count": 3,
   "metadata": {},
   "outputs": [
    {
     "data": {
      "text/plain": [
       "10.0"
      ]
     },
     "execution_count": 3,
     "metadata": {},
     "output_type": "execute_result"
    }
   ],
   "source": [
    "import math\n",
    "\n",
    "math.sqrt(100)\n",
    "\n",
    "# The square root of a number but you must have the line 'import math' \n",
    "# at the top of your program for this to work. "
   ]
  },
  {
   "cell_type": "code",
   "execution_count": 4,
   "metadata": {},
   "outputs": [
    {
     "data": {
      "text/plain": [
       "3.141592653589793"
      ]
     },
     "execution_count": 4,
     "metadata": {},
     "output_type": "execute_result"
    }
   ],
   "source": [
    "math.pi\n",
    "\n",
    "# Gives you pi to decimal places, but you must have the line 'import math'\n",
    "# at the top of your program for this to work."
   ]
  },
  {
   "cell_type": "code",
   "execution_count": 5,
   "metadata": {},
   "outputs": [
    {
     "data": {
      "text/plain": [
       "7"
      ]
     },
     "execution_count": 5,
     "metadata": {},
     "output_type": "execute_result"
    }
   ],
   "source": [
    "15 // 2\n",
    "# Whole number division. 15//2 gives the answer 7."
   ]
  },
  {
   "cell_type": "code",
   "execution_count": 6,
   "metadata": {},
   "outputs": [
    {
     "data": {
      "text/plain": [
       "1"
      ]
     },
     "execution_count": 6,
     "metadata": {},
     "output_type": "execute_result"
    }
   ],
   "source": [
    "15 % 2\n",
    "# Finds the remainder. 15 % 2 gives the answer 1."
   ]
  },
  {
   "cell_type": "code",
   "execution_count": 7,
   "metadata": {},
   "outputs": [
    {
     "name": "stdout",
     "output_type": "stream",
     "text": [
      "23.45\n"
     ]
    }
   ],
   "source": [
    "# Ask the user to enter an integer that is over 500. Work out the \n",
    "# square root of that number and display it to two decimal places.\n",
    "\n",
    "# (input) 'Enter a number over 500:'\n",
    "\n",
    "import math\n",
    "num = int(input('Enter a number over 500:'))\n",
    "ans = math.sqrt(num)\n",
    "print(round(ans,2))"
   ]
  },
  {
   "cell_type": "code",
   "execution_count": 10,
   "metadata": {},
   "outputs": [
    {
     "name": "stdout",
     "output_type": "stream",
     "text": [
      "78.53981633974483\n"
     ]
    }
   ],
   "source": [
    "num = int(input('Enter the radius of the circle'))\n",
    "ans = math.pi * num**2\n",
    "print(ans)"
   ]
  },
  {
   "cell_type": "code",
   "execution_count": null,
   "metadata": {},
   "outputs": [],
   "source": [
    "num1 = int(input('enter a first number:'))\n",
    "num2 = int(input('enter a second number:'))\n",
    "\n",
    "a = num1 // num2\n",
    "b = num1 % num2\n",
    "\n",
    "print(f'{num1} divided by {num2} is {a}, with {b} remaining')"
   ]
  },
  {
   "cell_type": "code",
   "execution_count": 11,
   "metadata": {},
   "outputs": [
    {
     "name": "stdout",
     "output_type": "stream",
     "text": [
      "1) Square\n",
      "2) Triangle\n",
      "\n",
      "The area of your chosen shape is 25\n"
     ]
    }
   ],
   "source": [
    "# Display the following message:\n",
    "      # 1) Square\n",
    "      # 2) Triangle\n",
    "      \n",
    "      # Enter a number :\n",
    "\n",
    "# if the user enters 1, then it should ask them for the length of one of its\n",
    "# sides and display the area. If they select 2, it should ask for the base and\n",
    "# height of the triangle and display the area. If they type in anything else,\n",
    "# it should give them a suitable error message.\n",
    "print('1) Square')\n",
    "print('2) Triangle')\n",
    "print()      \n",
    "no = int(input('Enter a number :'))\n",
    "\n",
    "if no == 1:\n",
    "  side = int(input('Enter the length of one side : '))\n",
    "  area = side * side\n",
    "  print('The area of your chosen shape is', area)\n",
    "elif no == 2:\n",
    "  base = int(input('Enter the length of the base : '))\n",
    "  height = int(input('Enter the height of the triangle : '))\n",
    "  area = (base * height) / 2\n",
    "  print('The area of your chosen shape is', area)\n",
    "else:\n",
    "  print('Incorrent option selected')"
   ]
  },
  {
   "cell_type": "code",
   "execution_count": 14,
   "metadata": {},
   "outputs": [
    {
     "name": "stdout",
     "output_type": "stream",
     "text": [
      "0\n",
      "1\n",
      "2\n",
      "3\n",
      "4\n"
     ]
    }
   ],
   "source": [
    "#########################################\n",
    "# For\n",
    "#########################################\n",
    "\n",
    "# The range function is often used in for loops and lists the staring number.\n",
    "# The ending number and can also include the steps\n",
    "\n",
    "# for i in range(start, stop, step)\n",
    "\n",
    "for i in range(0,5):\n",
    "    print(i)"
   ]
  },
  {
   "cell_type": "code",
   "execution_count": 13,
   "metadata": {},
   "outputs": [
    {
     "name": "stdout",
     "output_type": "stream",
     "text": [
      "1\n",
      "2\n",
      "3\n",
      "4\n"
     ]
    }
   ],
   "source": [
    "for i in range(0,5,1):\n",
    "    print(i)"
   ]
  },
  {
   "cell_type": "code",
   "execution_count": 15,
   "metadata": {},
   "outputs": [
    {
     "name": "stdout",
     "output_type": "stream",
     "text": [
      "0\n",
      "1\n",
      "2\n",
      "3\n",
      "4\n"
     ]
    }
   ],
   "source": [
    "for i in range(5):\n",
    "    print(i)"
   ]
  },
  {
   "cell_type": "code",
   "execution_count": 17,
   "metadata": {},
   "outputs": [
    {
     "name": "stdout",
     "output_type": "stream",
     "text": [
      "10\n",
      "7\n",
      "4\n"
     ]
    }
   ],
   "source": [
    "for i in range(10,1,-3):\n",
    "    print(i)"
   ]
  },
  {
   "cell_type": "code",
   "execution_count": 19,
   "metadata": {},
   "outputs": [
    {
     "name": "stdout",
     "output_type": "stream",
     "text": [
      "0\n",
      "1\n",
      "2\n",
      "3\n",
      "4\n"
     ]
    }
   ],
   "source": [
    "num = [0,1,2,3,4]\n",
    "\n",
    "for i in num:\n",
    "    print(i)"
   ]
  },
  {
   "cell_type": "code",
   "execution_count": 22,
   "metadata": {},
   "outputs": [
    {
     "name": "stdout",
     "output_type": "stream",
     "text": [
      "1 LeeMinHyung\n",
      "2 LeeMinHyung\n",
      "3 LeeMinHyung\n"
     ]
    }
   ],
   "source": [
    "# Alter program, so that it will ask the user to enter thier name and a number\n",
    "# and then display their name that number of times\n",
    "\n",
    "num = int(input('enter a number'))\n",
    "name = input('enter your name')\n",
    "\n",
    "for i in range(num):\n",
    "    print(f'{i + 1} {name}')"
   ]
  },
  {
   "cell_type": "code",
   "execution_count": 23,
   "metadata": {},
   "outputs": [
    {
     "name": "stdout",
     "output_type": "stream",
     "text": [
      "이\n",
      "민\n",
      "형\n"
     ]
    }
   ],
   "source": [
    "# Ask the user to enter thier name and display each letter in their name on a separate line\n",
    "name = input('enter your name')\n",
    "\n",
    "for i in name:\n",
    "    print(i)\n"
   ]
  },
  {
   "cell_type": "code",
   "execution_count": 25,
   "metadata": {},
   "outputs": [
    {
     "name": "stdout",
     "output_type": "stream",
     "text": [
      "50\n",
      "49\n",
      "48\n",
      "47\n",
      "46\n",
      "45\n",
      "44\n",
      "43\n",
      "42\n",
      "41\n",
      "40\n"
     ]
    }
   ],
   "source": [
    "# Ask for a number below 50 and then count down from 50 to that number\n",
    "# making sure you sow the nubmer they ented in the output\n",
    "\n",
    "num = int(input('enter a number below 50'))\n",
    "\n",
    "for i in range(50,num -1,-1):\n",
    "    print(i)"
   ]
  },
  {
   "cell_type": "code",
   "execution_count": 27,
   "metadata": {},
   "outputs": [
    {
     "name": "stdout",
     "output_type": "stream",
     "text": [
      "12\n"
     ]
    }
   ],
   "source": [
    "# set a variable called total to 0. \n",
    "# Ask the user to enter five numbers and after each input ask them if they wnat that number included.\n",
    "# if they do then add the number to the total.\n",
    "# After they have entered all five numbers, display the total\n",
    "\n",
    "total = 0\n",
    "for i in range(5):\n",
    "    num = int(input('Enter a number'))\n",
    "    ans = input('Do you want this number included? (y/n)')\n",
    "    if ans == 'y':\n",
    "        total += num\n",
    "\n",
    "print(total)\n",
    "    "
   ]
  },
  {
   "cell_type": "code",
   "execution_count": 31,
   "metadata": {},
   "outputs": [
    {
     "name": "stdout",
     "output_type": "stream",
     "text": [
      "20\n",
      "19\n",
      "18\n",
      "17\n",
      "16\n",
      "15\n"
     ]
    }
   ],
   "source": [
    "# Ask which direction the user wants to count (up or down).\n",
    "# If they select up, then ask them for the top number and then count from 1 to that number.  \n",
    "# If they select down, ask them to enter a number below 20 and then count down from 20\n",
    "# to that number. If they entered something other than up or down,\n",
    "# display the message 'i dont understand'.\n",
    "\n",
    "direction = input('Do you want to count up or down? (u/d)')\n",
    "\n",
    "if direction == 'u':\n",
    "    num = int(input('what is the top number?'))\n",
    "    for i in range(1,num + 1):\n",
    "        print(i)\n",
    "elif direction =='d':\n",
    "    num = int(input('Enter a number below 20:'))\n",
    "    for i in range(20, num - 1, -1):\n",
    "        print(i)\n",
    "else:\n",
    "    print('I don\\'t understand')        \n"
   ]
  },
  {
   "cell_type": "code",
   "execution_count": 35,
   "metadata": {},
   "outputs": [
    {
     "name": "stdout",
     "output_type": "stream",
     "text": [
      "이민형 is invited\n",
      "이민형 is invited\n"
     ]
    }
   ],
   "source": [
    "# Ask how many people the user wants to invite to a party.\n",
    "# If they enter a number below 10, ask for the names and after each name display\n",
    "# '[name] has been invited'. \n",
    "# If they enter a number which is 10 or higher, display the message 'Too many people'\n",
    "\n",
    "people = int(input('How many people do you want invite?'))\n",
    " \n",
    "for i in range(people):\n",
    "    if people >= 10:\n",
    "        print('Too many people')\n",
    "        break;\n",
    "    name = input('enter name')\n",
    "    print(f'{name} is invited') "
   ]
  },
  {
   "cell_type": "code",
   "execution_count": 36,
   "metadata": {},
   "outputs": [
    {
     "name": "stdout",
     "output_type": "stream",
     "text": [
      "The total is  106\n"
     ]
    }
   ],
   "source": [
    "###############################################\n",
    "# While\n",
    "\n",
    "# A while loop allows code to be repeted an unknown number of times \n",
    "# as long as a condition is being met.\n",
    "# This may be 100 times, just the once or even never\n",
    "# It is important, therefore, to make sure the correct conditions are in place\n",
    "# to run the loop before it starts.\n",
    "\n",
    "\n",
    "total = 0\n",
    "\n",
    "while total < 100:\n",
    "  num = int(input('Enter a number : '))\n",
    "  total = total + num\n",
    "print('The total is ', total)"
   ]
  },
  {
   "cell_type": "code",
   "execution_count": 38,
   "metadata": {},
   "outputs": [
    {
     "name": "stdout",
     "output_type": "stream",
     "text": [
      "The total is.... 40\n"
     ]
    }
   ],
   "source": [
    "# Set the total to 0 to start with. While the total is 50 or less,\n",
    "# ask the user to input a number. Add that number to the total and \n",
    "# print the message 'The total is....[total]. \n",
    "# Stop the loop when the total is over 50. \n",
    "\n",
    "total = 0\n",
    "\n",
    "while total <= 50:\n",
    "  no = int(input('number ? >>>'))\n",
    "  total += no\n",
    "\n",
    "print('The total is....', total-no) "
   ]
  }
 ],
 "metadata": {
  "interpreter": {
   "hash": "b3ba2566441a7c06988d0923437866b63cedc61552a5af99d1f4fb67d367b25f"
  },
  "kernelspec": {
   "display_name": "Python 3.9.7 ('base')",
   "language": "python",
   "name": "python3"
  },
  "language_info": {
   "codemirror_mode": {
    "name": "ipython",
    "version": 3
   },
   "file_extension": ".py",
   "mimetype": "text/x-python",
   "name": "python",
   "nbconvert_exporter": "python",
   "pygments_lexer": "ipython3",
   "version": "3.9.7"
  },
  "orig_nbformat": 4
 },
 "nbformat": 4,
 "nbformat_minor": 2
}

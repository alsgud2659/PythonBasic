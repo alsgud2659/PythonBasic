{
 "cells": [
  {
   "cell_type": "code",
   "execution_count": 2,
   "metadata": {},
   "outputs": [
    {
     "name": "stdout",
     "output_type": "stream",
     "text": [
      "The last number you entered was a 5\n"
     ]
    }
   ],
   "source": [
    "# Ask the user to enter a number. Keep asking until they enter a value over 5\n",
    "# and then display the message \"The last number you entered was a [number]\"\n",
    "# and stop the program.\n",
    "\n",
    "num = 0\n",
    "\n",
    "while num < 5:\n",
    "    num = int(input('Enter a number >> '))\n",
    "\n",
    "print(f'The last number you entered was a {num}')"
   ]
  },
  {
   "cell_type": "code",
   "execution_count": 5,
   "metadata": {},
   "outputs": [
    {
     "name": "stdout",
     "output_type": "stream",
     "text": [
      "the total is 15\n"
     ]
    }
   ],
   "source": [
    "# Ask the user to enter a number and then enter another number.\n",
    "# Add there two numbers together and then \n",
    "# ask  if they want to add another number. If they enter 'y', ask them to enter \n",
    "# another numbers until they do not answer 'y'. Once the loop has stopped,\n",
    "# display the total.\n",
    "\n",
    "a = int(input('enter a number :'))\n",
    "\n",
    "again = 'y'\n",
    "while again == 'y':\n",
    "    b = int(input('enter a number :'))\n",
    "    a += b\n",
    "    again = input('Do you want to add another nubmer (y/n)')\n",
    "\n",
    "print('the total is', a)\n"
   ]
  },
  {
   "cell_type": "code",
   "execution_count": 7,
   "metadata": {},
   "outputs": [
    {
     "name": "stdout",
     "output_type": "stream",
     "text": [
      "1 이 is invited\n",
      "2 lee is invited\n",
      "3 min is invited\n",
      "3people is invited\n"
     ]
    }
   ],
   "source": [
    "again = 'y'\n",
    "count = 0\n",
    "while again == 'y':\n",
    "    name = input('enter name invite the party')\n",
    "    count += 1\n",
    "    print(f'{count} {name} is invited')\n",
    "    \n",
    "    again = input('Do you want invite again? (y/n)')\n",
    "    \n",
    "print(f'{count} people is invited')\n",
    "    "
   ]
  },
  {
   "cell_type": "code",
   "execution_count": null,
   "metadata": {},
   "outputs": [],
   "source": [
    "# Using the song '10 green bottles', display the lines \n",
    "# '10 green bottles' 라는 노래를 이용하여\n",
    "\n",
    "# 'There are [num] green bottles hanging on the wall, \n",
    "# [num] green bottles hanging on the wall, \n",
    "# and if 1 green bottle should accidentally fall'\n",
    "# 라는 가사를 출력하고\n",
    "\n",
    "# Then ask the question 'how many green bottles will be hanging on the wall?'\n",
    "# 남은 병의 갯수는 몇개니 라고 질문한다. \n",
    "# If the user answers correctly, display the message\n",
    "# 질문에 맞는 답을 하면 \n",
    "# 'There will be [num] green bottles hanging on the wall'\n",
    "# 몇개 남은 결과를 출력하고\n",
    "# If they answer incorrectly, display the message \n",
    "# 틀린 답을 입력하면 \n",
    "# 'No, try again' until they get if right.\n",
    "# 다시 시도하셔요 라고 맞출때까지 반복한다. \n",
    "# When the number of green bottles gets down to 0,\n",
    "# 병의 개수가 0이되면 \n",
    "# display the message 'There are no more green bottles hanging on the wall'\n",
    "# 더이상 남은 병은 없습니다. 출력하고 종료한다. \n",
    "\n",
    "num = 10\n",
    "\n",
    "while num > 0 :\n",
    "  print('There are', num, 'green bottles hanging on the wall,')\n",
    "  print(num,' green bottles hanging on the wall,') \n",
    "  print('and if 1 green bottle should accidentally fall')\n",
    "  num -= 1\n",
    "  ans = int(input('How many green bottles will be hanging on the wall?'))\n",
    "  if ans == num:\n",
    "    print('There will be', num, ' green bottles hanging on the wall')\n",
    "  else: \n",
    "    while ans != num:\n",
    "      ans = int(input('No, try again :'))\n",
    "print('There are no more green bottles hanging on the wall45')"
   ]
  },
  {
   "cell_type": "code",
   "execution_count": null,
   "metadata": {},
   "outputs": [],
   "source": [
    "#########################################################\n",
    "# Random : Python can generate random values\n",
    "\n",
    "# - Random numbers within a specified range. \n",
    "# - A random choice from a range of items that are input. \n",
    "\n",
    "# To use these two options, you will need to import the random module. \n",
    "# You do this by typing import random at the start of your program."
   ]
  },
  {
   "cell_type": "code",
   "execution_count": 8,
   "metadata": {},
   "outputs": [
    {
     "name": "stdout",
     "output_type": "stream",
     "text": [
      "0.7304922908612242\n"
     ]
    }
   ],
   "source": [
    "import random\n",
    "num = random.random()\n",
    "print(num)\n",
    "\n",
    "# random floating num"
   ]
  },
  {
   "cell_type": "code",
   "execution_count": 9,
   "metadata": {},
   "outputs": [
    {
     "name": "stdout",
     "output_type": "stream",
     "text": [
      "25\n"
     ]
    }
   ],
   "source": [
    "num = int((random.random()) * 100)\n",
    "\n",
    "print(num)"
   ]
  },
  {
   "cell_type": "code",
   "execution_count": 22,
   "metadata": {},
   "outputs": [
    {
     "name": "stdout",
     "output_type": "stream",
     "text": [
      "9\n"
     ]
    }
   ],
   "source": [
    "# Selects a random whole number between 0 and 9 (inclusive)\n",
    "\n",
    "num = random.randint(0,9) # 9(inclusive)\n",
    "print(num)"
   ]
  },
  {
   "cell_type": "code",
   "execution_count": 23,
   "metadata": {},
   "outputs": [
    {
     "name": "stdout",
     "output_type": "stream",
     "text": [
      "70\n"
     ]
    }
   ],
   "source": [
    "# Picks a random number between the numbers 0 and 100(inclusive) in steps of five\n",
    "# it will only pick from 0, 5, 10, 15, 20 ...\n",
    "\n",
    "num = random.randrange(0,100,5) # 100(inclusive)\n",
    "print(num)"
   ]
  },
  {
   "cell_type": "code",
   "execution_count": 24,
   "metadata": {},
   "outputs": [
    {
     "name": "stdout",
     "output_type": "stream",
     "text": [
      "white\n"
     ]
    }
   ],
   "source": [
    "# Picks a random value from the options\n",
    "color = random.choice(['red','black','blue','green','white'])\n",
    "print(color)"
   ]
  },
  {
   "cell_type": "code",
   "execution_count": 29,
   "metadata": {},
   "outputs": [
    {
     "name": "stdout",
     "output_type": "stream",
     "text": [
      "Bad luck\n",
      "computer has chosen h\n"
     ]
    }
   ],
   "source": [
    "# Randomly choose either heads or tails (\"h\" or \"t\")\n",
    "# Ask the user to make their choice.\n",
    "# if their choice is the same as the randomly selected value\n",
    "# display the message \"You win\", otherwise display \"Bad luck\"\n",
    "# At the end, tell the user if the computer selected heads or tails.\n",
    "\n",
    "\n",
    "choice = random.choice(['h','t'])\n",
    "\n",
    "answer = input('enter your answer (h/t)')\n",
    "\n",
    "if answer == choice:\n",
    "    print('You win')\n",
    "else:\n",
    "    print('Bad luck')\n",
    "    \n",
    "print('computer has chosen', choice)\n",
    "\n"
   ]
  },
  {
   "cell_type": "code",
   "execution_count": 30,
   "metadata": {},
   "outputs": [
    {
     "name": "stdout",
     "output_type": "stream",
     "text": [
      "you entered correct answer\n",
      "you entered correct answer\n",
      "you entered correct answer\n",
      "you entered correct answer\n",
      "you entered correct answer\n",
      "you get 5point\n"
     ]
    }
   ],
   "source": [
    "# Make a maths quiz that asks five questions by randomly generating two whole nubmers to make the question\n",
    "# Ask the user to enter the number.\n",
    "# if they it right add a point to their score.\n",
    "# At the end of the quiz, tell them how many they got correct out of five\n",
    "\n",
    "score = 0\n",
    "for i in range(5):\n",
    "    num1 = random.randint(1,9)\n",
    "    num2 = random.randint(1,9)\n",
    "    answer = int(input(f'{num1} + {num2} = ?'))\n",
    "    \n",
    "    if answer == (num1 + num2):\n",
    "        print('you entered correct answer')\n",
    "        score += 1\n",
    "    else:\n",
    "        print('you entered incorrect answer')\n",
    "    \n",
    "\n",
    "print(f'you scored {score} out of 5')"
   ]
  },
  {
   "cell_type": "code",
   "execution_count": 38,
   "metadata": {},
   "outputs": [
    {
     "name": "stdout",
     "output_type": "stream",
     "text": [
      "this color is like ocean\n",
      "you chose correct color\n"
     ]
    }
   ],
   "source": [
    "# Display five colors and ask the user to pick one.\n",
    "# If they pick the same as the program has chosen,\n",
    "# say 'Well done', otherwise display a witty answer which involves\n",
    "# the correct colors....like...'I bet you are GREEN with envy'\n",
    "# or 'You are probably feeling BLUE right now'.\n",
    "# Ask them to guess again: if they have still not got it right,\n",
    "# keep giving them the same clue and ask the user to enter a color\n",
    "# until they guess it correctly.\n",
    "\n",
    "color = random.choice(['red','black','blue','green','white'])\n",
    "\n",
    "while True:\n",
    "    answer = input('guess the choice that computer has chosen (red / black/ blue/ green/ white)')\n",
    "    answer.lower()\n",
    "    if color == answer:\n",
    "        print('you chose correct color')\n",
    "        break\n",
    "    elif color != answer and color == 'red':\n",
    "        print('this color is like blood')\n",
    "    elif color != answer and color == 'black':\n",
    "        print('this color is like sunglasses')\n",
    "    elif color != answer and color == 'blue':\n",
    "        print('this color is like ocean')\n",
    "    elif color != answer and color == 'green':\n",
    "        print('this color is like grass')\n",
    "    elif color != answer and color == 'white':\n",
    "        print('this color is like snow')\n",
    "    "
   ]
  }
 ],
 "metadata": {
  "interpreter": {
   "hash": "b3ba2566441a7c06988d0923437866b63cedc61552a5af99d1f4fb67d367b25f"
  },
  "kernelspec": {
   "display_name": "Python 3.9.7 ('base')",
   "language": "python",
   "name": "python3"
  },
  "language_info": {
   "codemirror_mode": {
    "name": "ipython",
    "version": 3
   },
   "file_extension": ".py",
   "mimetype": "text/x-python",
   "name": "python",
   "nbconvert_exporter": "python",
   "pygments_lexer": "ipython3",
   "version": "3.9.7"
  },
  "orig_nbformat": 4
 },
 "nbformat": 4,
 "nbformat_minor": 2
}

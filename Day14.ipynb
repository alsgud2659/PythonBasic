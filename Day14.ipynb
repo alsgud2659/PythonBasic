{
 "cells": [
  {
   "cell_type": "code",
   "execution_count": 27,
   "metadata": {},
   "outputs": [
    {
     "name": "stdout",
     "output_type": "stream",
     "text": [
      "cherry\n",
      "2\n"
     ]
    },
    {
     "ename": "TypeError",
     "evalue": "'tuple' object doesn't support item deletion",
     "output_type": "error",
     "traceback": [
      "\u001b[1;31m---------------------------------------------------------------------------\u001b[0m",
      "\u001b[1;31mTypeError\u001b[0m                                 Traceback (most recent call last)",
      "\u001b[1;32m~\\AppData\\Local\\Temp/ipykernel_21248/3933918148.py\u001b[0m in \u001b[0;36m<module>\u001b[1;34m\u001b[0m\n\u001b[0;32m     21\u001b[0m \u001b[0mprint\u001b[0m\u001b[1;33m(\u001b[0m\u001b[0mfruit_tuple\u001b[0m\u001b[1;33m[\u001b[0m\u001b[1;36m2\u001b[0m\u001b[1;33m]\u001b[0m\u001b[1;33m)\u001b[0m\u001b[1;33m\u001b[0m\u001b[1;33m\u001b[0m\u001b[0m\n\u001b[0;32m     22\u001b[0m \u001b[0mprint\u001b[0m\u001b[1;33m(\u001b[0m\u001b[0mfruit_tuple\u001b[0m\u001b[1;33m.\u001b[0m\u001b[0mindex\u001b[0m\u001b[1;33m(\u001b[0m\u001b[1;34m'cherry'\u001b[0m\u001b[1;33m)\u001b[0m\u001b[1;33m)\u001b[0m\u001b[1;33m\u001b[0m\u001b[1;33m\u001b[0m\u001b[0m\n\u001b[1;32m---> 23\u001b[1;33m \u001b[1;32mdel\u001b[0m \u001b[0mfruit_tuple\u001b[0m\u001b[1;33m[\u001b[0m\u001b[1;36m1\u001b[0m\u001b[1;33m]\u001b[0m\u001b[1;33m\u001b[0m\u001b[1;33m\u001b[0m\u001b[0m\n\u001b[0m",
      "\u001b[1;31mTypeError\u001b[0m: 'tuple' object doesn't support item deletion"
     ]
    }
   ],
   "source": [
    "# Tuple, List and Dict\n",
    "\n",
    "# There are several ways that collections of data canbe stored as a single item.\n",
    "# There of the simpler ones are:\n",
    "# 1. Tuple\n",
    "# 2. List\n",
    "# 3. Dict\n",
    "# (4). Set\n",
    "\n",
    "# Tuple : Once a tuple is defined you cannot change what is stored in it. (immutable)\n",
    "# ()\n",
    "# List : The contents of a list canbe changed while the program is running and lists\n",
    "#        are one of the most common ways to store a collection of data in Python.\n",
    "#        (mutable)\n",
    "# []\n",
    "# DIct : can also be changed while the program is running. mutable \n",
    "#         Each value is given an index or key you can define to help identify \n",
    "#         each piece of data\n",
    "# {}\n",
    "fruit_tuple = ('apple','banana','cherry','orange')\n",
    "print(fruit_tuple[2])\n",
    "print(fruit_tuple.index('cherry'))\n",
    "del fruit_tuple[1]  "
   ]
  },
  {
   "cell_type": "code",
   "execution_count": 28,
   "metadata": {},
   "outputs": [
    {
     "data": {
      "text/plain": [
       "['John', 'Sam']"
      ]
     },
     "execution_count": 28,
     "metadata": {},
     "output_type": "execute_result"
    }
   ],
   "source": [
    "names_list = ['John','Tim','Sam']\n",
    "del names_list[1]\n",
    "names_list"
   ]
  },
  {
   "cell_type": "code",
   "execution_count": 32,
   "metadata": {},
   "outputs": [
    {
     "data": {
      "text/plain": [
       "['John', 'Sam', 'lee', 'min']"
      ]
     },
     "execution_count": 32,
     "metadata": {},
     "output_type": "execute_result"
    }
   ],
   "source": [
    "names_list.append(input('Add a name : '))\n",
    "names_list"
   ]
  },
  {
   "cell_type": "code",
   "execution_count": 33,
   "metadata": {},
   "outputs": [],
   "source": [
    "names_list.sort()\n",
    "\n",
    "# Sorts [list] into alphabetical order and saves the list in the new order"
   ]
  },
  {
   "cell_type": "code",
   "execution_count": 34,
   "metadata": {},
   "outputs": [
    {
     "data": {
      "text/plain": [
       "['John', 'Sam', 'lee', 'min']"
      ]
     },
     "execution_count": 34,
     "metadata": {},
     "output_type": "execute_result"
    }
   ],
   "source": [
    "names_list\n"
   ]
  },
  {
   "cell_type": "code",
   "execution_count": 35,
   "metadata": {},
   "outputs": [
    {
     "name": "stdout",
     "output_type": "stream",
     "text": [
      "['Austin', 'John', 'Sam']\n",
      "['John', 'Sam', 'Austin']\n"
     ]
    }
   ],
   "source": [
    "names_list = ['John', 'Sam', 'Austin']\n",
    "print(sorted(names_list))\n",
    "print(names_list)\n",
    "\n",
    "# Displays names_list in alphabetical order but does not change the order of the \n",
    "# original list."
   ]
  },
  {
   "cell_type": "code",
   "execution_count": 36,
   "metadata": {},
   "outputs": [
    {
     "name": "stdout",
     "output_type": "stream",
     "text": [
      "blue\n"
     ]
    }
   ],
   "source": [
    "color = {1:'red',2:'blue',3:'green'}\n",
    "\n",
    "# Creates a dict called 'color' , where each item is assigned an index of your choosing\n",
    "\n",
    "print(color[2])"
   ]
  },
  {
   "cell_type": "code",
   "execution_count": 37,
   "metadata": {},
   "outputs": [
    {
     "name": "stdout",
     "output_type": "stream",
     "text": [
      "('korea', 'japan', 'USA', 'russia', 'france')\n",
      "해당 인덱스 번호의 국가는 USA입니다.\n"
     ]
    }
   ],
   "source": [
    "country = ('korea','japan','USA','russia','france')\n",
    "\n",
    "print(country)\n",
    "\n",
    "countries = int(input('enter a number'))\n",
    "print(f'해당 인덱스 번호의 국가는 {country[countries]}입니다.')"
   ]
  },
  {
   "cell_type": "code",
   "execution_count": 12,
   "metadata": {},
   "outputs": [
    {
     "name": "stdout",
     "output_type": "stream",
     "text": [
      "['baseball', 'basketball', 'football']\n"
     ]
    }
   ],
   "source": [
    "sports = ['football', 'baseball']\n",
    "\n",
    "fav = input('enter your favorite sport')\n",
    "\n",
    "if fav not in sports:\n",
    "    sports.append(fav)\n",
    "    sports.sort()\n",
    "print(sports)"
   ]
  },
  {
   "cell_type": "code",
   "execution_count": 26,
   "metadata": {},
   "outputs": [
    {
     "name": "stdout",
     "output_type": "stream",
     "text": [
      "{1: 'hamburger', 2: 'taco', 3: 'pizza', 4: 'ramen'}\n",
      "[(1, 'hamburger'), (2, 'taco'), (3, 'pizza')]\n"
     ]
    }
   ],
   "source": [
    "foods = {}\n",
    "\n",
    "for i in range(4):\n",
    "    favorite = input('enter your favorite food')\n",
    "    foods[i + 1] = favorite\n",
    "    \n",
    "foodss = sorted(foods.items())\n",
    "print(foods)\n",
    "\n",
    "rmv = int(input('which of these do you want to get rid of?'))\n",
    "del(foods[rmv])\n",
    "foodss = sorted(foods.items())\n",
    "print(foodss)"
   ]
  }
 ],
 "metadata": {
  "interpreter": {
   "hash": "b3ba2566441a7c06988d0923437866b63cedc61552a5af99d1f4fb67d367b25f"
  },
  "kernelspec": {
   "display_name": "Python 3.9.7 ('base')",
   "language": "python",
   "name": "python3"
  },
  "language_info": {
   "codemirror_mode": {
    "name": "ipython",
    "version": 3
   },
   "file_extension": ".py",
   "mimetype": "text/x-python",
   "name": "python",
   "nbconvert_exporter": "python",
   "pygments_lexer": "ipython3",
   "version": "3.9.7"
  },
  "orig_nbformat": 4
 },
 "nbformat": 4,
 "nbformat_minor": 2
}

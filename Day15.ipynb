{
 "cells": [
  {
   "cell_type": "code",
   "execution_count": 3,
   "metadata": {},
   "outputs": [
    {
     "name": "stdout",
     "output_type": "stream",
     "text": [
      "신서유기\n",
      "아는형님\n",
      "런닝맨\n",
      "나혼자산다\n",
      "\n",
      "신서유기\n",
      "아는형님\n",
      "무한도전\n",
      "런닝맨\n",
      "나혼자산다\n"
     ]
    }
   ],
   "source": [
    "# Create a list containing the titles of four TV programmes and display them on separate lilnes.\n",
    "# Ask the user to enter another show and a position they want it inserted into the list\n",
    "# Display the list again, showing all five TV programmes in their new positions.\n",
    "\n",
    "pro = ['신서유기','아는형님','런닝맨','나혼자산다']\n",
    "for i in pro:\n",
    "    print(i)\n",
    "print()\n",
    "ans = input('enter another TV show')\n",
    "idx = int(input('enter a index between 0 and 3'))\n",
    "pro.insert(idx, ans)\n",
    "\n",
    "for i in pro:\n",
    "    print(i)"
   ]
  },
  {
   "cell_type": "code",
   "execution_count": 8,
   "metadata": {},
   "outputs": [
    {
     "name": "stdout",
     "output_type": "stream",
     "text": [
      "[1]\n",
      "[1, 2]\n",
      "[1, 2, 3]\n",
      "[1, 2]\n"
     ]
    }
   ],
   "source": [
    "nums = []\n",
    "\n",
    "while len(nums) < 3:\n",
    "    num = int(input('enter a number'))\n",
    "    nums.append(num)\n",
    "    print(nums)\n",
    "\n",
    "\n",
    "ans = input('Do you want the last numbe save (y/n)')\n",
    "\n",
    "if ans == 'n':\n",
    "    nums.pop()\n",
    "    # remove로 제거하면 값을 제거 하기 때문에 중복된 값이 있을때 앞에 값을 삭제하게 된다.\n",
    "    # pop()을 사용하면 마지막 항목을 삭제하게 된다.\n",
    "    \n",
    "    \n",
    "print(nums)\n",
    "    \n"
   ]
  },
  {
   "cell_type": "code",
   "execution_count": null,
   "metadata": {},
   "outputs": [],
   "source": [
    "# More String Manipulation 다양한 문자열 처리\n",
    "\n",
    "# Here we have a virable called name whick is assigned te value 'Simon'\n",
    "\n",
    "name = 'Simon'\n",
    "\n",
    "# 'Simon' can be thought of as a sequence of individual characters and each character in that string can be identified by its index\n",
    "\n",
    "# Note how string s start indexing from 0 and not 1\n",
    "# if the string had a space in it, the space would also be counted as a character"
   ]
  },
  {
   "cell_type": "code",
   "execution_count": 9,
   "metadata": {},
   "outputs": [
    {
     "name": "stdout",
     "output_type": "stream",
     "text": [
      "This is not in uppercase\n"
     ]
    }
   ],
   "source": [
    "msg = 'HELLo'\n",
    "if msg.isupper():   # islower()\n",
    "  print('Uppercase')\n",
    "else:\n",
    "  print('This is not in uppercase')"
   ]
  },
  {
   "cell_type": "code",
   "execution_count": 10,
   "metadata": {},
   "outputs": [
    {
     "name": "stdout",
     "output_type": "stream",
     "text": [
      "Hello"
     ]
    }
   ],
   "source": [
    "msg = 'Hello'\n",
    "for letter in msg:\n",
    "  print(letter, end='')"
   ]
  },
  {
   "cell_type": "code",
   "execution_count": 13,
   "metadata": {},
   "outputs": [
    {
     "name": "stdout",
     "output_type": "stream",
     "text": [
      "Try again\n",
      "Thank you\n"
     ]
    }
   ],
   "source": [
    "# Ask the user to type in a word in upper case. If they type in it lower case, ask them to try again.\n",
    "# Keep repeating this until they type in a message all in uppercase.\n",
    "\n",
    "# 사용자에게 대문자로 메시지를 입력하라고 묻는다. \n",
    "# 만약 소문자가 있다면 모두 대문자로 입력할때 까지 계속해서 다시 입력하라고 요청한다. \n",
    "\n",
    "msg = input('Enter a message in uppercase : ')\n",
    "\n",
    "again = True\n",
    "while again == True:\n",
    "  if msg.isupper():\n",
    "    print('Thank you')\n",
    "    again = False\n",
    "  else:\n",
    "    print('Try again')\n",
    "    msg = input('Enter a message in uppercase : ')\n"
   ]
  },
  {
   "cell_type": "code",
   "execution_count": 14,
   "metadata": {},
   "outputs": [
    {
     "name": "stdout",
     "output_type": "stream",
     "text": [
      "Try again\n",
      "Thank you\n"
     ]
    }
   ],
   "source": [
    "while True:\n",
    "    msg = input('Enter a message in uppercase : ')\n",
    "    if msg.isupper():\n",
    "        print('Thank you')\n",
    "        break\n",
    "    else:\n",
    "        print('Try again')"
   ]
  },
  {
   "cell_type": "code",
   "execution_count": 15,
   "metadata": {},
   "outputs": [
    {
     "name": "stdout",
     "output_type": "stream",
     "text": [
      "KASHDW\n"
     ]
    }
   ],
   "source": [
    "ent = input(\"Enter the word (Upper case)\")\n",
    "while True:\n",
    "    ent = input(\"Enter the word (Upper case)\")\n",
    "    if ent.isupper():\n",
    "        break\n",
    "print(ent)\n"
   ]
  },
  {
   "cell_type": "code",
   "execution_count": 16,
   "metadata": {},
   "outputs": [
    {
     "name": "stdout",
     "output_type": "stream",
     "text": [
      "thank you\n"
     ]
    }
   ],
   "source": [
    "# Ask the user to enter a new password.\n",
    "# Ask them to enter it again. If the two passwords match,\n",
    "# display 'thank you'. If the letters are correct but in the wrong case,\n",
    "# display the message 'They must be in the same case',\n",
    "# otherwise display the message 'Incorrect'.\n",
    "\n",
    "# 유저에게 새로운 비번을 입력하라고 묻고, 한번 더 입력하라고 요청한다. \n",
    "# 입력한 두 개의 비번이 일치하면 'thank you'라고 출력한다. \n",
    "# 만약 입력한 문자는 서로 일치하지만 대소문자가 틀리다면 \n",
    "# 'They must be in the same case'라고 출력한다. 문자가 일치하지 않다면\n",
    "# 'Incorrect'메시지를 출력한다. \n",
    "\n",
    "pw = input('enter a new password : ')\n",
    "rpw = input('enter it again : ')\n",
    "\n",
    "if pw == rpw:\n",
    "    print('thank you')\n",
    "elif pw.upper() == rpw.upper():\n",
    "    print('They must be in the same case')\n",
    "else:\n",
    "    print('Incoreect')\n"
   ]
  }
 ],
 "metadata": {
  "interpreter": {
   "hash": "b3ba2566441a7c06988d0923437866b63cedc61552a5af99d1f4fb67d367b25f"
  },
  "kernelspec": {
   "display_name": "Python 3.9.7 ('base')",
   "language": "python",
   "name": "python3"
  },
  "language_info": {
   "codemirror_mode": {
    "name": "ipython",
    "version": 3
   },
   "file_extension": ".py",
   "mimetype": "text/x-python",
   "name": "python",
   "nbconvert_exporter": "python",
   "pygments_lexer": "ipython3",
   "version": "3.9.7"
  },
  "orig_nbformat": 4
 },
 "nbformat": 4,
 "nbformat_minor": 2
}

{
 "cells": [
  {
   "cell_type": "code",
   "execution_count": 8,
   "metadata": {},
   "outputs": [
    {
     "name": "stdout",
     "output_type": "stream",
     "text": [
      "[1, 1, 2, 3, 5]\n"
     ]
    }
   ],
   "source": [
    "# Fibonacci\n",
    "\n",
    "# 1 일반식\n",
    "\n",
    "def fib(n): # n 번째의 피보나치 수열 값을 찾는 함수\n",
    "  a, b = 1,1 \n",
    "  if n == 1 or n == 2: # 1번째 와 2번째의 값은 1\n",
    "    return 1\n",
    "  for i in range(1, n) :  # 1번째 부터 n번째 까지\n",
    "    a,b = b, a+b\n",
    "    print(a, b)  # 1  2   ,    2  3   , 3, 5\n",
    "  return a\n",
    "\n",
    "fib(4)\n"
   ]
  },
  {
   "cell_type": "code",
   "execution_count": 9,
   "metadata": {},
   "outputs": [
    {
     "data": {
      "text/plain": [
       "5"
      ]
     },
     "execution_count": 9,
     "metadata": {},
     "output_type": "execute_result"
    }
   ],
   "source": [
    "# 3 람다\n",
    "\n",
    "fib = lambda n: 1           if n <=2             else fib(n-1) + fib(n-2)\n",
    "fib(5)"
   ]
  },
  {
   "cell_type": "code",
   "execution_count": 10,
   "metadata": {},
   "outputs": [
    {
     "data": {
      "text/plain": [
       "5"
      ]
     },
     "execution_count": 10,
     "metadata": {},
     "output_type": "execute_result"
    }
   ],
   "source": [
    "# 2 재귀 Recursive\n",
    "\n",
    "def fib(n): # n 번째의 피보나치 수열 값을 찾는 함수\n",
    "  if n == 1 or n == 2: # 1번째 와 2번째의 값은 1\n",
    "    return 1\n",
    "  else:\n",
    "    return fib(n-1) + fib(n-2)\n",
    "\n",
    "fib(5)"
   ]
  },
  {
   "cell_type": "code",
   "execution_count": 11,
   "metadata": {},
   "outputs": [
    {
     "name": "stdout",
     "output_type": "stream",
     "text": [
      "[1, 1, 2, 3, 5]\n"
     ]
    }
   ],
   "source": [
    "n = int(input('n: '))\n",
    "li = []\n",
    "def fib(n): \n",
    "  if n == 1 or n == 2:\n",
    "    return 1\n",
    "  else:\n",
    "    return fib(n-1) + fib(n-2)\n",
    "\n",
    "for i in range(1,n + 1):\n",
    "    li.append(fib(i))\n",
    "\n",
    "print(li)"
   ]
  },
  {
   "cell_type": "code",
   "execution_count": 12,
   "metadata": {},
   "outputs": [
    {
     "data": {
      "text/plain": [
       "100"
      ]
     },
     "execution_count": 12,
     "metadata": {},
     "output_type": "execute_result"
    }
   ],
   "source": [
    "# 2D lists  2차원 리스트   #   VS  pandas 's dataframe\n",
    "#               math    korean \n",
    "# austin        90        80\n",
    "# rick           80        85\n",
    "# andy         100      70\n",
    "\n",
    "grade = [[90,80],[80,85],[100,70]]\n",
    "\n",
    "grade[2][0]"
   ]
  },
  {
   "cell_type": "code",
   "execution_count": 13,
   "metadata": {},
   "outputs": [
    {
     "name": "stdout",
     "output_type": "stream",
     "text": [
      "{'age': '20', 'shoe': '290'}\n"
     ]
    }
   ],
   "source": [
    "# Ask the user to enter the name, age and shoe size for four people.\n",
    "# Ask for the name of one of the people in the list and\n",
    "# display their age and shoe size.\n",
    "\n",
    "people = {}\n",
    "for i in range(4):\n",
    "    name = input('enter name')\n",
    "    age = input('enter age')\n",
    "    shoe = input('enter shoe')\n",
    "    people[name] = {'age':age,'shoe':shoe}\n",
    "    \n",
    "who = input('enter a name')\n",
    "print(people[who])\n",
    "        \n",
    "\n",
    "\n"
   ]
  },
  {
   "cell_type": "code",
   "execution_count": 18,
   "metadata": {},
   "outputs": [
    {
     "name": "stdout",
     "output_type": "stream",
     "text": [
      "min 24 260\n"
     ]
    }
   ],
   "source": [
    "# After gathering the two names, ages and shoe sizes, \n",
    "# ask the user to enter the name of the person they want to remove from the dict.\n",
    "# Delete this row from the data and display the other rows on separate lines.\n",
    "people = {}\n",
    "for i in range(2):\n",
    "    name = input('enter name')\n",
    "    age = input('enter age')\n",
    "    shoe = input('enter shoe')\n",
    "    people[name] = {'age':age,'shoe':shoe}\n",
    "    \n",
    "getrid = input('who do you want to remove from the dict')\n",
    "del people[getrid]\n",
    "\n",
    "for each in people:\n",
    "    print(each, people[each]['age'], people[each]['shoe'])\n"
   ]
  },
  {
   "cell_type": "code",
   "execution_count": 38,
   "metadata": {},
   "outputs": [],
   "source": [
    "# Reading and Writing to a File\n",
    "\n",
    "# It is all very well being able to define a list, make changes and add new data,\n",
    "# but if the next time the program is run it returns to the original data and your\n",
    "# changes are lost then it is not a lot of use. Therefore, It is sometimes necessary \n",
    "# to save the data outside of the program and this way the data can be stored,\n",
    "# along with any changes that are made.\n",
    "\n",
    "file = open('Countries.txt', 'w')\n",
    "file.write('Italy\\n')\n",
    "file.write('Germany\\n')\n",
    "file.write('Spain\\n')\n",
    "file.close()"
   ]
  },
  {
   "cell_type": "code",
   "execution_count": 41,
   "metadata": {},
   "outputs": [
    {
     "name": "stdout",
     "output_type": "stream",
     "text": [
      "Italy\n",
      "Germany\n",
      "Spain\n",
      "France\n",
      "\n"
     ]
    }
   ],
   "source": [
    "file = open('Countries.txt','r')\n",
    "print(file.read())"
   ]
  },
  {
   "cell_type": "code",
   "execution_count": 40,
   "metadata": {},
   "outputs": [],
   "source": [
    "file = open('Countries.txt','a')\n",
    "file.write('France\\n')\n",
    "file.close()"
   ]
  },
  {
   "cell_type": "code",
   "execution_count": 44,
   "metadata": {},
   "outputs": [
    {
     "name": "stdout",
     "output_type": "stream",
     "text": [
      "1) Create a new file\n",
      "2) Display the file\n",
      "3) Add a new item to the file\n"
     ]
    },
    {
     "ename": "TypeError",
     "evalue": "TextIOWrapper.write() takes exactly one argument (2 given)",
     "output_type": "error",
     "traceback": [
      "\u001b[1;31m---------------------------------------------------------------------------\u001b[0m",
      "\u001b[1;31mTypeError\u001b[0m                                 Traceback (most recent call last)",
      "\u001b[1;32m~\\AppData\\Local\\Temp/ipykernel_21224/3166222142.py\u001b[0m in \u001b[0;36m<module>\u001b[1;34m\u001b[0m\n\u001b[0;32m     44\u001b[0m     \u001b[0msubject\u001b[0m \u001b[1;33m=\u001b[0m \u001b[0minput\u001b[0m\u001b[1;33m(\u001b[0m\u001b[1;34m'enter a school subject'\u001b[0m\u001b[1;33m)\u001b[0m\u001b[1;33m\u001b[0m\u001b[1;33m\u001b[0m\u001b[0m\n\u001b[0;32m     45\u001b[0m     \u001b[0mfile\u001b[0m \u001b[1;33m=\u001b[0m \u001b[0mopen\u001b[0m\u001b[1;33m(\u001b[0m\u001b[1;34m'subjects.txt'\u001b[0m\u001b[1;33m,\u001b[0m\u001b[1;34m'a'\u001b[0m\u001b[1;33m)\u001b[0m\u001b[1;33m\u001b[0m\u001b[1;33m\u001b[0m\u001b[0m\n\u001b[1;32m---> 46\u001b[1;33m     \u001b[0mfile\u001b[0m\u001b[1;33m.\u001b[0m\u001b[0mwrite\u001b[0m\u001b[1;33m(\u001b[0m\u001b[0msubject\u001b[0m\u001b[1;33m,\u001b[0m\u001b[1;34m'\\n'\u001b[0m\u001b[1;33m)\u001b[0m\u001b[1;33m\u001b[0m\u001b[1;33m\u001b[0m\u001b[0m\n\u001b[0m\u001b[0;32m     47\u001b[0m     \u001b[0mfile\u001b[0m\u001b[1;33m.\u001b[0m\u001b[0mclose\u001b[0m\u001b[1;33m(\u001b[0m\u001b[1;33m)\u001b[0m\u001b[1;33m\u001b[0m\u001b[1;33m\u001b[0m\u001b[0m\n\u001b[0;32m     48\u001b[0m     \u001b[0mfile\u001b[0m \u001b[1;33m=\u001b[0m \u001b[0mopen\u001b[0m\u001b[1;33m(\u001b[0m\u001b[1;34m'subjects.txt'\u001b[0m\u001b[1;33m,\u001b[0m\u001b[1;34m'r'\u001b[0m\u001b[1;33m)\u001b[0m\u001b[1;33m\u001b[0m\u001b[1;33m\u001b[0m\u001b[0m\n",
      "\u001b[1;31mTypeError\u001b[0m: TextIOWrapper.write() takes exactly one argument (2 given)"
     ]
    }
   ],
   "source": [
    "# Display the following menu to the user:\n",
    "#      1) Create a new file\n",
    "#      2) Display the file\n",
    "#      3) Add a new item to the file\n",
    "#      Make a selection 1,2 or 3 :\n",
    "\n",
    "# Ask the user to enter 1,2 or 3. If they select anything other than 1,2 or 3 it should\n",
    "# display a suitable error message.\n",
    "\n",
    "# If the select 1, ask the user to enter a school subject and save it to a new file called\n",
    "# 'Subject.txt'. It should overwrite any existing file with a new file.\n",
    "\n",
    "# If they select 2, display the contents of the 'Subject.txt' file\n",
    "\n",
    "# if they select 3, ask the user to enter a new subject and save it to the file \n",
    "#and then display the entire contents of the file.\n",
    "\n",
    "# Run the program several times to test the options.\n",
    "\n",
    "##############################################################\n",
    "# Fantastic work, saving data to external files is an important programming skill. #\n",
    "##############################################################\n",
    "\n",
    "# Delete file\n",
    "# import os\n",
    "# os.remove('filename.txt')\n",
    "\n",
    "print('1) Create a new file')\n",
    "print('2) Display the file')\n",
    "print('3) Add a new item to the file')\n",
    "\n",
    "n = input('select menu')\n",
    "\n",
    "if n == '1':\n",
    "    subject = input('enter a school subject')\n",
    "    file = open('subjects.txt','w')\n",
    "    file.write(subject)\n",
    "    file.close()\n",
    "elif n == '2':\n",
    "    file = open('subjects.txt','r')\n",
    "    print('--------------------')\n",
    "    print(file.read())\n",
    "elif n == '3':\n",
    "    subject = input('enter a school subject')\n",
    "    file = open('subjects.txt','a')\n",
    "    file.write(subject)\n",
    "    file.close()\n",
    "    file = open('subjects.txt','r')\n",
    "    print(file.read())\n",
    "\n"
   ]
  }
 ],
 "metadata": {
  "interpreter": {
   "hash": "2e54dab210616be9b3d6663ffb1d76c5904517efb8228124904a3d6928262bcf"
  },
  "kernelspec": {
   "display_name": "Python 3.10.0 64-bit",
   "language": "python",
   "name": "python3"
  },
  "language_info": {
   "codemirror_mode": {
    "name": "ipython",
    "version": 3
   },
   "file_extension": ".py",
   "mimetype": "text/x-python",
   "name": "python",
   "nbconvert_exporter": "python",
   "pygments_lexer": "ipython3",
   "version": "3.9.7"
  },
  "orig_nbformat": 4
 },
 "nbformat": 4,
 "nbformat_minor": 2
}

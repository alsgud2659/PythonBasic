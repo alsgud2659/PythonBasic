{
 "cells": [
  {
   "cell_type": "code",
   "execution_count": 1,
   "metadata": {},
   "outputs": [
    {
     "name": "stdout",
     "output_type": "stream",
     "text": [
      "hello 이민형\n"
     ]
    }
   ],
   "source": [
    "# Function (subprograms)\n",
    "\n",
    "# Blocks of code which perform specific tasks and can be called upon at any time in the program to run that code.\n",
    "\n",
    "# Advantages\n",
    "# - it can be used and reused at different times during the program\n",
    "# - it makes the program simpler to understand as the code is grouped together into chunks.\n",
    "\n",
    "def get_name():     #4\n",
    "    user_name = input('enter your name:')   #5\n",
    "    return user_name    #6\n",
    "\n",
    "def print_Msg(user_name):   #9\n",
    "    print('hello', user_name)   #10\n",
    "\n",
    "def main():     #2\n",
    "    user_name = get_name()  #3  #7\n",
    "    print_Msg(user_name)    #8\n",
    "\n",
    "main()  #1"
   ]
  },
  {
   "cell_type": "code",
   "execution_count": 6,
   "metadata": {},
   "outputs": [
    {
     "name": "stdout",
     "output_type": "stream",
     "text": [
      "Hello dlalsgud\n"
     ]
    }
   ],
   "source": [
    "def get_data(): #4\n",
    "    user_name = input('enter your name:')   #5\n",
    "    user_age = int(input('enter your age:'))     #6\n",
    "    data_tuple = (user_name, user_age)      #7\n",
    "    return data_tuple                       #8\n",
    "\n",
    "def message(user_name, user_age):     #11\n",
    "    if user_age <= 10:                 #12\n",
    "        print('Hi', user_name)\n",
    "    else:   #13                           \n",
    "        print('Hello', user_name)   #14\n",
    "\n",
    "def main(): #2\n",
    "    user_name, user_age = get_data() #3 #9\n",
    "    message(user_name, user_age)    #10 (#15)\n",
    "    \n",
    "main()  #1"
   ]
  },
  {
   "cell_type": "code",
   "execution_count": 4,
   "metadata": {},
   "outputs": [
    {
     "name": "stdout",
     "output_type": "stream",
     "text": [
      "5\n"
     ]
    }
   ],
   "source": [
    "# Quiz\n",
    "\n",
    "# Define a subprogram that will ask the user to enter a number and save it as the variable \n",
    "# 'num' . Define another subprogram that will use 'num' and count from 1 to that number.\n",
    "\n",
    "def get_num():\n",
    "    num = int(input('enter a number'))\n",
    "    return num\n",
    "\n",
    "def count_num():\n",
    "    n = get_num()\n",
    "    j = 0\n",
    "    for i in range(1,n+1):\n",
    "        j += 1\n",
    "    print(j)\n",
    "        \n",
    "count_num()"
   ]
  },
  {
   "cell_type": "code",
   "execution_count": 11,
   "metadata": {},
   "outputs": [
    {
     "name": "stdout",
     "output_type": "stream",
     "text": [
      "I am thinking of a number...\n",
      "it is too low\n",
      "it is too low\n",
      "Correct you win\n"
     ]
    }
   ],
   "source": [
    "# Define a subprogram  that will ask the user to  pick a low and a high  number, \n",
    "# and then  generate a random  number between those  two values and store it in  \n",
    "# a variable called  “comp_num”.  Define another  subprogram that will  give the instruction \n",
    "# “I am  thinking of a number…”  and then ask the user to  guess the number \n",
    "# they  are thinking of.  Define a third  subprogram that will  check to see \n",
    "# if the  comp_num is the same  as the user’s guess. If it  is, \n",
    "# it should display the  message “Correct, you  win”, \n",
    "#otherwise it should  keep looping, telling the  user if they are too low or  too high and asking them  to guess again until they  guess correctly. \n",
    "\n",
    "import random\n",
    "\n",
    "def input_num():\n",
    "    num1 = int(input('enter a low number'))\n",
    "    num2 = int(input('enter a high number'))\n",
    "    rnum = random.randint(num1,num2)\n",
    "    \n",
    "    return rnum\n",
    "\n",
    "def guess_num():\n",
    "    comp_num = input_num()\n",
    "    print('I am thinking of a number...')\n",
    "    ans = 0\n",
    "    while check_num(comp_num, ans):\n",
    "        ans = int(input('guess the number:'))\n",
    "        if comp_num < ans:\n",
    "            print('it is too high')\n",
    "        elif comp_num > ans:\n",
    "            print('it is too low') \n",
    "    print('Correct you win')\n",
    "\n",
    "def check_num(co, num):\n",
    "    if co == num:\n",
    "        return False\n",
    "    else:\n",
    "        return True\n",
    "    \n",
    "def start():\n",
    "    guess_num()\n",
    "    \n",
    "start()\n",
    "    \n"
   ]
  }
 ],
 "metadata": {
  "interpreter": {
   "hash": "b3ba2566441a7c06988d0923437866b63cedc61552a5af99d1f4fb67d367b25f"
  },
  "kernelspec": {
   "display_name": "Python 3.9.7 ('base')",
   "language": "python",
   "name": "python3"
  },
  "language_info": {
   "codemirror_mode": {
    "name": "ipython",
    "version": 3
   },
   "file_extension": ".py",
   "mimetype": "text/x-python",
   "name": "python",
   "nbconvert_exporter": "python",
   "pygments_lexer": "ipython3",
   "version": "3.9.7"
  },
  "orig_nbformat": 4
 },
 "nbformat": 4,
 "nbformat_minor": 2
}

{
  "nbformat": 4,
  "nbformat_minor": 0,
  "metadata": {
    "colab": {
      "name": "Untitled1.ipynb",
      "provenance": [],
      "authorship_tag": "ABX9TyN/0BRNgJYAYUPQESyf8R5Q",
      "include_colab_link": true
    },
    "kernelspec": {
      "name": "python3",
      "display_name": "Python 3"
    },
    "language_info": {
      "name": "python"
    }
  },
  "cells": [
    {
      "cell_type": "markdown",
      "metadata": {
        "id": "view-in-github",
        "colab_type": "text"
      },
      "source": [
        "<a href=\"https://colab.research.google.com/github/alsgud2659/ai/blob/main/Untitled1.ipynb\" target=\"_parent\"><img src=\"https://colab.research.google.com/assets/colab-badge.svg\" alt=\"Open In Colab\"/></a>"
      ]
    },
    {
      "cell_type": "code",
      "execution_count": 18,
      "metadata": {
        "colab": {
          "base_uri": "https://localhost:8080/"
        },
        "id": "I-FbWwjbqTnx",
        "outputId": "0594af7f-7394-4d21-e0cb-1cfe8deb0d20"
      },
      "outputs": [
        {
          "output_type": "stream",
          "name": "stdout",
          "text": [
            "나이를 입력하세요24\n",
            "이름을 입력하세요이민형\n",
            "당신의 이름은 이민형이고 나이는24\n",
            "당신의 이름은 이민형 이고 나이는 24 입니다\n",
            "당신의 이름은 이민형 이고 나이는 24입니다\n",
            "당신의 이름은 이민형 이고 나이는24\n",
            "당신의 이름은 이민형 이고 나이는 12입니다\n"
          ]
        }
      ],
      "source": [
        "age = input('나이를 입력하세요')\n",
        "name = input('이름을 입력하세요')\n",
        "\n",
        "print(f'당신의 이름은 {name}이고 나이는{age}')\n",
        "print('당신의 이름은',name,'이고 나이는', age, '입니다')\n",
        "print('당신의 이름은 %s 이고 나이는 %s입니다'%(name, age))\n",
        "print('당신의 이름은 {} 이고 나이는{}'.format(name, age))\n"
      ]
    },
    {
      "cell_type": "code",
      "source": [
        "a = int(123.123)\n",
        "b = '123'\n",
        "\n",
        "print(type(a), a)\n",
        "print(type(b), b)"
      ],
      "metadata": {
        "colab": {
          "base_uri": "https://localhost:8080/"
        },
        "id": "IjZsKyLz9WoE",
        "outputId": "40401ef1-19d4-45df-bc3a-65b83afd9b6e"
      },
      "execution_count": 23,
      "outputs": [
        {
          "output_type": "stream",
          "name": "stdout",
          "text": [
            "<class 'int'> 123\n",
            "<class 'str'> 123\n"
          ]
        }
      ]
    },
    {
      "cell_type": "code",
      "source": [
        "month = int(input('할부개월입력'))\n",
        "cost = 50000 / month\n",
        "\n",
        "print(f'{month}개월 동안 매월 내는 금액은 {50000 / month} 입니다.')\n",
        "print(month,'개월 동안 매월 내는 금액은',cost, '입니다')\n",
        "print('%d개월 동안 매월 내는 금액은 %d입니다' %(month, cost))\n",
        "print('{}개월 동안 내는 금액은 {} 입니다'.format(month, cost))\n"
      ],
      "metadata": {
        "colab": {
          "base_uri": "https://localhost:8080/"
        },
        "id": "0piaetw491lk",
        "outputId": "6dc6640f-da34-47ca-8783-5210d08caaa9"
      },
      "execution_count": 24,
      "outputs": [
        {
          "output_type": "stream",
          "name": "stdout",
          "text": [
            "할부개월입력10\n",
            "10개월 동안 매월 내는 금액은 5000.0 입니다.\n",
            "10 개월 동안 매월 내는 금액은 5000.0 입니다\n",
            "10개월 동안 매월 내는 금액은 5000입니다\n",
            "10개월 동안 내는 금액은 5000.0 입니다\n"
          ]
        }
      ]
    },
    {
      "cell_type": "code",
      "source": [
        "real1 = float(input('실수1'))\n",
        "real2 = float(input('실수2'))\n",
        "sum = real1 + real2\n",
        "\n",
        "print(f'{real1}과 {real2}의 합계는 {real1 + real2}.')\n",
        "print(real1,'과', real2,'의 합계는', sum)\n",
        "print('%f과 %f의 합계는 %f입니다' %(real1, real2, sum))\n",
        "print('{}과 {}의 합계는 {}'.format(real1, real2, sum))\n"
      ],
      "metadata": {
        "colab": {
          "base_uri": "https://localhost:8080/"
        },
        "id": "Ir0o8Z_hFFfQ",
        "outputId": "9fda7573-312a-4c25-8443-0db830eda7e1"
      },
      "execution_count": 25,
      "outputs": [
        {
          "output_type": "stream",
          "name": "stdout",
          "text": [
            "실수11.2\n",
            "실수21.9\n",
            "1.2과 1.9의 합계는 3.0999999999999996.\n",
            "1.2 과 1.9 의 합계는 3.0999999999999996\n",
            "1.200000과 1.900000의 합계는 3.100000입니다\n",
            "1.2과 1.9의 합계는 3.0999999999999996\n"
          ]
        }
      ]
    }
  ]
}